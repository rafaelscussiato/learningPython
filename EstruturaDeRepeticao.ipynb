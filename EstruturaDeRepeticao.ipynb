{
 "cells": [
  {
   "cell_type": "code",
   "execution_count": 17,
   "id": "8942c81c",
   "metadata": {
    "scrolled": true
   },
   "outputs": [
    {
     "name": "stdout",
     "output_type": "stream",
     "text": [
      "Digite uma nota de 0 a 10: 12\n",
      "Nota inválida! Digite uma nota de 0 a 10: 13\n",
      "Nota inválida! Digite uma nota de 0 a 10: 15\n",
      "Nota inválida! Digite uma nota de 0 a 10: 14\n",
      "Nota inválida! Digite uma nota de 0 a 10: 16\n",
      "Nota inválida! Digite uma nota de 0 a 10: 9\n",
      "Obrigado pela nota 9.\n"
     ]
    }
   ],
   "source": [
    "# Exercício 01\n",
    "# Faça um programa que peça uma nota, entre zero e dez. \n",
    "# Mostre uma mensagem caso o valor seja inválido e continue pedindo até que o usuário informe um valor válido.\n",
    "\n",
    "nota = int(input(\"Digite uma nota de 0 a 10: \"))\n",
    "\n",
    "while (nota < 0) or (nota > 10):\n",
    "    nota = int(input(\"Nota inválida! Digite uma nota de 0 a 10: \"))\n",
    "\n",
    "print(f\"Obrigado pela nota {nota}.\")\n",
    "        "
   ]
  },
  {
   "cell_type": "code",
   "execution_count": 18,
   "id": "7af139ac",
   "metadata": {},
   "outputs": [
    {
     "name": "stdout",
     "output_type": "stream",
     "text": [
      "Escolha um nome de usuário: rafaelscussiato\n",
      "Escolha sua senha: rafaelscussiato\n",
      "Sua senha não pode ser igual ao seu nome de usuário.\n",
      "Escolha outra senha: oi\n",
      "Obrigado rafaelscussiato, seus dados foram salvos.\n"
     ]
    }
   ],
   "source": [
    "# Exercício 02\n",
    "# Faça um programa que leia um nome de usuário e a sua senha e não aceite a senha igual ao nome do usuário,\n",
    "# mostrando uma mensagem de erro e voltando a pedir as informações.\n",
    "\n",
    "nome_usuario = input(\"Escolha um nome de usuário: \")\n",
    "senha = input(\"Escolha sua senha: \")\n",
    "\n",
    "while (senha == nome_usuario):\n",
    "    print(\"Sua senha não pode ser igual ao seu nome de usuário.\")\n",
    "    senha = input(\"Escolha outra senha: \")\n",
    "    \n",
    "print(f\"Obrigado {nome_usuario}, seus dados foram salvos.\")"
   ]
  },
  {
   "cell_type": "code",
   "execution_count": null,
   "id": "6d34677f",
   "metadata": {},
   "outputs": [],
   "source": []
  }
 ],
 "metadata": {
  "kernelspec": {
   "display_name": "Python 3 (ipykernel)",
   "language": "python",
   "name": "python3"
  },
  "language_info": {
   "codemirror_mode": {
    "name": "ipython",
    "version": 3
   },
   "file_extension": ".py",
   "mimetype": "text/x-python",
   "name": "python",
   "nbconvert_exporter": "python",
   "pygments_lexer": "ipython3",
   "version": "3.10.0"
  }
 },
 "nbformat": 4,
 "nbformat_minor": 5
}
