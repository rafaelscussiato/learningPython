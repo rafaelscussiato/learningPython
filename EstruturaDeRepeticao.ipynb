{
 "cells": [
  {
   "cell_type": "code",
   "execution_count": 4,
   "id": "8942c81c",
   "metadata": {
    "scrolled": true
   },
   "outputs": [
    {
     "name": "stdout",
     "output_type": "stream",
     "text": [
      "Digite uma nota de 0 a 10: 12\n",
      "Nota inválida! Digite uma nota de 0 a 10: 13\n",
      "Nota inválida! Digite uma nota de 0 a 10: 15\n",
      "Nota inválida! Digite uma nota de 0 a 10: 16\n",
      "Nota inválida! Digite uma nota de 0 a 10: 5\n",
      "Obrigado pela nota 5.\n"
     ]
    }
   ],
   "source": [
    "# Exercício 01\n",
    "# Faça um programa que peça uma nota, entre zero e dez. \n",
    "# Mostre uma mensagem caso o valor seja inválido e continue pedindo até que o usuário informe um valor válido.\n",
    "\n",
    "nota = int(input(\"Digite uma nota de 0 a 10: \"))\n",
    "\n",
    "while (nota < 0) or (nota > 10):\n",
    "    nota = int(input(\"Nota inválida! Digite uma nota de 0 a 10: \"))\n",
    "\n",
    "print(f\"Obrigado pela nota {nota}.\")\n",
    "        "
   ]
  },
  {
   "cell_type": "code",
   "execution_count": 5,
   "id": "7af139ac",
   "metadata": {},
   "outputs": [
    {
     "name": "stdout",
     "output_type": "stream",
     "text": [
      "Escolha um nome de usuário: rafaelscussiato\n",
      "Escolha sua senha: rafaelscussiato\n",
      "\n",
      "Sua senha não pode ser igual ao seu nome de usuário.\n",
      "Escolha outra senha: senha_forte\n",
      "\n",
      "Obrigado rafaelscussiato, seus dados foram salvos.\n"
     ]
    }
   ],
   "source": [
    "# Exercício 02\n",
    "# Faça um programa que leia um nome de usuário e a sua senha e não aceite a senha igual ao nome do usuário,\n",
    "# mostrando uma mensagem de erro e voltando a pedir as informações.\n",
    "\n",
    "nome_usuario = input(\"Escolha um nome de usuário: \")\n",
    "senha = input(\"Escolha sua senha: \")\n",
    "\n",
    "while (senha == nome_usuario):\n",
    "    print(\"\\nSua senha não pode ser igual ao seu nome de usuário.\")\n",
    "    senha = input(\"Escolha outra senha: \")\n",
    "    \n",
    "\n",
    "    print(f\"\\nObrigado {nome_usuario}, seus dados foram salvos.\")"
   ]
  },
  {
   "cell_type": "code",
   "execution_count": 6,
   "id": "6d34677f",
   "metadata": {
    "scrolled": false
   },
   "outputs": [
    {
     "name": "stdout",
     "output_type": "stream",
     "text": [
      "Digite seu nome: asdf\n",
      "Digite sua idade: 150\n",
      "Digite seu salário: 105\n",
      "Digite seu sexo: (F ou M) f\n",
      "Digite seu sexo: (F ou M) F\n",
      "Digite seu sexo: (F ou M) M\n",
      "Digite seu sexo: (F ou M) M\n",
      "Digite seu sexo: (F ou M) m\n"
     ]
    },
    {
     "ename": "KeyboardInterrupt",
     "evalue": "Interrupted by user",
     "output_type": "error",
     "traceback": [
      "\u001b[1;31m---------------------------------------------------------------------------\u001b[0m",
      "\u001b[1;31mKeyboardInterrupt\u001b[0m                         Traceback (most recent call last)",
      "\u001b[1;32m~\\AppData\\Local\\Temp/ipykernel_3960/1104178066.py\u001b[0m in \u001b[0;36m<module>\u001b[1;34m\u001b[0m\n\u001b[0;32m     18\u001b[0m \u001b[0msexo\u001b[0m \u001b[1;33m=\u001b[0m \u001b[0minput\u001b[0m\u001b[1;33m(\u001b[0m\u001b[1;34m'Digite seu sexo: (F ou M) '\u001b[0m\u001b[1;33m)\u001b[0m\u001b[1;33m\u001b[0m\u001b[1;33m\u001b[0m\u001b[0m\n\u001b[0;32m     19\u001b[0m \u001b[1;32mwhile\u001b[0m \u001b[1;33m(\u001b[0m \u001b[0msexo\u001b[0m \u001b[1;33m!=\u001b[0m \u001b[1;34m\"F\"\u001b[0m \u001b[1;33m)\u001b[0m \u001b[1;32mor\u001b[0m \u001b[1;33m(\u001b[0m \u001b[0msexo\u001b[0m \u001b[1;33m!=\u001b[0m \u001b[1;34m\"M\"\u001b[0m \u001b[1;33m)\u001b[0m\u001b[1;33m:\u001b[0m\u001b[1;33m\u001b[0m\u001b[1;33m\u001b[0m\u001b[0m\n\u001b[1;32m---> 20\u001b[1;33m     \u001b[0msexo\u001b[0m \u001b[1;33m=\u001b[0m \u001b[0minput\u001b[0m\u001b[1;33m(\u001b[0m\u001b[1;34m'Digite seu sexo: (F ou M) '\u001b[0m\u001b[1;33m)\u001b[0m\u001b[1;33m\u001b[0m\u001b[1;33m\u001b[0m\u001b[0m\n\u001b[0m\u001b[0;32m     21\u001b[0m \u001b[1;33m\u001b[0m\u001b[0m\n\u001b[0;32m     22\u001b[0m \u001b[0mestado_civil\u001b[0m \u001b[1;33m=\u001b[0m \u001b[0minput\u001b[0m\u001b[1;33m(\u001b[0m\u001b[1;34m'Digite seu estado Civil: (S) para Solteiro, (C) para Casado, (V) para Viúvo ou (D) para Divorciado: '\u001b[0m\u001b[1;33m)\u001b[0m\u001b[1;33m.\u001b[0m\u001b[0mupper\u001b[0m\u001b[1;33m(\u001b[0m\u001b[1;33m)\u001b[0m\u001b[1;33m\u001b[0m\u001b[1;33m\u001b[0m\u001b[0m\n",
      "\u001b[1;32m~\\anaconda3\\lib\\site-packages\\ipykernel\\kernelbase.py\u001b[0m in \u001b[0;36mraw_input\u001b[1;34m(self, prompt)\u001b[0m\n\u001b[0;32m   1004\u001b[0m                 \u001b[1;34m\"raw_input was called, but this frontend does not support input requests.\"\u001b[0m\u001b[1;33m\u001b[0m\u001b[1;33m\u001b[0m\u001b[0m\n\u001b[0;32m   1005\u001b[0m             )\n\u001b[1;32m-> 1006\u001b[1;33m         return self._input_request(\n\u001b[0m\u001b[0;32m   1007\u001b[0m             \u001b[0mstr\u001b[0m\u001b[1;33m(\u001b[0m\u001b[0mprompt\u001b[0m\u001b[1;33m)\u001b[0m\u001b[1;33m,\u001b[0m\u001b[1;33m\u001b[0m\u001b[1;33m\u001b[0m\u001b[0m\n\u001b[0;32m   1008\u001b[0m             \u001b[0mself\u001b[0m\u001b[1;33m.\u001b[0m\u001b[0m_parent_ident\u001b[0m\u001b[1;33m[\u001b[0m\u001b[1;34m\"shell\"\u001b[0m\u001b[1;33m]\u001b[0m\u001b[1;33m,\u001b[0m\u001b[1;33m\u001b[0m\u001b[1;33m\u001b[0m\u001b[0m\n",
      "\u001b[1;32m~\\anaconda3\\lib\\site-packages\\ipykernel\\kernelbase.py\u001b[0m in \u001b[0;36m_input_request\u001b[1;34m(self, prompt, ident, parent, password)\u001b[0m\n\u001b[0;32m   1049\u001b[0m             \u001b[1;32mexcept\u001b[0m \u001b[0mKeyboardInterrupt\u001b[0m\u001b[1;33m:\u001b[0m\u001b[1;33m\u001b[0m\u001b[1;33m\u001b[0m\u001b[0m\n\u001b[0;32m   1050\u001b[0m                 \u001b[1;31m# re-raise KeyboardInterrupt, to truncate traceback\u001b[0m\u001b[1;33m\u001b[0m\u001b[1;33m\u001b[0m\u001b[0m\n\u001b[1;32m-> 1051\u001b[1;33m                 \u001b[1;32mraise\u001b[0m \u001b[0mKeyboardInterrupt\u001b[0m\u001b[1;33m(\u001b[0m\u001b[1;34m\"Interrupted by user\"\u001b[0m\u001b[1;33m)\u001b[0m \u001b[1;32mfrom\u001b[0m \u001b[1;32mNone\u001b[0m\u001b[1;33m\u001b[0m\u001b[1;33m\u001b[0m\u001b[0m\n\u001b[0m\u001b[0;32m   1052\u001b[0m             \u001b[1;32mexcept\u001b[0m \u001b[0mException\u001b[0m\u001b[1;33m:\u001b[0m\u001b[1;33m\u001b[0m\u001b[1;33m\u001b[0m\u001b[0m\n\u001b[0;32m   1053\u001b[0m                 \u001b[0mself\u001b[0m\u001b[1;33m.\u001b[0m\u001b[0mlog\u001b[0m\u001b[1;33m.\u001b[0m\u001b[0mwarning\u001b[0m\u001b[1;33m(\u001b[0m\u001b[1;34m\"Invalid Message:\"\u001b[0m\u001b[1;33m,\u001b[0m \u001b[0mexc_info\u001b[0m\u001b[1;33m=\u001b[0m\u001b[1;32mTrue\u001b[0m\u001b[1;33m)\u001b[0m\u001b[1;33m\u001b[0m\u001b[1;33m\u001b[0m\u001b[0m\n",
      "\u001b[1;31mKeyboardInterrupt\u001b[0m: Interrupted by user"
     ]
    }
   ],
   "source": [
    "# Exercício 03\n",
    "# Faça um programa que leia e valide as seguintes informações:\n",
    "# Nome: maior que 3 caracteres; # Idade: entre 0 e 150; # Salário: maior que zero;\n",
    "# Sexo: 'f' ou 'm'; # Estado Civil: 's', 'c', 'v', 'd';\n",
    "\n",
    "nome = input('Digite seu nome: ')\n",
    "while len(nome) <= 3:\n",
    "    nome = input('Digite seu nome: ')\n",
    "        \n",
    "idade = int(input('Digite sua idade: '))\n",
    "while idade > 150 or idade < 0:\n",
    "    idade = int(input('Digite sua idade: '))\n",
    "        \n",
    "salario = float(input('Digite seu salário: '))\n",
    "while salario < 0:\n",
    "    salario = int(input('Digite sua salário: '))\n",
    "\n",
    "sexo = input('Digite seu sexo: (F ou M) ').upper()\n",
    "while not ( sexo != \"F\" ) or ( sexo != \"F\" ):\n",
    "    sexo = input('Digite seu sexo: (F ou M) ').upper()\n",
    "\n",
    "estado_civil = input('Digite seu estado Civil: (S) para Solteiro, (C) para Casado, (V) para Viúvo ou (D) para Divorciado: ').upper()\n",
    "while estado_civil != \"S\" or estado_civil != \"C\" or estado_civil != \"V\" or estado_civil != \"D\":\n",
    "    estado_civil = input('Digite seu estado Civil: (S) para Solteiro, (C) para Casado, (V) para Viúvo ou (D) para Divorciado: ').upper()"
   ]
  },
  {
   "cell_type": "code",
   "execution_count": 11,
   "id": "2caf03e0",
   "metadata": {},
   "outputs": [
    {
     "name": "stdout",
     "output_type": "stream",
     "text": [
      "Para que a população do país A supere a do país B, são necessários 63 anos.\n"
     ]
    }
   ],
   "source": [
    "# Exercício 04\n",
    "# Supondo que a população de um país A seja da ordem de 80.000 habitantes com uma taxa anual de crescimento de 3% e que \n",
    "# a população de B seja 200.000 habitantes com uma taxa de crescimento de 1.5%. Faça um programa que calcule e escreva o \n",
    "# número de anos necessários para que a população do país A ultrapasse ou iguale a população do país B, mantidas as \n",
    "# taxas de crescimento.\n",
    "\n",
    "pais_a = 80000\n",
    "pais_b = 200000\n",
    "anos = 0\n",
    "\n",
    "while pais_a < pais_b:\n",
    "    pais_a = pais_a + pais_a*0.03\n",
    "    pais_b = pais_b + pais_b*0.015\n",
    "    anos += 1\n",
    "\n",
    "print(f'Para que a população do país A supere a do país B, são necessários {anos} anos.')"
   ]
  },
  {
   "cell_type": "code",
   "execution_count": 15,
   "id": "a78e4ef2",
   "metadata": {},
   "outputs": [
    {
     "name": "stdout",
     "output_type": "stream",
     "text": [
      "Digite a população do país \"A\" com menor população: 80000\n",
      "Digite a taxa de crescimento deste país em percentual: 3\n",
      "Digite a população do país \"B\" com maior população: 200000\n",
      "Digite a taxa de crescimento deste país em percentual: 1.5\n",
      "Para que a população do país A supere a do país B, são necessários 63 anos.\n"
     ]
    }
   ],
   "source": [
    "# Exercício 05\n",
    "# Altere o programa anterior permitindo ao usuário informar as populações e as taxas de crescimento iniciais. \n",
    "# Valide a entrada e permita repetir a operação.\n",
    "\n",
    "pais_a = int(input('Digite a população do país \"A\" com menor população: '))\n",
    "crescimento_a = float(input('Digite a taxa de crescimento deste país em percentual: '))\n",
    "pais_b = int(input('Digite a população do país \"B\" com maior população: '))\n",
    "crescimento_b = float(input('Digite a taxa de crescimento deste país em percentual: '))\n",
    "anos = 0\n",
    "crescimento_a = (crescimento_a/100)\n",
    "crescimento_b = (crescimento_b/100) \n",
    "\n",
    "while pais_a < pais_b:\n",
    "    pais_a = pais_a + pais_a*crescimento_a\n",
    "    pais_b = pais_b + pais_b*crescimento_b\n",
    "    anos += 1\n",
    "\n",
    "print(f'Para que a população do país A supere a do país B, são necessários {anos} anos.')"
   ]
  },
  {
   "cell_type": "code",
   "execution_count": 9,
   "id": "ece45adc",
   "metadata": {},
   "outputs": [
    {
     "name": "stdout",
     "output_type": "stream",
     "text": [
      "1 2 3 4 5 6 7 8 9 10 11 12 13 14 15 16 17 18 19 20 "
     ]
    }
   ],
   "source": [
    "# Exercício 06\n",
    "# Faça um programa que imprima na tela os números de 1 a 20, um abaixo do outro.\n",
    "# Depois modifique o programa para que ele mostre os números um ao lado do outro.\n",
    "\n",
    "num = 1\n",
    "while num <= 20:\n",
    "    print(num, end=' ') #modificação incluindo -> , end=' '\n",
    "    num += 1"
   ]
  },
  {
   "cell_type": "code",
   "execution_count": 16,
   "id": "6cfdaf0d",
   "metadata": {
    "scrolled": true
   },
   "outputs": [
    {
     "name": "stdout",
     "output_type": "stream",
     "text": [
      "Digite um número: 1\n",
      "Digite um número: 10\n",
      "Digite um número: 90\n",
      "Digite um número: 3\n",
      "Digite um número: 2\n",
      "O maior número é 90\n"
     ]
    }
   ],
   "source": [
    "# Exercício 07\n",
    "# Faça um programa que leia 5 números e informe o maior número.\n",
    "\n",
    "lista = []\n",
    "\n",
    "while len(lista) < 5:\n",
    "    lista.append(input('Digite um número: '))\n",
    "\n",
    "lista.sort(reverse = True)\n",
    "print(f'O maior número é {lista[0]}')"
   ]
  },
  {
   "cell_type": "code",
   "execution_count": null,
   "id": "278e6abd",
   "metadata": {},
   "outputs": [],
   "source": []
  }
 ],
 "metadata": {
  "kernelspec": {
   "display_name": "Python 3 (ipykernel)",
   "language": "python",
   "name": "python3"
  },
  "language_info": {
   "codemirror_mode": {
    "name": "ipython",
    "version": 3
   },
   "file_extension": ".py",
   "mimetype": "text/x-python",
   "name": "python",
   "nbconvert_exporter": "python",
   "pygments_lexer": "ipython3",
   "version": "3.9.7"
  }
 },
 "nbformat": 4,
 "nbformat_minor": 5
}
