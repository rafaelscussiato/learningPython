{
 "cells": [
  {
   "cell_type": "code",
   "execution_count": 4,
   "id": "8942c81c",
   "metadata": {
    "scrolled": true
   },
   "outputs": [
    {
     "name": "stdout",
     "output_type": "stream",
     "text": [
      "Digite uma nota de 0 a 10: 12\n",
      "Nota inválida! Digite uma nota de 0 a 10: 13\n",
      "Nota inválida! Digite uma nota de 0 a 10: 15\n",
      "Nota inválida! Digite uma nota de 0 a 10: 16\n",
      "Nota inválida! Digite uma nota de 0 a 10: 5\n",
      "Obrigado pela nota 5.\n"
     ]
    }
   ],
   "source": [
    "# Exercício 01\n",
    "# Faça um programa que peça uma nota, entre zero e dez. \n",
    "# Mostre uma mensagem caso o valor seja inválido e continue pedindo até que o usuário informe um valor válido.\n",
    "\n",
    "nota = int(input(\"Digite uma nota de 0 a 10: \"))\n",
    "\n",
    "while (nota < 0) or (nota > 10):\n",
    "    nota = int(input(\"Nota inválida! Digite uma nota de 0 a 10: \"))\n",
    "\n",
    "print(f\"Nota {nota}.\")\n",
    "        "
   ]
  },
  {
   "cell_type": "code",
   "execution_count": 5,
   "id": "7af139ac",
   "metadata": {},
   "outputs": [
    {
     "name": "stdout",
     "output_type": "stream",
     "text": [
      "Escolha um nome de usuário: rafaelscussiato\n",
      "Escolha sua senha: rafaelscussiato\n",
      "\n",
      "Sua senha não pode ser igual ao seu nome de usuário.\n",
      "Escolha outra senha: senha_forte\n",
      "\n",
      "Obrigado rafaelscussiato, seus dados foram salvos.\n"
     ]
    }
   ],
   "source": [
    "# Exercício 02\n",
    "# Faça um programa que leia um nome de usuário e a sua senha e não aceite a senha igual ao nome do usuário,\n",
    "# mostrando uma mensagem de erro e voltando a pedir as informações.\n",
    "\n",
    "nome_usuario = input(\"Escolha um nome de usuário: \")\n",
    "senha = input(\"Escolha sua senha: \")\n",
    "\n",
    "while (senha == nome_usuario):\n",
    "    print(\"\\nSua senha não pode ser igual ao seu nome de usuário.\")\n",
    "    senha = input(\"Escolha outra senha: \")\n",
    "    \n",
    "print(f\"\\nObrigado {nome_usuario}, seus dados foram salvos.\")"
   ]
  },
  {
   "cell_type": "code",
   "execution_count": 25,
   "id": "6d34677f",
   "metadata": {
    "scrolled": false
   },
   "outputs": [
    {
     "name": "stdout",
     "output_type": "stream",
     "text": [
      "Digite seu nome: oi\n",
      "Digite seu nome: Rafael\n",
      "Digite sua idade: 160\n",
      "Digite sua idade: -10\n",
      "Digite sua idade: 33\n",
      "Digite seu salário: -500\n",
      "Digite sua salário: 2000\n",
      "Digite seu sexo: (F ou M) h\n",
      "Digite seu sexo: (F ou M) g\n",
      "Digite seu sexo: (F ou M) m\n",
      "Digite seu estado Civil: (S) para Solteiro, (C) para Casado, (V) para Viúvo ou (D) para Divorciado: t\n",
      "Digite seu estado Civil: (S) para Solteiro, (C) para Casado, (V) para Viúvo ou (D) para Divorciado: r\n",
      "Digite seu estado Civil: (S) para Solteiro, (C) para Casado, (V) para Viúvo ou (D) para Divorciado: c\n",
      "Nome: Rafael; Idade: 33; Salário: R$2000; Estado Civil: Casado(a)\n"
     ]
    }
   ],
   "source": [
    "# Exercício 03\n",
    "# Faça um programa que leia e valide as seguintes informações:\n",
    "# Nome: maior que 3 caracteres; # Idade: entre 0 e 150; # Salário: maior que zero;\n",
    "# Sexo: 'f' ou 'm'; # Estado Civil: 's', 'c', 'v', 'd';\n",
    "\n",
    "nome = input('Digite seu nome: ')\n",
    "while len(nome) <= 3:\n",
    "    nome = input('Digite seu nome: ')\n",
    "        \n",
    "idade = int(input('Digite sua idade: '))\n",
    "while idade > 150 or idade < 0:\n",
    "    idade = int(input('Digite sua idade: '))\n",
    "        \n",
    "salario = float(input('Digite seu salário: '))\n",
    "while salario < 0:\n",
    "    salario = int(input('Digite sua salário: '))\n",
    "\n",
    "sexo = input('Digite seu sexo: (F ou M) ').upper()\n",
    "while ( sexo != \"F\" ) and ( sexo != \"M\" ):\n",
    "    sexo = input('Digite seu sexo: (F ou M) ').upper()\n",
    "\n",
    "estado_civil = input('Digite seu estado Civil: (S) para Solteiro, (C) para Casado, (V) para Viúvo ou (D) para Divorciado: ').upper()\n",
    "while estado_civil != \"S\" and estado_civil != \"C\" and estado_civil != \"V\" and estado_civil != \"D\":\n",
    "    estado_civil = input('Digite seu estado Civil: (S) para Solteiro, (C) para Casado, (V) para Viúvo ou (D) para Divorciado: ').upper()\n",
    "\n",
    "if estado_civil == \"S\":\n",
    "    estado_civil = \"Solteiro(a)\"\n",
    "elif estado_civil == \"C\":\n",
    "    estado_civil = \"Casado(a)\"\n",
    "elif estado_civil == \"V\":\n",
    "    estado_civil = \"Viúvo(a)\"\n",
    "elif estado_civil == \"D\":\n",
    "    estado_civil = \"Divorciado(a)\"\n",
    "    \n",
    "print(f'Nome: {nome}; Idade: {idade}; Salário: R${salario}; Estado Civil: {estado_civil}.')"
   ]
  },
  {
   "cell_type": "code",
   "execution_count": 11,
   "id": "2caf03e0",
   "metadata": {},
   "outputs": [
    {
     "name": "stdout",
     "output_type": "stream",
     "text": [
      "Para que a população do país A supere a do país B, são necessários 63 anos.\n"
     ]
    }
   ],
   "source": [
    "# Exercício 04\n",
    "# Supondo que a população de um país A seja da ordem de 80.000 habitantes com uma taxa anual de crescimento de 3% e que \n",
    "# a população de B seja 200.000 habitantes com uma taxa de crescimento de 1.5%. Faça um programa que calcule e escreva o \n",
    "# número de anos necessários para que a população do país A ultrapasse ou iguale a população do país B, mantidas as \n",
    "# taxas de crescimento.\n",
    "\n",
    "pais_a = 80000\n",
    "pais_b = 200000\n",
    "anos = 0\n",
    "\n",
    "while pais_a < pais_b:\n",
    "    pais_a = pais_a + pais_a*0.03\n",
    "    pais_b = pais_b + pais_b*0.015\n",
    "    anos += 1\n",
    "\n",
    "print(f'Para que a população do país A supere a do país B, são necessários {anos} anos.')"
   ]
  },
  {
   "cell_type": "code",
   "execution_count": 15,
   "id": "a78e4ef2",
   "metadata": {},
   "outputs": [
    {
     "name": "stdout",
     "output_type": "stream",
     "text": [
      "Digite a população do país \"A\" com menor população: 80000\n",
      "Digite a taxa de crescimento deste país em percentual: 3\n",
      "Digite a população do país \"B\" com maior população: 200000\n",
      "Digite a taxa de crescimento deste país em percentual: 1.5\n",
      "Para que a população do país A supere a do país B, são necessários 63 anos.\n"
     ]
    }
   ],
   "source": [
    "# Exercício 05\n",
    "# Altere o programa anterior permitindo ao usuário informar as populações e as taxas de crescimento iniciais. \n",
    "# Valide a entrada e permita repetir a operação.\n",
    "\n",
    "pais_a = int(input('Digite a população do país \"A\" com menor população: '))\n",
    "crescimento_a = float(input('Digite a taxa de crescimento deste país em percentual: '))\n",
    "pais_b = int(input('Digite a população do país \"B\" com maior população: '))\n",
    "crescimento_b = float(input('Digite a taxa de crescimento deste país em percentual: '))\n",
    "anos = 0\n",
    "crescimento_a = (crescimento_a/100)\n",
    "crescimento_b = (crescimento_b/100) \n",
    "\n",
    "while pais_a < pais_b:\n",
    "    pais_a = pais_a + pais_a*crescimento_a\n",
    "    pais_b = pais_b + pais_b*crescimento_b\n",
    "    anos += 1\n",
    "\n",
    "print(f'Para que a população do país A supere a do país B, são necessários {anos} anos.')"
   ]
  },
  {
   "cell_type": "code",
   "execution_count": 9,
   "id": "ece45adc",
   "metadata": {},
   "outputs": [
    {
     "name": "stdout",
     "output_type": "stream",
     "text": [
      "1 2 3 4 5 6 7 8 9 10 11 12 13 14 15 16 17 18 19 20 "
     ]
    }
   ],
   "source": [
    "# Exercício 06\n",
    "# Faça um programa que imprima na tela os números de 1 a 20, um abaixo do outro.\n",
    "# Depois modifique o programa para que ele mostre os números um ao lado do outro.\n",
    "\n",
    "num = 1\n",
    "while num <= 20:\n",
    "    print(num, end=' ') #modificação incluindo -> , end=' '\n",
    "    num += 1"
   ]
  },
  {
   "cell_type": "code",
   "execution_count": 16,
   "id": "6cfdaf0d",
   "metadata": {
    "scrolled": true
   },
   "outputs": [
    {
     "name": "stdout",
     "output_type": "stream",
     "text": [
      "Digite um número: 1\n",
      "Digite um número: 10\n",
      "Digite um número: 90\n",
      "Digite um número: 3\n",
      "Digite um número: 2\n",
      "O maior número é 90\n"
     ]
    }
   ],
   "source": [
    "# Exercício 07\n",
    "# Faça um programa que leia 5 números e informe o maior número.\n",
    "\n",
    "lista = []\n",
    "\n",
    "while len(lista) < 5:\n",
    "    lista.append(input('Digite um número: '))\n",
    "\n",
    "lista.sort(reverse = True)\n",
    "print(f'O maior número é {lista[0]}')"
   ]
  },
  {
   "cell_type": "code",
   "execution_count": 18,
   "id": "278e6abd",
   "metadata": {},
   "outputs": [
    {
     "name": "stdout",
     "output_type": "stream",
     "text": [
      "Digite um número: 4\n",
      "Digite um número: 5\n",
      "Digite um número: 9\n",
      "Digite um número: 6\n",
      "Digite um número: 3\n",
      "5.4\n"
     ]
    }
   ],
   "source": [
    "# Exercício 08\n",
    "# Faça um programa que leia 5 números e informe a soma e a média dos números.\n",
    "\n",
    "numeros = []\n",
    "\n",
    "while len(numeros) < 5:\n",
    "    numeros.append(input('Digite um número: '))\n",
    "    \n",
    "media = (sum(int(i) for i in numeros))/len(numeros)\n",
    "print(media)"
   ]
  },
  {
   "cell_type": "code",
   "execution_count": 23,
   "id": "b0703d4a",
   "metadata": {},
   "outputs": [
    {
     "name": "stdout",
     "output_type": "stream",
     "text": [
      "1 3 5 7 9 11 13 15 17 19 21 23 25 27 29 31 33 35 37 39 41 43 45 47 49 "
     ]
    }
   ],
   "source": [
    "# Exercício 09\n",
    "# Faça um programa que imprima na tela apenas os números ímpares entre 1 e 50.\n",
    "\n",
    "num = 1\n",
    "while num <= 50:\n",
    "    if (num % 2) == 1:\n",
    "        print(num, end=' ')\n",
    "    num += 1"
   ]
  },
  {
   "cell_type": "code",
   "execution_count": 12,
   "id": "f3c57c00",
   "metadata": {},
   "outputs": [
    {
     "name": "stdout",
     "output_type": "stream",
     "text": [
      "Digite um número inteiro: 95\n",
      "Digite outro número inteiro: 72\n",
      "Os números inteiros entre 72 e 95 são:\n",
      "73 74 75 76 77 78 79 80 81 82 83 84 85 86 87 88 89 90 91 92 93 94 "
     ]
    }
   ],
   "source": [
    "# Exercício 10\n",
    "# Faça um programa que receba dois números inteiros e gere os números inteiros que estão no intervalo compreendido por eles.\n",
    "\n",
    "numero1 = int(input('Digite um número inteiro: '))\n",
    "numero2 = int(input('Digite outro número inteiro: '))\n",
    "\n",
    "if numero1 < numero2:\n",
    "    print(f'Os números inteiros entre {numero1} e {numero2} são:')\n",
    "    numero1 += 1\n",
    "    while numero1 != numero2:\n",
    "        print(numero1, end=' ')\n",
    "        numero1 += 1\n",
    "else:\n",
    "    print(f'Os números inteiros entre {numero2} e {numero1} são:')\n",
    "    numero2 += 1\n",
    "    while numero2 != numero1:\n",
    "        print(numero2, end=' ')\n",
    "        numero2 += 1"
   ]
  },
  {
   "cell_type": "code",
   "execution_count": 17,
   "id": "543df58a",
   "metadata": {},
   "outputs": [
    {
     "name": "stdout",
     "output_type": "stream",
     "text": [
      "Digite um número inteiro: 10\n",
      "Digite outro número inteiro: 14\n",
      "Os números inteiros entre 10 e 14 são:\n",
      "11 12 13 \n",
      "A soma desses números é igual a 36.\n"
     ]
    }
   ],
   "source": [
    "# Exercício 11\n",
    "# Altere o programa anterior para mostrar no final a soma dos números.\n",
    "\n",
    "numero1 = int(input('Digite um número inteiro: '))\n",
    "numero2 = int(input('Digite outro número inteiro: '))\n",
    "lista = []\n",
    "\n",
    "if numero1 < numero2:\n",
    "    print(f'Os números inteiros entre {numero1} e {numero2} são:')\n",
    "    numero1 += 1\n",
    "    while numero1 != numero2:\n",
    "        print(numero1, end=' ')\n",
    "        lista.append(numero1)\n",
    "        numero1 += 1\n",
    "else:\n",
    "    print(f'Os números inteiros entre {numero2} e {numero1} são:')\n",
    "    numero2 += 1\n",
    "    while numero2 != numero1:\n",
    "        print(numero2, end=' ')\n",
    "        lista.append(numero2)\n",
    "        numero2 += 1\n",
    "        \n",
    "print(f'\\nA soma desses números é igual a {sum(int(i) for i in lista)}.')"
   ]
  },
  {
   "cell_type": "code",
   "execution_count": 1,
   "id": "6b82dcfa",
   "metadata": {},
   "outputs": [
    {
     "name": "stdout",
     "output_type": "stream",
     "text": [
      "Digite o número que deseja ver a tabuada: 4\n",
      "4 X 1 = 4\n",
      "4 X 2 = 8\n",
      "4 X 3 = 12\n",
      "4 X 4 = 16\n",
      "4 X 5 = 20\n",
      "4 X 6 = 24\n",
      "4 X 7 = 28\n",
      "4 X 8 = 32\n",
      "4 X 9 = 36\n",
      "4 X 10 = 40\n"
     ]
    }
   ],
   "source": [
    "# Exercício 12\n",
    "# Desenvolva um gerador de tabuada, capaz de gerar a tabuada de qualquer número inteiro entre 1 a 10.\n",
    "# O usuário deve informar de qual numero ele deseja ver a tabuada.\n",
    "\n",
    "multiplicador = int(input('Digite o número que deseja ver a tabuada: '))\n",
    "index = 1\n",
    "\n",
    "while index <= 10:\n",
    "    print(f'{multiplicador} X {index} = {multiplicador*index}')\n",
    "    index += 1"
   ]
  },
  {
   "cell_type": "code",
   "execution_count": 6,
   "id": "bb3b6dcc",
   "metadata": {},
   "outputs": [
    {
     "name": "stdout",
     "output_type": "stream",
     "text": [
      "Digite o número que será a base: 2\n",
      "Digite o número que será o expoente: 4\n",
      "A base 2 no expoente 4 é igual à: 16\n"
     ]
    }
   ],
   "source": [
    "# Exercício 13\n",
    "# Faça um programa que peça dois números, base e expoente, calcule e mostre o primeiro número elevado ao segundo número.\n",
    "# Não utilize a função de potência da linguagem.\n",
    "\n",
    "base = int(input('Digite o número que será a base: '))\n",
    "expoente = int(input('Digite o número que será o expoente: '))\n",
    "base_fixa = base\n",
    "index = 1\n",
    "\n",
    "while not index == expoente:\n",
    "    base = (base_fixa * base)\n",
    "    index += 1\n",
    "\n",
    "print(f'A base {base_fixa} no expoente {expoente} é igual à: {base}')"
   ]
  },
  {
   "cell_type": "code",
   "execution_count": 13,
   "id": "a7ef440b",
   "metadata": {},
   "outputs": [
    {
     "name": "stdout",
     "output_type": "stream",
     "text": [
      "Digite um número inteiro: (1) 1\n",
      "Digite um número inteiro: (2) 2\n",
      "Digite um número inteiro: (3) 5\n",
      "Digite um número inteiro: (4) 67\n",
      "Digite um número inteiro: (5) 7\n",
      "Digite um número inteiro: (6) 89\n",
      "Digite um número inteiro: (7) 6\n",
      "Digite um número inteiro: (8) 9\n",
      "Digite um número inteiro: (9) 10\n",
      "Digite um número inteiro: (10) 11\n",
      "Dentre os 10 números passados, 3 são pares e 7 são ímpares.\n"
     ]
    }
   ],
   "source": [
    "# Exercício 14\n",
    "# Faça um programa que peça 10 números inteiros e mostre a quantidade de números pares e a quantidade de números impares.\n",
    "\n",
    "lista = []\n",
    "contador_par = 0\n",
    "contador_impar = 0\n",
    "contador = 1\n",
    "\n",
    "while len(lista) < 10:\n",
    "    lista.append(int(input(f\"Digite um número inteiro: ({contador}) \")))\n",
    "    contador += 1\n",
    "    \n",
    "for i in lista:\n",
    "    if i % 2 == 0:\n",
    "        contador_par += 1\n",
    "\n",
    "for i in lista:\n",
    "    if i % 2 == 1:\n",
    "        contador_impar += 1\n",
    "\n",
    "print(f'Dentre os 10 números passados, {contador_par} são pares e {contador_impar} são ímpares.')"
   ]
  },
  {
   "cell_type": "code",
   "execution_count": 8,
   "id": "17ccb1fa",
   "metadata": {},
   "outputs": [
    {
     "name": "stdout",
     "output_type": "stream",
     "text": [
      "Qual termo na sequência Fibonacci deseja saber? 10\n",
      "[0, 1, 1, 2, 3, 5, 8, 13, 21, 34]\n"
     ]
    }
   ],
   "source": [
    "# Exercício 15\n",
    "# A série de Fibonacci é formada pela seqüência 1,1,2,3,5,8,13,21,34,55,... \n",
    "# Faça um programa capaz de gerar a série até o n−ésimo termo.\n",
    "\n",
    "n = int(input('Qual termo na sequência Fibonacci deseja saber? '))\n",
    "index = 1\n",
    "lista = [0]\n",
    "\n",
    "if n == 1:\n",
    "    print(lista)\n",
    "elif n == 2:\n",
    "    lista.append(int(1))\n",
    "    print(lista)\n",
    "else:\n",
    "    lista.append(int(1))\n",
    "    index += 1\n",
    "    while index < n:\n",
    "        lista.append(lista[-1]+lista[-2])\n",
    "        index += 1\n",
    "    print(lista)"
   ]
  },
  {
   "cell_type": "code",
   "execution_count": 1,
   "id": "bbd2b525",
   "metadata": {},
   "outputs": [
    {
     "name": "stdout",
     "output_type": "stream",
     "text": [
      "[0, 1, 1, 2, 3, 5, 8, 13, 21, 34, 55, 89, 144, 233, 377, 610]\n"
     ]
    }
   ],
   "source": [
    "# Exercício 16\n",
    "# A série de Fibonacci é formada pela seqüência 0,1,1,2,3,5,8,13,21,34,55,... \n",
    "# Faça um programa que gere a série até que o valor seja maior que 500.\n",
    "\n",
    "fibonacci = [0, 1]\n",
    "\n",
    "while fibonacci[-1] <= 500:\n",
    "    fibonacci.append(fibonacci[-1]+fibonacci[-2])\n",
    "\n",
    "print(fibonacci)"
   ]
  },
  {
   "cell_type": "code",
   "execution_count": 13,
   "id": "8a056812",
   "metadata": {},
   "outputs": [
    {
     "name": "stdout",
     "output_type": "stream",
     "text": [
      "De qual número deseja consultar a fatorial? 4\n",
      "A fatorial de 4 é igual a 24.\n"
     ]
    }
   ],
   "source": [
    "# Exercício 17\n",
    "# Faça um programa que calcule o fatorial de um número inteiro fornecido pelo usuário. Ex.: 5!=5.4.3.2.1=120\n",
    "\n",
    "numero = int(input('De qual número deseja consultar a fatorial? '))\n",
    "index = numero - 1\n",
    "numero_fixo = numero\n",
    "\n",
    "while index != 0:\n",
    "    numero *= index\n",
    "    index -= 1\n",
    "\n",
    "print(f'A fatorial de {numero_fixo} é igual a {numero}.')"
   ]
  },
  {
   "cell_type": "code",
   "execution_count": 27,
   "id": "fd3fefbb",
   "metadata": {
    "scrolled": true
   },
   "outputs": [
    {
     "name": "stdout",
     "output_type": "stream",
     "text": [
      "Quantos valores deseja incluir? 5\n",
      "Digite um número: (1)7\n",
      "Digite um número: (2)4\n",
      "Digite um número: (3)5\n",
      "Digite um número: (4)6\n",
      "Digite um número: (5)3\n",
      "~~~~~~~~~~~~~~~~~~~~~~~~~~~~~~\n",
      "O menor número digitado foi 3\n",
      "O maior número digitado foi 7\n",
      "A soma de todos os valores é 25\n"
     ]
    }
   ],
   "source": [
    "# Exercício 18\n",
    "# Faça um programa que, dado um conjunto de N números, determine o menor valor, o maior valor e a soma dos valores.\n",
    "\n",
    "conjunto = []\n",
    "quantidade = int(input('Quantos valores deseja incluir? '))\n",
    "index = 1\n",
    "while quantidade > len(conjunto):\n",
    "    conjunto.append(int(input(f'Digite um número ({index}): ')))\n",
    "    index += 1\n",
    "\n",
    "conjunto.sort()\n",
    "print('~'*35)\n",
    "print(f'O menor número digitado foi {conjunto[0]}')\n",
    "print(f'O maior número digitado foi {conjunto[-1]}')\n",
    "print(f'A soma de todos os valores é {sum(conjunto)}')"
   ]
  },
  {
   "cell_type": "code",
   "execution_count": 25,
   "id": "aef2f4c6",
   "metadata": {},
   "outputs": [
    {
     "name": "stdout",
     "output_type": "stream",
     "text": [
      "Digite um número: 5\n",
      "Quer continuar acrescentando números? [S/N]s\n",
      "Digite um número: 6\n",
      "Quer continuar acrescentando números? [S/N]s\n",
      "Digite um número: 7\n",
      "Quer continuar acrescentando números? [S/N]s\n",
      "Digite um número: 9\n",
      "Quer continuar acrescentando números? [S/N]n\n",
      "você digitou 4 números e a média foi de 6.75.\n",
      "O maior número foi 9 e o menor número foi 5.\n"
     ]
    }
   ],
   "source": [
    "# Resposta alternativa Exercício 18\n",
    "resposta = 'S'\n",
    "soma = numero = quantidade = maior = menor = 0\n",
    "\n",
    "while resposta in 'Ss':\n",
    "    numero = int(input('Digite um número: '))\n",
    "    soma += numero\n",
    "    quantidade += 1\n",
    "    if quantidade == 1:\n",
    "        maior = menor = numero\n",
    "    else:\n",
    "        if numero > maior:\n",
    "            maior = numero\n",
    "        if numero < menor:\n",
    "            menor = numero\n",
    "    resposta = str(input('Quer continuar acrescentando números? [S/N]')).upper().strip()[0]\n",
    "media = soma / quantidade\n",
    "print(f'você digitou {quantidade} números e a média foi de {media}.')\n",
    "print(f'O maior número foi {maior} e o menor número foi {menor}.')"
   ]
  },
  {
   "cell_type": "code",
   "execution_count": 28,
   "id": "ba1bdf6f",
   "metadata": {},
   "outputs": [
    {
     "name": "stdout",
     "output_type": "stream",
     "text": [
      "Quantos valores deseja incluir? 9\n",
      "Digite um número (1): 1500\n",
      "Número inválido, digite valores entre 0 e 1000.\n",
      "Digite um número (1): 100\n",
      "Digite um número (2): 1000\n",
      "Número inválido, digite valores entre 0 e 1000.\n",
      "Digite um número (2): 999\n",
      "Digite um número (3): 123\n",
      "Digite um número (4): 156\n",
      "Digite um número (5): 198\n",
      "Digite um número (6): 654\n",
      "Digite um número (7): 5\n",
      "Digite um número (8): 69\n",
      "Digite um número (9): 6\n",
      "~~~~~~~~~~~~~~~~~~~~~~~~~~~~~~~~~~~\n",
      "O menor número digitado foi 5\n",
      "O maior número digitado foi 999\n",
      "A soma de todos os valores é 2310\n"
     ]
    }
   ],
   "source": [
    "# Exercício 19\n",
    "# Altere o programa anterior para que ele aceite apenas números entre 0 e 1000.\n",
    "\n",
    "conjunto = []\n",
    "quantidade = int(input('Quantos valores deseja incluir? '))\n",
    "index = 1\n",
    "\n",
    "while quantidade > len(conjunto):\n",
    "    item = int(input(f'Digite um número ({index}): '))\n",
    "    if item > 0 and item < 1000:\n",
    "        conjunto.append(item)\n",
    "        index += 1\n",
    "    else:\n",
    "        print(\"Número inválido, digite valores entre 0 e 1000\")\n",
    "    \n",
    "\n",
    "conjunto.sort()\n",
    "print('~'*35)\n",
    "print(f'O menor número digitado foi {conjunto[0]}')\n",
    "print(f'O maior número digitado foi {conjunto[-1]}')\n",
    "print(f'A soma de todos os valores é {sum(conjunto)}')"
   ]
  },
  {
   "cell_type": "code",
   "execution_count": 35,
   "id": "194dea65",
   "metadata": {},
   "outputs": [
    {
     "name": "stdout",
     "output_type": "stream",
     "text": [
      "De qual número deseja consultar a fatorial? 4\n",
      "A fatorial de 4 é igual a 24.\n",
      "Quer calcular outra fatorial? [S/N]s\n",
      "De qual número deseja consultar a fatorial? 5\n",
      "A fatorial de 5 é igual a 120.\n",
      "Quer calcular outra fatorial? [S/N]s\n",
      "De qual número deseja consultar a fatorial? 6\n",
      "A fatorial de 6 é igual a 720.\n",
      "Quer calcular outra fatorial? [S/N]n\n",
      "~~~~~~~~~~~~~~~~~~~~~~~~~~~~~~~~~~~~~~~~~~~~~~~~~~\n",
      "Obrigado por consultar fatoriais, volte sempre que precisar!\n"
     ]
    }
   ],
   "source": [
    "# Exercício 20\n",
    "# Altere o programa de cálculo do fatorial, permitindo ao usuário calcular o fatorial várias vezes e limitando \n",
    "# o fatorial a números inteiros positivos e menores que 16.\n",
    "\n",
    "# Exercício 17\n",
    "# Faça um programa que calcule o fatorial de um número inteiro fornecido pelo usuário. Ex.: 5!=5.4.3.2.1=120\n",
    "\n",
    "resposta = \"S\"\n",
    "\n",
    "while resposta in \"S\":\n",
    "    numero = int(input('De qual número deseja consultar a fatorial? '))\n",
    "    index = numero - 1\n",
    "    numero_fixo = numero\n",
    "    resposta = \"S\"\n",
    "    while index != 0:\n",
    "        numero *= index\n",
    "        index -= 1\n",
    "    print(f'A fatorial de {numero_fixo} é igual a {numero}.')\n",
    "    resposta = str(input('Quer calcular outra fatorial? [S/N]' )).upper().strip()[0]\n",
    "\n",
    "print(\"~\"*50)\n",
    "print('Obrigado por consultar fatoriais, volte sempre que precisar!')"
   ]
  },
  {
   "cell_type": "code",
   "execution_count": 41,
   "id": "fbd87ccc",
   "metadata": {},
   "outputs": [
    {
     "name": "stdout",
     "output_type": "stream",
     "text": [
      "Digite um número para calcularmos se ele é primo: 129\n",
      "O número não é primo, lista de multiplicadores:\n",
      "[1, 3, 43, 129]\n"
     ]
    }
   ],
   "source": [
    "# Exercício 21\n",
    "# Faça um programa que peça um número inteiro e determine se ele é ou não um número primo.\n",
    "# Um número primo é aquele que é divisível somente por ele mesmo e por 1.\n",
    "\n",
    "numero = int(input('Digite um número para calcularmos se ele é primo: '))\n",
    "index = 1\n",
    "multiplicadores = []\n",
    "\n",
    "while index <= numero:\n",
    "    if numero % index == 0:\n",
    "        multiplicadores.append(index)\n",
    "    index += 1\n",
    "\n",
    "if len(multiplicadores) > 2:\n",
    "    print('O número não é primo, lista de multiplicadores:')\n",
    "    print(multiplicadores)\n",
    "else:\n",
    "    print(f'O número {numero} é primo.')"
   ]
  },
  {
   "cell_type": "code",
   "execution_count": null,
   "id": "b4b6f1cf",
   "metadata": {},
   "outputs": [],
   "source": [
    "# Exercício 22\n",
    "# Altere o programa de cálculo dos números primos, informando, caso o número não seja primo, por quais número ele é divisível."
   ]
  },
  {
   "cell_type": "code",
   "execution_count": null,
   "id": "d53c48bf",
   "metadata": {},
   "outputs": [],
   "source": [
    "# Exercício 23\n",
    "# Faça um programa que mostre todos os primos entre 1 e N sendo N um número inteiro fornecido pelo usuário. O programa deverá mostrar também o número de divisões que ele executou para encontrar os números primos. Serão avaliados o funcionamento, o estilo e o número de testes (divisões) executados."
   ]
  },
  {
   "cell_type": "code",
   "execution_count": null,
   "id": "ea748449",
   "metadata": {},
   "outputs": [],
   "source": [
    "# Exercício 24\n",
    "# Faça um programa que calcule o mostre a média aritmética de N notas."
   ]
  },
  {
   "cell_type": "code",
   "execution_count": null,
   "id": "ca646e31",
   "metadata": {},
   "outputs": [],
   "source": [
    "# Exercício 25\n",
    "# Faça um programa que peça para n pessoas a sua idade, ao final o programa devera verificar se a média de idade da turma varia entre 0 e 25,26 e 60 e maior que 60; e então, dizer se a turma é jovem, adulta ou idosa, conforme a média calculada."
   ]
  },
  {
   "cell_type": "code",
   "execution_count": null,
   "id": "af908ad8",
   "metadata": {},
   "outputs": [],
   "source": [
    "# Exercício 26\n",
    "# Numa eleição existem três candidatos. Faça um programa que peça o número total de eleitores. Peça para cada eleitor votar e ao final mostrar o número de votos de cada candidato."
   ]
  },
  {
   "cell_type": "code",
   "execution_count": null,
   "id": "7242c893",
   "metadata": {},
   "outputs": [],
   "source": [
    "# Exercício 27\n",
    "# Faça um programa que calcule o número médio de alunos por turma. Para isto, peça a quantidade de turmas e a quantidade de alunos para cada turma. As turmas não podem ter mais de 40 alunos."
   ]
  },
  {
   "cell_type": "code",
   "execution_count": null,
   "id": "31558c40",
   "metadata": {},
   "outputs": [],
   "source": [
    "# Exercício 28\n",
    "# Faça um programa que calcule o valor total investido por um colecionador em sua coleção de CDs e o valor médio gasto em cada um deles. O usuário deverá informar a quantidade de CDs e o valor para em cada um."
   ]
  },
  {
   "cell_type": "code",
   "execution_count": null,
   "id": "c644ed2f",
   "metadata": {},
   "outputs": [],
   "source": [
    "# Exercício 29\n",
    "# O Sr. Manoel Joaquim possui uma grande loja de artigos de R$ 1,99, com cerca de 10 caixas. Para agilizar o cálculo de quanto cada cliente deve pagar ele desenvolveu um tabela que contém o número de itens que o cliente comprou e ao lado o valor da conta. Desta forma a atendente do caixa precisa apenas contar quantos itens o cliente está levando e olhar na tabela de preços. Você foi contratado para desenvolver o programa que monta esta tabela de preços, que conterá os preços de 1 até 50 produtos, conforme o exemplo abaixo:\n",
    "# Lojas Quase Dois - Tabela de preços\n",
    "# 1 - R$ 1.99\n",
    "# 2 - R$ 3.98\n",
    "# ...\n",
    "# 50 - R$ 99.50"
   ]
  },
  {
   "cell_type": "code",
   "execution_count": null,
   "id": "c9a8bd10",
   "metadata": {},
   "outputs": [],
   "source": [
    "# Exercício 30\n",
    "#"
   ]
  },
  {
   "cell_type": "code",
   "execution_count": null,
   "id": "7e6991f9",
   "metadata": {},
   "outputs": [],
   "source": [
    "# Exercício 31"
   ]
  },
  {
   "cell_type": "code",
   "execution_count": null,
   "id": "878ce50f",
   "metadata": {},
   "outputs": [],
   "source": [
    "# Exercício 32"
   ]
  },
  {
   "cell_type": "code",
   "execution_count": null,
   "id": "11b9398b",
   "metadata": {},
   "outputs": [],
   "source": [
    "# Exercício 33"
   ]
  },
  {
   "cell_type": "code",
   "execution_count": null,
   "id": "78081444",
   "metadata": {},
   "outputs": [],
   "source": [
    "# Exercício 34"
   ]
  },
  {
   "cell_type": "code",
   "execution_count": null,
   "id": "ad2192e1",
   "metadata": {},
   "outputs": [],
   "source": [
    "# Exercício 35"
   ]
  },
  {
   "cell_type": "code",
   "execution_count": null,
   "id": "fd9c2b6a",
   "metadata": {},
   "outputs": [],
   "source": [
    "# Exercício 36"
   ]
  },
  {
   "cell_type": "code",
   "execution_count": null,
   "id": "273141ef",
   "metadata": {},
   "outputs": [],
   "source": [
    "# Exercício 37"
   ]
  },
  {
   "cell_type": "code",
   "execution_count": null,
   "id": "53add5df",
   "metadata": {},
   "outputs": [],
   "source": [
    "# Exercício 38"
   ]
  },
  {
   "cell_type": "code",
   "execution_count": null,
   "id": "458466f8",
   "metadata": {},
   "outputs": [],
   "source": [
    "# Exercício 39"
   ]
  },
  {
   "cell_type": "code",
   "execution_count": null,
   "id": "a66ad09f",
   "metadata": {},
   "outputs": [],
   "source": [
    "# Exercício 40"
   ]
  },
  {
   "cell_type": "code",
   "execution_count": null,
   "id": "6ff988bb",
   "metadata": {},
   "outputs": [],
   "source": [
    "# Exercício 41"
   ]
  },
  {
   "cell_type": "code",
   "execution_count": null,
   "id": "0c17acec",
   "metadata": {},
   "outputs": [],
   "source": [
    "# Exercício 42"
   ]
  },
  {
   "cell_type": "code",
   "execution_count": null,
   "id": "9e0b53a2",
   "metadata": {},
   "outputs": [],
   "source": [
    "# Exercício 43"
   ]
  },
  {
   "cell_type": "code",
   "execution_count": null,
   "id": "c86bacf5",
   "metadata": {},
   "outputs": [],
   "source": [
    "# Exercício 44"
   ]
  },
  {
   "cell_type": "code",
   "execution_count": null,
   "id": "f0569f56",
   "metadata": {},
   "outputs": [],
   "source": [
    "# Exercício 45"
   ]
  },
  {
   "cell_type": "code",
   "execution_count": null,
   "id": "79538fba",
   "metadata": {},
   "outputs": [],
   "source": [
    "# Exercício 46"
   ]
  },
  {
   "cell_type": "code",
   "execution_count": null,
   "id": "a3710dc8",
   "metadata": {},
   "outputs": [],
   "source": [
    "# Exercício 47"
   ]
  },
  {
   "cell_type": "code",
   "execution_count": null,
   "id": "cad9ed57",
   "metadata": {},
   "outputs": [],
   "source": [
    "# Exercício 48"
   ]
  },
  {
   "cell_type": "code",
   "execution_count": null,
   "id": "5c886478",
   "metadata": {},
   "outputs": [],
   "source": [
    "# Exercício 49"
   ]
  },
  {
   "cell_type": "code",
   "execution_count": null,
   "id": "b684c499",
   "metadata": {},
   "outputs": [],
   "source": [
    "# Exercício 50"
   ]
  },
  {
   "cell_type": "code",
   "execution_count": null,
   "id": "54c88634",
   "metadata": {},
   "outputs": [],
   "source": [
    "# Exercício 51"
   ]
  }
 ],
 "metadata": {
  "kernelspec": {
   "display_name": "Python 3 (ipykernel)",
   "language": "python",
   "name": "python3"
  },
  "language_info": {
   "codemirror_mode": {
    "name": "ipython",
    "version": 3
   },
   "file_extension": ".py",
   "mimetype": "text/x-python",
   "name": "python",
   "nbconvert_exporter": "python",
   "pygments_lexer": "ipython3",
   "version": "3.9.7"
  }
 },
 "nbformat": 4,
 "nbformat_minor": 5
}
