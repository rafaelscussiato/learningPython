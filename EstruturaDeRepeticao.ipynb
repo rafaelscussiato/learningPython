{
 "cells": [
  {
   "cell_type": "code",
   "execution_count": 4,
   "id": "8942c81c",
   "metadata": {
    "scrolled": true
   },
   "outputs": [
    {
     "name": "stdout",
     "output_type": "stream",
     "text": [
      "Digite uma nota de 0 a 10: 12\n",
      "Nota inválida! Digite uma nota de 0 a 10: 13\n",
      "Nota inválida! Digite uma nota de 0 a 10: 15\n",
      "Nota inválida! Digite uma nota de 0 a 10: 16\n",
      "Nota inválida! Digite uma nota de 0 a 10: 5\n",
      "Obrigado pela nota 5.\n"
     ]
    }
   ],
   "source": [
    "# Exercício 01\n",
    "# Faça um programa que peça uma nota, entre zero e dez. \n",
    "# Mostre uma mensagem caso o valor seja inválido e continue pedindo até que o usuário informe um valor válido.\n",
    "\n",
    "nota = int(input(\"Digite uma nota de 0 a 10: \"))\n",
    "\n",
    "while (nota < 0) or (nota > 10):\n",
    "    nota = int(input(\"Nota inválida! Digite uma nota de 0 a 10: \"))\n",
    "\n",
    "print(f\"Nota {nota}.\")\n",
    "        "
   ]
  },
  {
   "cell_type": "code",
   "execution_count": 5,
   "id": "7af139ac",
   "metadata": {},
   "outputs": [
    {
     "name": "stdout",
     "output_type": "stream",
     "text": [
      "Escolha um nome de usuário: rafaelscussiato\n",
      "Escolha sua senha: rafaelscussiato\n",
      "\n",
      "Sua senha não pode ser igual ao seu nome de usuário.\n",
      "Escolha outra senha: senha_forte\n",
      "\n",
      "Obrigado rafaelscussiato, seus dados foram salvos.\n"
     ]
    }
   ],
   "source": [
    "# Exercício 02\n",
    "# Faça um programa que leia um nome de usuário e a sua senha e não aceite a senha igual ao nome do usuário,\n",
    "# mostrando uma mensagem de erro e voltando a pedir as informações.\n",
    "\n",
    "nome_usuario = input(\"Escolha um nome de usuário: \")\n",
    "senha = input(\"Escolha sua senha: \")\n",
    "\n",
    "while (senha == nome_usuario):\n",
    "    print(\"\\nSua senha não pode ser igual ao seu nome de usuário.\")\n",
    "    senha = input(\"Escolha outra senha: \")\n",
    "    \n",
    "print(f\"\\nObrigado {nome_usuario}, seus dados foram salvos.\")"
   ]
  },
  {
   "cell_type": "code",
   "execution_count": 25,
   "id": "6d34677f",
   "metadata": {
    "scrolled": false
   },
   "outputs": [
    {
     "name": "stdout",
     "output_type": "stream",
     "text": [
      "Digite seu nome: oi\n",
      "Digite seu nome: Rafael\n",
      "Digite sua idade: 160\n",
      "Digite sua idade: -10\n",
      "Digite sua idade: 33\n",
      "Digite seu salário: -500\n",
      "Digite sua salário: 2000\n",
      "Digite seu sexo: (F ou M) h\n",
      "Digite seu sexo: (F ou M) g\n",
      "Digite seu sexo: (F ou M) m\n",
      "Digite seu estado Civil: (S) para Solteiro, (C) para Casado, (V) para Viúvo ou (D) para Divorciado: t\n",
      "Digite seu estado Civil: (S) para Solteiro, (C) para Casado, (V) para Viúvo ou (D) para Divorciado: r\n",
      "Digite seu estado Civil: (S) para Solteiro, (C) para Casado, (V) para Viúvo ou (D) para Divorciado: c\n",
      "Nome: Rafael; Idade: 33; Salário: R$2000; Estado Civil: Casado(a)\n"
     ]
    }
   ],
   "source": [
    "# Exercício 03\n",
    "# Faça um programa que leia e valide as seguintes informações:\n",
    "# Nome: maior que 3 caracteres; # Idade: entre 0 e 150; # Salário: maior que zero;\n",
    "# Sexo: 'f' ou 'm'; # Estado Civil: 's', 'c', 'v', 'd';\n",
    "\n",
    "nome = input('Digite seu nome: ')\n",
    "while len(nome) <= 3:\n",
    "    nome = input('Digite seu nome: ')\n",
    "        \n",
    "idade = int(input('Digite sua idade: '))\n",
    "while idade > 150 or idade < 0:\n",
    "    idade = int(input('Digite sua idade: '))\n",
    "        \n",
    "salario = float(input('Digite seu salário: '))\n",
    "while salario < 0:\n",
    "    salario = int(input('Digite sua salário: '))\n",
    "\n",
    "sexo = input('Digite seu sexo: (F ou M) ').upper()\n",
    "while ( sexo != \"F\" ) and ( sexo != \"M\" ):\n",
    "    sexo = input('Digite seu sexo: (F ou M) ').upper()\n",
    "\n",
    "estado_civil = input('Digite seu estado Civil: (S) para Solteiro, (C) para Casado, (V) para Viúvo ou (D) para Divorciado: ').upper()\n",
    "while estado_civil != \"S\" and estado_civil != \"C\" and estado_civil != \"V\" and estado_civil != \"D\":\n",
    "    estado_civil = input('Digite seu estado Civil: (S) para Solteiro, (C) para Casado, (V) para Viúvo ou (D) para Divorciado: ').upper()\n",
    "\n",
    "if estado_civil == \"S\":\n",
    "    estado_civil = \"Solteiro(a)\"\n",
    "elif estado_civil == \"C\":\n",
    "    estado_civil = \"Casado(a)\"\n",
    "elif estado_civil == \"V\":\n",
    "    estado_civil = \"Viúvo(a)\"\n",
    "elif estado_civil == \"D\":\n",
    "    estado_civil = \"Divorciado(a)\"\n",
    "    \n",
    "print(f'Nome: {nome}; Idade: {idade}; Salário: R${salario}; Estado Civil: {estado_civil}.')"
   ]
  },
  {
   "cell_type": "code",
   "execution_count": 11,
   "id": "2caf03e0",
   "metadata": {},
   "outputs": [
    {
     "name": "stdout",
     "output_type": "stream",
     "text": [
      "Para que a população do país A supere a do país B, são necessários 63 anos.\n"
     ]
    }
   ],
   "source": [
    "# Exercício 04\n",
    "# Supondo que a população de um país A seja da ordem de 80.000 habitantes com uma taxa anual de crescimento de 3% e que \n",
    "# a população de B seja 200.000 habitantes com uma taxa de crescimento de 1.5%. Faça um programa que calcule e escreva o \n",
    "# número de anos necessários para que a população do país A ultrapasse ou iguale a população do país B, mantidas as \n",
    "# taxas de crescimento.\n",
    "\n",
    "pais_a = 80000\n",
    "pais_b = 200000\n",
    "anos = 0\n",
    "\n",
    "while pais_a < pais_b:\n",
    "    pais_a = pais_a + pais_a*0.03\n",
    "    pais_b = pais_b + pais_b*0.015\n",
    "    anos += 1\n",
    "\n",
    "print(f'Para que a população do país A supere a do país B, são necessários {anos} anos.')"
   ]
  },
  {
   "cell_type": "code",
   "execution_count": 15,
   "id": "a78e4ef2",
   "metadata": {},
   "outputs": [
    {
     "name": "stdout",
     "output_type": "stream",
     "text": [
      "Digite a população do país \"A\" com menor população: 80000\n",
      "Digite a taxa de crescimento deste país em percentual: 3\n",
      "Digite a população do país \"B\" com maior população: 200000\n",
      "Digite a taxa de crescimento deste país em percentual: 1.5\n",
      "Para que a população do país A supere a do país B, são necessários 63 anos.\n"
     ]
    }
   ],
   "source": [
    "# Exercício 05\n",
    "# Altere o programa anterior permitindo ao usuário informar as populações e as taxas de crescimento iniciais. \n",
    "# Valide a entrada e permita repetir a operação.\n",
    "\n",
    "pais_a = int(input('Digite a população do país \"A\" com menor população: '))\n",
    "crescimento_a = float(input('Digite a taxa de crescimento deste país em percentual: '))\n",
    "pais_b = int(input('Digite a população do país \"B\" com maior população: '))\n",
    "crescimento_b = float(input('Digite a taxa de crescimento deste país em percentual: '))\n",
    "anos = 0\n",
    "crescimento_a = (crescimento_a/100)\n",
    "crescimento_b = (crescimento_b/100) \n",
    "\n",
    "while pais_a < pais_b:\n",
    "    pais_a = pais_a + pais_a*crescimento_a\n",
    "    pais_b = pais_b + pais_b*crescimento_b\n",
    "    anos += 1\n",
    "\n",
    "print(f'Para que a população do país A supere a do país B, são necessários {anos} anos.')"
   ]
  },
  {
   "cell_type": "code",
   "execution_count": 9,
   "id": "ece45adc",
   "metadata": {},
   "outputs": [
    {
     "name": "stdout",
     "output_type": "stream",
     "text": [
      "1 2 3 4 5 6 7 8 9 10 11 12 13 14 15 16 17 18 19 20 "
     ]
    }
   ],
   "source": [
    "# Exercício 06\n",
    "# Faça um programa que imprima na tela os números de 1 a 20, um abaixo do outro.\n",
    "# Depois modifique o programa para que ele mostre os números um ao lado do outro.\n",
    "\n",
    "num = 1\n",
    "while num <= 20:\n",
    "    print(num, end=' ') #modificação incluindo -> , end=' '\n",
    "    num += 1"
   ]
  },
  {
   "cell_type": "code",
   "execution_count": 16,
   "id": "6cfdaf0d",
   "metadata": {
    "scrolled": true
   },
   "outputs": [
    {
     "name": "stdout",
     "output_type": "stream",
     "text": [
      "Digite um número: 1\n",
      "Digite um número: 10\n",
      "Digite um número: 90\n",
      "Digite um número: 3\n",
      "Digite um número: 2\n",
      "O maior número é 90\n"
     ]
    }
   ],
   "source": [
    "# Exercício 07\n",
    "# Faça um programa que leia 5 números e informe o maior número.\n",
    "\n",
    "lista = []\n",
    "\n",
    "while len(lista) < 5:\n",
    "    lista.append(input('Digite um número: '))\n",
    "\n",
    "lista.sort(reverse = True)\n",
    "print(f'O maior número é {lista[0]}')"
   ]
  },
  {
   "cell_type": "code",
   "execution_count": 18,
   "id": "278e6abd",
   "metadata": {},
   "outputs": [
    {
     "name": "stdout",
     "output_type": "stream",
     "text": [
      "Digite um número: 4\n",
      "Digite um número: 5\n",
      "Digite um número: 9\n",
      "Digite um número: 6\n",
      "Digite um número: 3\n",
      "5.4\n"
     ]
    }
   ],
   "source": [
    "# Exercício 08\n",
    "# Faça um programa que leia 5 números e informe a soma e a média dos números.\n",
    "\n",
    "numeros = []\n",
    "\n",
    "while len(numeros) < 5:\n",
    "    numeros.append(input('Digite um número: '))\n",
    "    \n",
    "media = (sum(int(i) for i in numeros))/len(numeros)\n",
    "print(media)"
   ]
  },
  {
   "cell_type": "code",
   "execution_count": 23,
   "id": "b0703d4a",
   "metadata": {},
   "outputs": [
    {
     "name": "stdout",
     "output_type": "stream",
     "text": [
      "1 3 5 7 9 11 13 15 17 19 21 23 25 27 29 31 33 35 37 39 41 43 45 47 49 "
     ]
    }
   ],
   "source": [
    "# Exercício 09\n",
    "# Faça um programa que imprima na tela apenas os números ímpares entre 1 e 50.\n",
    "\n",
    "num = 1\n",
    "while num <= 50:\n",
    "    if (num % 2) == 1:\n",
    "        print(num, end=' ')\n",
    "    num += 1"
   ]
  },
  {
   "cell_type": "code",
   "execution_count": null,
   "id": "f3c57c00",
   "metadata": {},
   "outputs": [],
   "source": []
  }
 ],
 "metadata": {
  "kernelspec": {
   "display_name": "Python 3 (ipykernel)",
   "language": "python",
   "name": "python3"
  },
  "language_info": {
   "codemirror_mode": {
    "name": "ipython",
    "version": 3
   },
   "file_extension": ".py",
   "mimetype": "text/x-python",
   "name": "python",
   "nbconvert_exporter": "python",
   "pygments_lexer": "ipython3",
   "version": "3.9.7"
  }
 },
 "nbformat": 4,
 "nbformat_minor": 5
}
