{
 "cells": [
  {
   "cell_type": "code",
   "execution_count": 15,
   "id": "52801df4",
   "metadata": {},
   "outputs": [
    {
     "name": "stdout",
     "output_type": "stream",
     "text": [
      "Alô Mundo!\n"
     ]
    }
   ],
   "source": [
    "# Exercício 01 #\n",
    "# Faça um Programa que mostre a mensagem \"Alo mundo\" na tela.\n",
    "\n",
    "print(\"Alô Mundo!\")"
   ]
  },
  {
   "cell_type": "code",
   "execution_count": 17,
   "id": "62a749f3",
   "metadata": {},
   "outputs": [
    {
     "name": "stdout",
     "output_type": "stream",
     "text": [
      "Diga um número: 100\n",
      "O número informado foi: 100\n"
     ]
    }
   ],
   "source": [
    "# Exercício 02 #\n",
    "# Faça um Programa que peça um número e então mostre a mensagem O número informado foi [número].\n",
    "\n",
    "numero = input(\"Diga um número: \")\n",
    "\n",
    "print(f\"O número informado foi: {numero}\")\n"
   ]
  },
  {
   "cell_type": "code",
   "execution_count": 19,
   "id": "8d7a22d5",
   "metadata": {},
   "outputs": [
    {
     "name": "stdout",
     "output_type": "stream",
     "text": [
      "Diga um número: 25\n",
      "Diga outro número: 42\n",
      "A soma de 25 e 42 é: 67\n"
     ]
    }
   ],
   "source": [
    "# Exercício 03 #\n",
    "# Faça um Programa que peça dois números e imprima a soma.\n",
    "\n",
    "a = int(input(\"Diga um número: \"))\n",
    "b = int(input(\"Diga outro número: \"))\n",
    "print(f\"A soma de {a} e {b} é: {a + b}\")"
   ]
  },
  {
   "cell_type": "code",
   "execution_count": 20,
   "id": "f9435501",
   "metadata": {},
   "outputs": [
    {
     "name": "stdout",
     "output_type": "stream",
     "text": [
      "Qual foi sua nota no 1º bimestre? 8\n",
      "Qual foi sua nota no 2º bimestre? 4\n",
      "Qual foi sua nota no 3º bimestre? 9\n",
      "Qual foi sua nota no 4º bimestre? 7\n",
      "A média de suas notas bimestrais é 7.0\n"
     ]
    }
   ],
   "source": [
    "# Exercício 04 #\n",
    "# Faça um Programa que peça as 4 notas bimestrais e mostre a média.\n",
    "\n",
    "a = int(input(\"Qual foi sua nota no 1º bimestre? \"))\n",
    "b = int(input(\"Qual foi sua nota no 2º bimestre? \"))\n",
    "c = int(input(\"Qual foi sua nota no 3º bimestre? \"))\n",
    "d = int(input(\"Qual foi sua nota no 4º bimestre? \"))\n",
    "print(f\"A média de suas notas bimestrais é {(a + b + c + d) / 4}\")"
   ]
  },
  {
   "cell_type": "code",
   "execution_count": 21,
   "id": "b41d9f0a",
   "metadata": {},
   "outputs": [
    {
     "name": "stdout",
     "output_type": "stream",
     "text": [
      "Diga um valor em metros para converter em centímetros: 24\n",
      "24 metros equivalem a 2400 centímetros.\n"
     ]
    }
   ],
   "source": [
    "# Exercício 05 #\n",
    "# Faça um Programa que converta metros para centímetros.\n",
    "\n",
    "a = int(input(\"Diga um valor em metros para converter em centímetros: \"))\n",
    "if a == 1:\n",
    "    print(\"1 metro equivale a 100 centímetros\")\n",
    "else:\n",
    "    print(f\"{a} metros equivalem a {a*100} centímetros.\")"
   ]
  },
  {
   "cell_type": "code",
   "execution_count": 29,
   "id": "5ff1dbc1",
   "metadata": {
    "scrolled": true
   },
   "outputs": [
    {
     "name": "stdout",
     "output_type": "stream",
     "text": [
      "Digite o raio (cm) do círculo para saber a área: 8\n",
      "Considerando o raio de 8cm, a área do círulo é: 201.06cm²\n"
     ]
    }
   ],
   "source": [
    "# Exercício 06 #\n",
    "# Faça um Programa que peça o raio de um círculo, calcule e mostre sua área.\n",
    "\n",
    "import math\n",
    "a = int(input(\"Digite o raio (cm) do círculo para saber a área: \"))\n",
    "print(f\"Considerando o raio de {a}cm, a área do círulo é: {math.pi*(a**2):.2f}cm²\")"
   ]
  },
  {
   "cell_type": "code",
   "execution_count": 31,
   "id": "1a34fb00",
   "metadata": {},
   "outputs": [
    {
     "name": "stdout",
     "output_type": "stream",
     "text": [
      "Diga o valor para os lados de um quadrado (cm): 5\n",
      "O quadrado de lado 5cm, tem área total de 25cm²\n",
      "O dobro da área desse quadrado seria 50cm²\n",
      "Cada lado desse novo quadrado teria, aproximadamente, 7.07cm\n"
     ]
    }
   ],
   "source": [
    "# Exercício 07 #\n",
    "# Faça um Programa que calcule a área de um quadrado, em seguida mostre o dobro desta área para o usuário.\n",
    "\n",
    "lado = int(input(\"Diga o valor para os lados de um quadrado (cm): \"))\n",
    "ladoMaior = math.sqrt((lado**2)*2)\n",
    "\n",
    "print(f\"O quadrado de lado {lado}cm, tem área total de {lado**2}cm²\")\n",
    "print(f\"O dobro da área desse quadrado seria {(lado**2)*2}cm²\")\n",
    "print(f\"Cada lado desse novo quadrado teria, aproximadamente, {ladoMaior:.2f}cm\")"
   ]
  },
  {
   "cell_type": "code",
   "execution_count": 33,
   "id": "522e9e3a",
   "metadata": {},
   "outputs": [
    {
     "name": "stdout",
     "output_type": "stream",
     "text": [
      "Que valor você recebeu por hora trabalhada esse mês?15\n",
      "Quantas horas você trabalhou esse mês?220\n",
      "Isso significa que seu salário esse mês será: R$3300.00\n"
     ]
    }
   ],
   "source": [
    "# Exercício 08 #\n",
    "# Faça um Programa que pergunte quanto você ganha por hora e o número de horas trabalhadas no mês. Calcule e mostre o total do seu salário no referido mês.\n",
    "\n",
    "valorHora = float(input(\"Que valor você recebeu por hora trabalhada esse mês? \"))\n",
    "jornada = int(input(\"Quantas horas você trabalhou esse mês? \"))\n",
    "salario = valorHora * jornada\n",
    "salarioMinimo = 1100\n",
    "\n",
    "if salario > salarioMinimo:\n",
    "    print(f\"Isso significa que seu salário esse mês será: R${jornada*valorHora:.2f}\")\n",
    "else:\n",
    "    print(f\"Considerando que seu ganho seria de R${salario}, você receberá o salário mínimo de R$1.100,00\")"
   ]
  },
  {
   "cell_type": "code",
   "execution_count": 35,
   "id": "b3ab593d",
   "metadata": {},
   "outputs": [
    {
     "name": "stdout",
     "output_type": "stream",
     "text": [
      "Qual a temperatura em graus Fahrenheit?105\n",
      "105.0 graus Fahrenheit equivalem a 40.56 graus Celsius.\n"
     ]
    }
   ],
   "source": [
    "# Exercício 09 #\n",
    "# Faça um Programa que peça a temperatura em graus Fahrenheit, transforme e mostre a temperatura em graus Celsius.\n",
    "\n",
    "tempF = float(input(\"Qual a temperatura em graus Fahrenheit?\"))\n",
    "tempC = 5 * ((tempF-32) / 9)\n",
    "print(f'{tempF} graus Fahrenheit equivalem a {tempC:.2f} graus Celsius.')"
   ]
  },
  {
   "cell_type": "code",
   "execution_count": 36,
   "id": "35467546",
   "metadata": {},
   "outputs": [
    {
     "name": "stdout",
     "output_type": "stream",
     "text": [
      "Qual a temperatura em graus Celsius?35\n",
      "35.0 graus Celsius equivalem a 95.0 graus Fahrenheit.\n"
     ]
    }
   ],
   "source": [
    "# Exercício 10 #\n",
    "#Faça um Programa que peça a temperatura em graus Celsius, transforme e mostre em graus Fahrenheit.\n",
    "\n",
    "tempC = float(input(\"Qual a temperatura em graus Celsius?\"))\n",
    "tempF = (tempC *9/5) + 32\n",
    "\n",
    "print(f'{tempC} graus Celsius equivalem a {tempF} graus Fahrenheit.')"
   ]
  },
  {
   "cell_type": "code",
   "execution_count": 42,
   "id": "b2a80cdb",
   "metadata": {
    "scrolled": true
   },
   "outputs": [
    {
     "name": "stdout",
     "output_type": "stream",
     "text": [
      "Digite um número inteiro: 6\n",
      "Digite outro número inteiro: 7\n",
      "Agora digite um número real: 9.8\n",
      "O produto do dobro do primeiro com metade do segundo, é igual a 42.0.\n",
      "A soma do triplo do primeiro com o terceiro, é igual a 27.8.\n",
      "O terceiro número elevado ao cubo, é igual a 941.19.\n"
     ]
    }
   ],
   "source": [
    "# Exercício 11 #\n",
    "# Faça um Programa que peça 2 números inteiros e um número real. Calcule e mostre:\n",
    "# a. o produto do dobro do primeiro com metade do segundo .\n",
    "# b. a soma do triplo do primeiro com o terceiro.\n",
    "# c. o terceiro elevado ao cubo.\n",
    "\n",
    "a = int(input(\"Digite um número inteiro: \"))\n",
    "b = int(input(\"Digite outro número inteiro: \"))\n",
    "c = float(input(\"Agora digite um número real: \"))\n",
    "print(f\"O produto do dobro do primeiro com metade do segundo, é igual a {(a*2)*(b/2)}.\")\n",
    "print(f\"A soma do triplo do primeiro com o terceiro, é igual a {(a*3)+c}.\")\n",
    "print(f\"O terceiro número elevado ao cubo, é igual a {c**3:.2f}.\")"
   ]
  },
  {
   "cell_type": "code",
   "execution_count": 45,
   "id": "db65b522",
   "metadata": {},
   "outputs": [
    {
     "name": "stdout",
     "output_type": "stream",
     "text": [
      "Diga sua altura:1.79\n",
      "O seu peso ideal é: 72.13\n"
     ]
    }
   ],
   "source": [
    "# Exercício 12 #\n",
    "# Tendo como dados de entrada a altura de uma pessoa, construa um algoritmo que calcule seu peso ideal, usando a seguinte fórmula: (72.7*altura) - 58\n",
    "\n",
    "h = float(input(\"Diga sua altura:\"))\n",
    "pesoIdeal = (72.7*h)-58\n",
    "print(f\"O seu peso ideal é: {pesoIdeal:.2f}\")"
   ]
  },
  {
   "cell_type": "code",
   "execution_count": 48,
   "id": "9772f417",
   "metadata": {},
   "outputs": [
    {
     "name": "stdout",
     "output_type": "stream",
     "text": [
      "Qual sua altura?1.78\n",
      "Se você é homem, seu peso ideal é 71.41Kgs.\n",
      "Se você é mulher, seu peso ideal é 65.84Kgs.\n"
     ]
    }
   ],
   "source": [
    "# Exercício 13 #\n",
    "# Tendo como dado de entrada a altura (h) de uma pessoa, construa um algoritmo que calcule seu peso ideal, utilizando as seguintes fórmulas:\n",
    "# a. Para homens: (72.7*h) - 58\n",
    "# b. Para mulheres: (62.1*h) - 44.7\n",
    "\n",
    "h = float(input(\"Qual sua altura?\"))\n",
    "print(f\"Se você é homem, seu peso ideal é {(72.7*h) - 58:.2f}Kgs.\")\n",
    "print(f\"Se você é mulher, seu peso ideal é {(62.1*h) - 44.7:.2f}Kgs.\")"
   ]
  },
  {
   "cell_type": "code",
   "execution_count": 49,
   "id": "e2769231",
   "metadata": {},
   "outputs": [
    {
     "name": "stdout",
     "output_type": "stream",
     "text": [
      "João, quantos quilos você pescou hoje? 64\n",
      "João, com 64Kgs de pesca você excedeu o limite em 14Kgs.\n",
      "Isso significa uma multa de R$56.00.\n"
     ]
    }
   ],
   "source": [
    "# Exercício 14 #\n",
    "# João Papo-de-Pescador, homem de bem, comprou um microcomputador para controlar o rendimento diário de seu trabalho. Toda vez que ele traz um peso de peixes maior que o estabelecido pelo regulamento de pesca do estado de São Paulo (50 quilos) deve pagar uma multa de R$ 4,00 por quilo excedente. João precisa que você faça um programa que leia a variável peso (peso de peixes) e calcule o excesso. Gravar na variável excesso a quantidade de quilos além do limite e na variável multa o valor da multa que João deverá pagar. Imprima os dados do programa com as mensagens adequadas.\n",
    "\n",
    "peso = int(input(\"João, quantos quilos você pescou hoje? \"))\n",
    "excesso = peso-50\n",
    "multa = excesso*4\n",
    "\n",
    "if peso > 50:\n",
    "    print(f\"João, com {peso}Kgs de pesca você excedeu o limite em {excesso}Kgs.\")\n",
    "    print(f\"Isso significa uma multa de R${multa:.2f}.\")\n",
    "else:\n",
    "    print(f\"Ótimo João, com {int(peso)}Kgs você não excedeu o limite de pesca.\")"
   ]
  },
  {
   "cell_type": "code",
   "execution_count": 50,
   "id": "f97f0e5f",
   "metadata": {},
   "outputs": [
    {
     "name": "stdout",
     "output_type": "stream",
     "text": [
      "Que valor você recebeu por hora trabalhada esse mês? R$15\n",
      "Quantas horas você trabalhou esse mês? 220\n",
      "No referido mês, seu salário bruto é de: R$3300.00\n",
      "Você será descontado em 11% de referente ao Imposto de Renda, num total de: R$363.00\n",
      "Você será descontado em 8% de referente ao INSS, num total de: R$264.00\n",
      "Você será descontado em 5% de referente ao Imposto Sindical, num total de: R$165.00\n",
      "Após os descontos, seu salário liquido será R$2508.00.\n"
     ]
    }
   ],
   "source": [
    "# Exercício 15 #\n",
    "# Faça um Programa que pergunte quanto você ganha por hora e o número de horas trabalhadas no mês. Calcule e mostre o total do seu salário no referido mês, sabendo-se que são descontados 11% para o Imposto de Renda, 8% para o INSS e 5% para o sindicato, faça um programa que nos dê:\n",
    "# a. salário bruto.\n",
    "# b. quanto pagou ao INSS.\n",
    "# c. quanto pagou ao sindicato.\n",
    "# d. o salário líquido.\n",
    "# e. calcule os descontos e o salário líquido\n",
    "\n",
    "valorHora = float(input(\"Que valor você recebeu por hora trabalhada esse mês? R$\"))\n",
    "jornada = int(input(\"Quantas horas você trabalhou esse mês? \"))\n",
    "salarioBruto = valorHora * jornada\n",
    "salarioMinimo = 1100\n",
    "ir = salarioBruto*0.11\n",
    "inss = salarioBruto*0.08\n",
    "sindicato = salarioBruto*0.05\n",
    "descontos = ir+inss+sindicato\n",
    "salarioLiquido = salarioBruto-descontos\n",
    "\n",
    "print(f\"No referido mês, seu salário bruto é de: R${salarioBruto:.2f}\")\n",
    "print(f\"Você será descontado em 11% de referente ao Imposto de Renda, num total de: R${ir:.2f}\")\n",
    "print(f\"Você será descontado em 8% de referente ao INSS, num total de: R${inss:.2f}\")\n",
    "print(f\"Você será descontado em 5% de referente ao Imposto Sindical, num total de: R${sindicato:.2f}\")\n",
    "if salarioLiquido < salarioMinimo:\n",
    "    print(f\"Após os descontos, seu salário liquido seria R${salarioLiquido:.2f}. Portanto você receberá o salário de R$1.100,00\")\n",
    "else:\n",
    "    print(f\"Após os descontos, seu salário liquido será R${salarioLiquido:.2f}.\")"
   ]
  },
  {
   "cell_type": "code",
   "execution_count": 52,
   "id": "cb68aa4b",
   "metadata": {},
   "outputs": [
    {
     "name": "stdout",
     "output_type": "stream",
     "text": [
      "Qual a área, em m², a ser pintada? 217\n",
      "Você precisará comprar 5 latas de tinta.\n",
      "O preço total dessa compra será de R$400\n"
     ]
    }
   ],
   "source": [
    "# Exercício 16 #\n",
    "# Faça um programa para uma loja de tintas. O programa deverá pedir o tamanho em metros quadrados da área a ser pintada.\n",
    "# Considere que a cobertura da tinta é de 1 litro para cada 3 metros quadrados e que a tinta é vendida em latas de \n",
    "# 18 litros, que custam R$ 80,00. Informe ao usuário a quantidades de latas de tinta a serem compradas e o preço total.\n",
    "\n",
    "area = float(input(\"Qual a área, em m², a ser pintada? \"))\n",
    "litros = float(area/3)\n",
    "\n",
    "if litros%18 == 0:\n",
    "    latas = int(litros/18)\n",
    "else:\n",
    "    latas = int((litros/18)+1)\n",
    "    \n",
    "gasto = latas*80\n",
    "\n",
    "print(f\"Você precisará comprar {latas} latas de tinta.\")\n",
    "print(f\"O preço total dessa compra será de R${gasto}\")"
   ]
  },
  {
   "cell_type": "code",
   "execution_count": 56,
   "id": "c787050e",
   "metadata": {
    "scrolled": true
   },
   "outputs": [
    {
     "name": "stdout",
     "output_type": "stream",
     "text": [
      "Qual a área, em m², a ser pintada? 217\n",
      "\n",
      "Comprando apenas latas, precisará de 3 latas. Isso custará R$240.00.\n",
      "Comprando apenas galões, precisará de 11 galões. Isso custará R$275.00.\n",
      "\n",
      "O melhor é misturar os tipos de embalagem e acrescer 10% no cálculo para evitar falta.\n",
      "Dessa forma você precisará de 2 latas e 3galões.Isso custará R$235.00.\n"
     ]
    }
   ],
   "source": [
    "# Exercício 17 #\n",
    "# Faça um Programa para uma loja de tintas. O programa deverá pedir o tamanho em metros quadrados da área a ser pintada.\n",
    "# Considere que a cobertura da tinta é de 1 litro para cada 6 metros quadrados e que a tinta é vendida em latas de \n",
    "# 18 litros que custam R$ 80,00 ou em galões de 3,6 litros, que custam R$ 25,00.\n",
    "# Informe ao usuário as quantidades de tinta a serem compradas e os respectivos preços em 3 situações:\n",
    "# a. comprar apenas latas de 18 litros;\n",
    "# b. comprar apenas galões de 3,6 litros;\n",
    "# c. misturar latas e galões, de forma que o desperdício de tinta seja menor. Acrescente 10% de folga e sempre \n",
    "# arredonde os valores para cima, isto é, considere latas cheias.\n",
    "\n",
    "area = float(input(\"Qual a área, em m², a ser pintada? \"))\n",
    "litros = area/6\n",
    "\n",
    "def plural(i):\n",
    "    if i == 1:\n",
    "        return ''\n",
    "    else:\n",
    "        return 's'\n",
    "    \n",
    "def plural_galao(i):\n",
    "    if (i == 1):\n",
    "        return 'galão'\n",
    "    else:\n",
    "        return 'galões'\n",
    "    \n",
    "    \n",
    "if litros%18 == 0:\n",
    "    latas = int(litros/18)\n",
    "else:\n",
    "    latas = int((litros/18)+1)\n",
    "    \n",
    "if litros%3.6 == 0:\n",
    "    galoes = int(litros/3.6)\n",
    "else:\n",
    "    galoes = int((litros/3.6)+1)\n",
    "    \n",
    "gasto_latas = int(latas*80)\n",
    "gasto_galoes = int(galoes*25)\n",
    "\n",
    "mistura_necessaria = litros*1.1\n",
    "mistura_latas = mistura_necessaria//18\n",
    "mistura_galoes = (mistura_necessaria-(mistura_latas*18))//3.6\n",
    "soma_tinta = (mistura_latas*18)+(mistura_galoes*3.6)\n",
    "\n",
    "if (mistura_necessaria - soma_tinta) > 0:\n",
    "    mistura_galoes += 1\n",
    "\n",
    "if mistura_galoes >= 5:\n",
    "    mistura_latas += 1\n",
    "    mistura_galoes -= 5\n",
    "    \n",
    "if mistura_necessaria - soma_tinta > 0:\n",
    "    mistura_galoes += 1\n",
    "    \n",
    "print('')\n",
    "print(f\"Comprando apenas latas, precisará de {latas} lata{plural(latas)}. Isso custará R${gasto_latas:.2f}.\")\n",
    "print(f\"Comprando apenas galões, precisará de {galoes} {plural_galao(galoes)}. Isso custará R${gasto_galoes:.2f}.\\n\")\n",
    "print(f'O melhor é misturar os tipos de embalagem e acrescer 10% no cálculo para evitar falta.')\n",
    "print(f'Dessa forma você precisará de {int(mistura_latas)} lata{plural(mistura_latas)} e {int(mistura_galoes)} ' \n",
    "      f'{plural_galao(mistura_galoes)}.Isso custará R${(mistura_latas*80 + mistura_galoes*25):.2f}.')"
   ]
  },
  {
   "cell_type": "code",
   "execution_count": 58,
   "id": "76f4a156",
   "metadata": {},
   "outputs": [
    {
     "name": "stdout",
     "output_type": "stream",
     "text": [
      "Qual o tamanho do arquivo para download (em MB)? 50888984\n",
      "Qual a velocidade do link de internet (em Mbps)? 150\n",
      "O seu download vai demorar aproximadamente: 31 dia(s), 9 hora(s), 54 minuto(s) e 39 segundo(s).\n"
     ]
    }
   ],
   "source": [
    "# Exercício 18 #\n",
    "# Faça um programa que peça o tamanho de um arquivo para download (em MB) e a velocidade de um link de Internet (em Mbps), calcule e informe o tempo aproximado de download do arquivo usando este link (em minutos).\n",
    "\n",
    "tamanho = float(input(\"Qual o tamanho do arquivo para download (em MB)? \"))\n",
    "velocidade = int(input(\"Qual a velocidade do link de internet (em Mbps)? \"))\n",
    "download = tamanho*8/velocidade\n",
    "\n",
    "def tempo(download):\n",
    "    if 60 < download < 3600:\n",
    "        minutos = download // 60\n",
    "        segundos = download % 60\n",
    "        return f'{int(minutos)} minuto(s) e {int(segundos)} segundo(s)'\n",
    "    elif 3600 <= download < 86400:\n",
    "        horas = download // 3600\n",
    "        minutos = (download-(horas*3600)) // 60\n",
    "        segundos = (download-((horas*3600)+(minutos*60))) % 60\n",
    "        return f'{int(horas)} hora(s), {int(minutos)} minuto(s) e {int(segundos)} segundo(s)'\n",
    "    elif 86400 <= download:\n",
    "        dias = download // 86400\n",
    "        horas = (download-(dias*86400)) // 3600\n",
    "        minutos = (download-((dias*86400)+(horas*3600))) // 60\n",
    "        segundos = (download-((dias*86400)+(horas*3600)+(minutos*60))) % 60\n",
    "        return f'{int(dias)} dia(s), {int(horas)} hora(s), {int(minutos)} minuto(s) e {int(segundos)} segundo(s)'\n",
    "\n",
    "print(f\"O seu download vai demorar aproximadamente: {tempo(download)}.\")"
   ]
  }
 ],
 "metadata": {
  "kernelspec": {
   "display_name": "Python 3 (ipykernel)",
   "language": "python",
   "name": "python3"
  },
  "language_info": {
   "codemirror_mode": {
    "name": "ipython",
    "version": 3
   },
   "file_extension": ".py",
   "mimetype": "text/x-python",
   "name": "python",
   "nbconvert_exporter": "python",
   "pygments_lexer": "ipython3",
   "version": "3.10.1"
  }
 },
 "nbformat": 4,
 "nbformat_minor": 5
}
