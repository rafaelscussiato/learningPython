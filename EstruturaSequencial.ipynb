{
 "cells": [
  {
   "cell_type": "code",
   "execution_count": 2,
   "id": "52801df4",
   "metadata": {},
   "outputs": [
    {
     "name": "stdout",
     "output_type": "stream",
     "text": [
      "Alo Mundo!\n"
     ]
    }
   ],
   "source": [
    "# Exercício 01 #\n",
    "# Faça um Programa que mostre a mensagem \"Alo mundo\" na tela.\n",
    "\n",
    "print(\"Alo Mundo!\")"
   ]
  },
  {
   "cell_type": "code",
   "execution_count": 4,
   "id": "62a749f3",
   "metadata": {},
   "outputs": [
    {
     "name": "stdout",
     "output_type": "stream",
     "text": [
      "Diga um número: 100\n",
      "O número informado foi:  100\n"
     ]
    }
   ],
   "source": [
    "# Exercício 02 #\n",
    "# Faça um Programa que peça um número e então mostre a mensagem O número informado foi [número].\n",
    "\n",
    "numero = input(\"Diga um número: \")\n",
    "\n",
    "print(\"O número informado foi: \", numero)\n"
   ]
  },
  {
   "cell_type": "code",
   "execution_count": 12,
   "id": "8d7a22d5",
   "metadata": {},
   "outputs": [
    {
     "name": "stdout",
     "output_type": "stream",
     "text": [
      "Diga um número: 8\n",
      "Diga outro número: 9\n",
      "A soma de  8  e  9  é:  17\n"
     ]
    }
   ],
   "source": [
    "# Exercício 03 #\n",
    "# Faça um Programa que peça dois números e imprima a soma.\n",
    "\n",
    "a = int(input(\"Diga um número: \"))\n",
    "b = int(input(\"Diga outro número: \"))\n",
    "print(\"A soma de \", a, \" e \", b, \" é: \", a + b)"
   ]
  },
  {
   "cell_type": "code",
   "execution_count": 16,
   "id": "f9435501",
   "metadata": {},
   "outputs": [
    {
     "name": "stdout",
     "output_type": "stream",
     "text": [
      "Qual foi sua nota no 1º bimestre? 8\n",
      "Qual foi sua nota no 2º bimestre? 9\n",
      "Qual foi sua nota no 3º bimestre? 8\n",
      "Qual foi sua nota no 4º bimestre? 9\n",
      "A média de suas notas bimestrais é  8.5\n"
     ]
    }
   ],
   "source": [
    "# Exercício 04 #\n",
    "# Faça um Programa que peça as 4 notas bimestrais e mostre a média.\n",
    "\n",
    "a = int(input(\"Qual foi sua nota no 1º bimestre? \"))\n",
    "b = int(input(\"Qual foi sua nota no 2º bimestre? \"))\n",
    "c = int(input(\"Qual foi sua nota no 3º bimestre? \"))\n",
    "d = int(input(\"Qual foi sua nota no 4º bimestre? \"))\n",
    "print(\"A média de suas notas bimestrais é \", (a + b + c + d) / 4)"
   ]
  },
  {
   "cell_type": "code",
   "execution_count": 22,
   "id": "b41d9f0a",
   "metadata": {},
   "outputs": [
    {
     "name": "stdout",
     "output_type": "stream",
     "text": [
      "Diga um valor em metros para converter em centímetros: 24\n",
      "24 metros equivalem a 2400 centímetros.\n"
     ]
    }
   ],
   "source": [
    "# Exercício 05 #\n",
    "# Faça um Programa que converta metros para centímetros.\n",
    "\n",
    "a = int(input(\"Diga um valor em metros para converter em centímetros: \"))\n",
    "if a == 1:\n",
    "    print(\"1 metro equivale a 100 centímetros\")\n",
    "else:\n",
    "    print(a, \"metros equivalem a\", a*100, \"centímetros.\")"
   ]
  },
  {
   "cell_type": "code",
   "execution_count": 25,
   "id": "5ff1dbc1",
   "metadata": {},
   "outputs": [
    {
     "name": "stdout",
     "output_type": "stream",
     "text": [
      "Diga o raio do círculo para saber a área: 4\n",
      "Considerando o raio de 4.0 , a área do círulo é: 50.26548245743669\n"
     ]
    }
   ],
   "source": [
    "# Exercício 06 #\n",
    "# Faça um Programa que peça o raio de um círculo, calcule e mostre sua área.\n",
    "\n",
    "import math\n",
    "a = float(input(\"Diga o raio do círculo para saber a área: \"))\n",
    "print(\"Considerando o raio de\", a,\", a área do círulo é:\", math.pi*(a**2))"
   ]
  },
  {
   "cell_type": "code",
   "execution_count": 27,
   "id": "1a34fb00",
   "metadata": {},
   "outputs": [
    {
     "name": "stdout",
     "output_type": "stream",
     "text": [
      "Diga o valor para os lados de um quadrado: 4\n",
      "O quadrado de lado 4 tem área total de 16\n",
      "O dobro da área desse quadrado seria 32\n",
      "Cada lado desse novo quadrado teria 5.656854249492381\n"
     ]
    }
   ],
   "source": [
    "# Exercício 07 #\n",
    "# Faça um Programa que calcule a área de um quadrado, em seguida mostre o dobro desta área para o usuário.\n",
    "\n",
    "lado = int(input(\"Diga o valor para os lados de um quadrado: \"))\n",
    "print(\"O quadrado de lado\", lado, \"tem área total de\", lado**2)\n",
    "ladoMaior = math.sqrt((lado**2)*2)\n",
    "print(\"O dobro da área desse quadrado seria\", (lado**2)*2)\n",
    "print(\"Cada lado desse novo quadrado teria\", ladoMaior)"
   ]
  },
  {
   "cell_type": "code",
   "execution_count": 31,
   "id": "522e9e3a",
   "metadata": {},
   "outputs": [
    {
     "name": "stdout",
     "output_type": "stream",
     "text": [
      "Que valor você recebeu por hora trabalhada esse mês?10\n",
      "Quantas horas você trabalho esse mês?44\n",
      "Considerando que seu ganho seria de R$ 440.0 , você receberá o salário mínimo de R$1.100,00\n"
     ]
    }
   ],
   "source": [
    "# Exercício 08 #\n",
    "# Faça um Programa que pergunte quanto você ganha por hora e o número de horas trabalhadas no mês. Calcule e mostre o total do seu salário no referido mês.\n",
    "\n",
    "valorHora = float(input(\"Que valor você recebeu por hora trabalhada esse mês?\"))\n",
    "jornada = int(input(\"Quantas horas você trabalhou esse mês?\"))\n",
    "salario = valorHora * jornada\n",
    "salarioMinimo = 1100\n",
    "if salario > salarioMinimo:\n",
    "    print(\"Isso significa que seu salário esse mês será: R$\", jornada*valorHora)\n",
    "else:\n",
    "    print(\"Considerando que seu ganho seria de R$\", salario, \", você receberá o salário mínimo de R$1.100,00\")"
   ]
  },
  {
   "cell_type": "code",
   "execution_count": null,
   "id": "b3ab593d",
   "metadata": {},
   "outputs": [],
   "source": [
    "# Exercício 09 #\n",
    "# Faça um Programa que peça a temperatura em graus Fahrenheit, transforme e mostre a temperatura em graus Celsius.\n",
    "\n",
    "tempF = float(input(\"Qual a temperatura em graus Fahrenheit?\"))\n",
    "tempC = 5 * ((tempF-32) / 9)\n",
    "print(tempF, \"graus Fahrenheit equivalem a\", tempC, \"graus Celsius.\")"
   ]
  },
  {
   "cell_type": "code",
   "execution_count": 36,
   "id": "35467546",
   "metadata": {},
   "outputs": [
    {
     "name": "stdout",
     "output_type": "stream",
     "text": [
      "Qual a temperatura em graus Celsius?-15\n",
      "-15.0 graus Celsius equivalem a 5.0 graus Fahrenheit.\n"
     ]
    }
   ],
   "source": [
    "# Exercício 10 #\n",
    "#Faça um Programa que peça a temperatura em graus Celsius, transforme e mostre em graus Fahrenheit.\n",
    "\n",
    "tempC = float(input(\"Qual a temperatura em graus Celsius?\"))\n",
    "tempF = (tempC *9/5) + 32\n",
    "print(tempC, \"graus Celsius equivalem a\", tempF, \"graus Fahrenheit.\")"
   ]
  },
  {
   "cell_type": "code",
   "execution_count": 37,
   "id": "b2a80cdb",
   "metadata": {},
   "outputs": [
    {
     "name": "stdout",
     "output_type": "stream",
     "text": [
      "Diga um número inteiro: 8\n",
      "Diga outro número inteiro: 9\n",
      "Agora diga um número real: -5.3\n",
      "O produto do dobro do primeiro com metade do segundo é igual a 72.0\n",
      "A soma do triplo do primeiro com o terceiro é igual a 18.7\n",
      "O terceiro número elevado ao cubo é igual a -148.87699999999998\n"
     ]
    }
   ],
   "source": [
    "# Exercício 11 #\n",
    "# Faça um Programa que peça 2 números inteiros e um número real. Calcule e mostre:\n",
    "# a. o produto do dobro do primeiro com metade do segundo .\n",
    "# b. a soma do triplo do primeiro com o terceiro.\n",
    "# c. o terceiro elevado ao cubo.\n",
    "\n",
    "a = int(input(\"Diga um número inteiro: \"))\n",
    "b = int(input(\"Diga outro número inteiro: \"))\n",
    "c = float(input(\"Agora diga um número real: \"))\n",
    "print(\"O produto do dobro do primeiro com metade do segundo é igual a\", (a*2)*(b/2))\n",
    "print(\"A soma do triplo do primeiro com o terceiro é igual a\", (a*3)+c)\n",
    "print(\"O terceiro número elevado ao cubo é igual a\", c**3)"
   ]
  },
  {
   "cell_type": "code",
   "execution_count": 39,
   "id": "db65b522",
   "metadata": {},
   "outputs": [
    {
     "name": "stdout",
     "output_type": "stream",
     "text": [
      "Diga sua altura:1.80\n",
      "O seu peso ideal é: 72.86000000000001\n"
     ]
    }
   ],
   "source": [
    "# Exercício 12 #\n",
    "# Tendo como dados de entrada a altura de uma pessoa, construa um algoritmo que calcule seu peso ideal, usando a seguinte fórmula: (72.7*altura) - 58\n",
    "\n",
    "h = float(input(\"Diga sua altura:\"))\n",
    "pesoIdeal = (72.7*h)-58\n",
    "print(\"O seu peso ideal é:\", pesoIdeal)"
   ]
  },
  {
   "cell_type": "code",
   "execution_count": 48,
   "id": "9772f417",
   "metadata": {},
   "outputs": [
    {
     "name": "stdout",
     "output_type": "stream",
     "text": [
      "Qual sua altura?1.80\n",
      "Se você é homem, seu peso ideal é  72.86000000000001\n",
      "Se você é mulher, seu peso ideal é  67.08\n"
     ]
    }
   ],
   "source": [
    "# Exercício 13 #\n",
    "# Tendo como dado de entrada a altura (h) de uma pessoa, construa um algoritmo que calcule seu peso ideal, utilizando as seguintes fórmulas:\n",
    "# a. Para homens: (72.7*h) - 58\n",
    "# b. Para mulheres: (62.1*h) - 44.7\n",
    "\n",
    "h = float(input(\"Qual sua altura?\"))\n",
    "print(\"Se você é homem, seu peso ideal é \", (72.7*h) - 58)\n",
    "print(\"Se você é mulher, seu peso ideal é \", (62.1*h) - 44.7)"
   ]
  },
  {
   "cell_type": "code",
   "execution_count": 4,
   "id": "e2769231",
   "metadata": {},
   "outputs": [
    {
     "name": "stdout",
     "output_type": "stream",
     "text": [
      "João, quantos quilos você pescou hoje? 62\n",
      "João, com 62Kgs de pesca você excedeu o limite em 12Kgs.\n",
      "Isso significa uma multa de R$48.00.\n"
     ]
    }
   ],
   "source": [
    "# Exercício 14 #\n",
    "# João Papo-de-Pescador, homem de bem, comprou um microcomputador para controlar o rendimento diário de seu trabalho. Toda vez que ele traz um peso de peixes maior que o estabelecido pelo regulamento de pesca do estado de São Paulo (50 quilos) deve pagar uma multa de R$ 4,00 por quilo excedente. João precisa que você faça um programa que leia a variável peso (peso de peixes) e calcule o excesso. Gravar na variável excesso a quantidade de quilos além do limite e na variável multa o valor da multa que João deverá pagar. Imprima os dados do programa com as mensagens adequadas.\n",
    "\n",
    "peso = int(input(\"João, quantos quilos você pescou hoje? \"))\n",
    "excesso = peso-50\n",
    "multa = excesso*4\n",
    "\n",
    "if peso > 50:\n",
    "    print(f\"João, com {peso}Kgs de pesca você excedeu o limite em {excesso}Kgs.\")\n",
    "    print(f\"Isso significa uma multa de R${multa:.2f}.\")\n",
    "else:\n",
    "    print(f\"Ótimo João, com {int(peso)}Kgs você não excedeu o limite de pesca.\")"
   ]
  },
  {
   "cell_type": "code",
   "execution_count": 6,
   "id": "f97f0e5f",
   "metadata": {},
   "outputs": [
    {
     "name": "stdout",
     "output_type": "stream",
     "text": [
      "Que valor você recebeu por hora trabalhada esse mês?20\n",
      "Quantas horas você trabalhou esse mês?220\n",
      "No referido mês, seu salário bruto é de: R$4400.00\n",
      "Você será descontado em 11% de referente ao Imposto de Renda, num total de: R$484.00\n",
      "Você será descontado em 8% de referente ao INSS, num total de: R$ 352.00\n",
      "Você será descontado em 5% de referente ao Imposto Sindical, num total de: R$ 220.00\n",
      "Após os descontos, seu salário liquido será R$3344.00.\n"
     ]
    }
   ],
   "source": [
    "# Exercício 15 #\n",
    "# Faça um Programa que pergunte quanto você ganha por hora e o número de horas trabalhadas no mês. Calcule e mostre o total do seu salário no referido mês, sabendo-se que são descontados 11% para o Imposto de Renda, 8% para o INSS e 5% para o sindicato, faça um programa que nos dê:\n",
    "# a. salário bruto.\n",
    "# b. quanto pagou ao INSS.\n",
    "# c. quanto pagou ao sindicato.\n",
    "# d. o salário líquido.\n",
    "# e. calcule os descontos e o salário líquido\n",
    "\n",
    "valorHora = float(input(\"Que valor você recebeu por hora trabalhada esse mês?\"))\n",
    "jornada = int(input(\"Quantas horas você trabalhou esse mês?\"))\n",
    "salarioBruto = valorHora * jornada\n",
    "salarioMinimo = 1100\n",
    "ir = salarioBruto*0.11\n",
    "inss = salarioBruto*0.08\n",
    "sindicato = salarioBruto*0.05\n",
    "descontos = ir+inss+sindicato\n",
    "salarioLiquido = salarioBruto-descontos\n",
    "\n",
    "print(f\"No referido mês, seu salário bruto é de: R${salarioBruto:.2f}\")\n",
    "print(f\"Você será descontado em 11% de referente ao Imposto de Renda, num total de: R${ir:.2f}\")\n",
    "print(f\"Você será descontado em 8% de referente ao INSS, num total de: R${inss:.2f}\")\n",
    "print(f\"Você será descontado em 5% de referente ao Imposto Sindical, num total de: R${sindicato:.2f}\")\n",
    "if salarioLiquido < salarioMinimo:\n",
    "    print(f\"Após os descontos, seu salário liquido seria R${salarioLiquido:.2f}. Portanto você receberá o salário de R$1.100,00\")\n",
    "else:\n",
    "    print(f\"Após os descontos, seu salário liquido será R${salarioLiquido:.2f}.\")"
   ]
  },
  {
   "cell_type": "code",
   "execution_count": 67,
   "id": "cb68aa4b",
   "metadata": {},
   "outputs": [
    {
     "name": "stdout",
     "output_type": "stream",
     "text": [
      "Qual a área, em m², a ser pintada?216\n",
      "Você precisará comprar 4 latas de tinta. O preço total dessa compra será: R$ 320\n"
     ]
    }
   ],
   "source": [
    "# Exercício 16 #\n",
    "# Faça um programa para uma loja de tintas. O programa deverá pedir o tamanho em metros quadrados da área a ser pintada. Considere que a cobertura da tinta é de 1 litro para cada 3 metros quadrados e que a tinta é vendida em latas de 18 litros, que custam R$ 80,00. Informe ao usuário a quantidades de latas de tinta a serem compradas e o preço total.\n",
    "\n",
    "area = float(input(\"Qual a área, em m², a ser pintada?\"))\n",
    "litros = float(area/3)\n",
    "if litros%18 == 0:\n",
    "    latas = int(litros/18)\n",
    "else:\n",
    "    latas = int((litros/18)+1)\n",
    "gasto = latas*80\n",
    "print(\"Você precisará comprar\", latas, \"latas de tinta.\")\n",
    "print(\"O preço total dessa compra será de R$\", gasto)"
   ]
  },
  {
   "cell_type": "code",
   "execution_count": 89,
   "id": "c787050e",
   "metadata": {},
   "outputs": [
    {
     "name": "stdout",
     "output_type": "stream",
     "text": [
      "Qual a área, em m², a ser pintada? 217\n",
      "Comprando apenas latas, precisará de 3 latas. Isso custará R$ 240.00 .\n",
      "Comprando apenas galões, precisará de 11 latas. Isso custará R$ 275.00 .\n",
      "Misturando e acrescendo 10% para evitar falta, você precisará de 2 latas e 2 galões. Isso custará R$ 210.00 .\n"
     ]
    }
   ],
   "source": [
    "# Exercício 17 #\n",
    "# Faça um Programa para uma loja de tintas. O programa deverá pedir o tamanho em metros quadrados da área a ser pintada. Considere que a cobertura da tinta é de 1 litro para cada 6 metros quadrados e que a tinta é vendida em latas de 18 litros, que custam R$ 80,00 ou em galões de 3,6 litros, que custam R$ 25,00.\n",
    "# Informe ao usuário as quantidades de tinta a serem compradas e os respectivos preços em 3 situações:\n",
    "# a. comprar apenas latas de 18 litros;\n",
    "# b. comprar apenas galões de 3,6 litros;\n",
    "# c. misturar latas e galões, de forma que o desperdício de tinta seja menor. Acrescente 10% de folga e sempre arredonde os valores para cima, isto é, considere latas cheias.\n",
    "\n",
    "area = float(input(\"Qual a área, em m², a ser pintada? \"))\n",
    "litros = area/6\n",
    "\n",
    "if litros%18 == 0:\n",
    "    latas = int(litros/18)\n",
    "else:\n",
    "    latas = int((litros/18)+1)\n",
    "    \n",
    "if litros%3.6 == 0:\n",
    "    galoes = int(litros/3.6)\n",
    "else:\n",
    "    galoes = int((litros/3.6)+1)\n",
    "\n",
    "misturaLatas = int((litros*1.1)//18) \n",
    "misturaGaloes = int(((litros*1.1)%18)/3.6)\n",
    "if litros-(misturaLatas%18)+(misturaGaloes%3.6) != 0:\n",
    "    misturaGaloes += 1\n",
    "\n",
    "gastoLatas = int(latas*80)\n",
    "gastoGaloes = int(galoes*25)\n",
    "    \n",
    "print(\"Comprando apenas latas, precisará de\", latas, \"latas. Isso custará R$ %.2f\" % gastoLatas, \".\")\n",
    "print(\"Comprando apenas galões, precisará de\", galoes, \"latas. Isso custará R$ %.2f\" % gastoGaloes, \".\")\n",
    "print(\"Misturando e acrescendo 10% para evitar falta, você precisará de\", misturaLatas, \"latas e\", misturaGaloes, \"galões. Isso custará R$ %.2f\" % (misturaLatas*80 + misturaGaloes*25), \".\")"
   ]
  },
  {
   "cell_type": "code",
   "execution_count": 90,
   "id": "76f4a156",
   "metadata": {},
   "outputs": [
    {
     "name": "stdout",
     "output_type": "stream",
     "text": [
      "Qual o tamanho do arquivo para download (em MB?)15\n",
      "Qual a velocidade do link de internet (em Mbps)?150\n",
      "O seu download vai demorar aproximadamente: 1.33 minutos.\n"
     ]
    }
   ],
   "source": [
    "# Exercício 18 #\n",
    "# Faça um programa que peça o tamanho de um arquivo para download (em MB) e a velocidade de um link de Internet (em Mbps), calcule e informe o tempo aproximado de download do arquivo usando este link (em minutos).\n",
    "\n",
    "tamanho = float(input(\"Qual o tamanho do arquivo para download (em MB?)\"))\n",
    "velocidade = int(input(\"Qual a velocidade do link de internet (em Mbps)?\"))\n",
    "download = velocidade*8/tamanho\n",
    "\n",
    "print(\"O seu download vai demorar aproximadamente: %.2f\" % (download/60), \"minutos.\")"
   ]
  },
  {
   "cell_type": "code",
   "execution_count": null,
   "id": "af738fc2",
   "metadata": {},
   "outputs": [],
   "source": []
  }
 ],
 "metadata": {
  "kernelspec": {
   "display_name": "Python 3 (ipykernel)",
   "language": "python",
   "name": "python3"
  },
  "language_info": {
   "codemirror_mode": {
    "name": "ipython",
    "version": 3
   },
   "file_extension": ".py",
   "mimetype": "text/x-python",
   "name": "python",
   "nbconvert_exporter": "python",
   "pygments_lexer": "ipython3",
   "version": "3.10.1"
  }
 },
 "nbformat": 4,
 "nbformat_minor": 5
}
