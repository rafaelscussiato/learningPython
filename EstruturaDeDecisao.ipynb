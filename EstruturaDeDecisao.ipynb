{
 "cells": [
  {
   "cell_type": "code",
   "execution_count": 3,
   "id": "b5085e87",
   "metadata": {},
   "outputs": [
    {
     "name": "stdout",
     "output_type": "stream",
     "text": [
      "O maior número é:  4\n"
     ]
    }
   ],
   "source": [
    "# Exercício 1 #\n",
    "# Faça um Programa que peça dois números e imprima o maior deles.\n",
    "\n",
    "n1 = int(input(\"Escolha um número: \"))\n",
    "n2 = int(input(\"Escolha outro número: \"))\n",
    "\n",
    "maior = n1\n",
    "if n2 > n1:\n",
    "    maior = n2\n",
    "print(\"O maior número é: \", maior)"
   ]
  },
  {
   "cell_type": "code",
   "execution_count": 4,
   "id": "02eeaeee",
   "metadata": {},
   "outputs": [
    {
     "name": "stdout",
     "output_type": "stream",
     "text": [
      "O número escolhido é positivo.\n"
     ]
    }
   ],
   "source": [
    "# Exercício 2 #\n",
    "# Faça um Programa que peça um valor e mostre na tela se o valor é positivo ou negativo.\n",
    "\n",
    "n = int(input(\"Escolha um número: \"))\n",
    "\n",
    "if n < 0:\n",
    "    print(\"O número escolhido é negativo.\")\n",
    "elif n > 0:\n",
    "    print(\"O número escolhido é positivo.\")\n",
    "else:\n",
    "    print(\"O número é 0\")"
   ]
  },
  {
   "cell_type": "code",
   "execution_count": 5,
   "id": "b6d5f627",
   "metadata": {},
   "outputs": [
    {
     "name": "stdout",
     "output_type": "stream",
     "text": [
      "M - Sexo Masculino\n"
     ]
    }
   ],
   "source": [
    "# Exercício 3 #\n",
    "# Faça um Programa que verifique se uma letra digitada é \"F\" ou \"M\". \n",
    "# Conforme a letra escrever: F - Feminino, M - Masculino, Sexo Inválido.\n",
    "\n",
    "sex = str(input(\"Com apenas uma letra, indique seu sexo biológico:\").upper())\n",
    "\n",
    "if sex == 'M':\n",
    "    print(\"M - Sexo Masculino\")\n",
    "elif sex == 'F':\n",
    "    print(\"F - Sexo Feminino\")\n",
    "else:\n",
    "    print(\"Sexo biológico inválido.\")"
   ]
  },
  {
   "cell_type": "code",
   "execution_count": 6,
   "id": "4d2bfb70",
   "metadata": {},
   "outputs": [
    {
     "name": "stdout",
     "output_type": "stream",
     "text": [
      "A letra g é uma consoante\n"
     ]
    }
   ],
   "source": [
    "# Exercício 4 #\n",
    "# Faça um Programa que verifique se uma letra digitada é vogal ou consoante.\n",
    "\n",
    "def vogal(v):\n",
    "    if v in \"aeiou\":\n",
    "        return True\n",
    "    else:\n",
    "        return False\n",
    "    \n",
    "def consoante(c):\n",
    "    if c in \"bcdfghjklmnopqrstuvwxyz\":\n",
    "        return True\n",
    "    else:\n",
    "        return False\n",
    "    \n",
    "letra = str(input(\"Digite uma letra: \"))\n",
    "\n",
    "if vogal(letra.lower()) == True:\n",
    "    print(f\"A letra {letra} é uma vogal\")\n",
    "elif consoante(letra.lower()) == True:\n",
    "    print(f\"A letra {letra} é uma consoante\")\n",
    "else:\n",
    "    print(\"O caractere não é uma letra.\")\n",
    "    \n",
    "# Expandi para que seja identificado também se não é letra do alfabeto\n",
    "# Também cuidei para que a letra seja exibida da mesma forma que digitada pelo usuário"
   ]
  },
  {
   "cell_type": "code",
   "execution_count": 10,
   "id": "62b58eb7",
   "metadata": {
    "scrolled": true
   },
   "outputs": [
    {
     "name": "stdout",
     "output_type": "stream",
     "text": [
      "Reprovado. Sua média foi 5.5\n"
     ]
    }
   ],
   "source": [
    "# Exercício 5 #\n",
    "# Faça um programa para a leitura de duas notas parciais de um aluno. O programa deve calcular a média alcançada por aluno e apresentar:\n",
    "# a. A mensagem \"Aprovado\", se a média alcançada for maior ou igual a sete;\n",
    "# b. A mensagem \"Reprovado\", se a média for menor do que sete;\n",
    "# c. A mensagem \"Aprovado com Distinção\", se a média for igual a dez.\n",
    "\n",
    "nota1 = float(input(\"Digite a primeira nota parcial: \"))\n",
    "\n",
    "nota2 = float(input(\"Digite a segunda nota parcial: \"))\n",
    "\n",
    "media = (nota1 + nota2)/2\n",
    "    \n",
    "if media == 10:\n",
    "    print(\"Aprovado com Distinção! Sua média foi 10!\")\n",
    "elif media >= 7:\n",
    "    print(f\"Aprovado. Sua média foi {media:.1f}\")\n",
    "else:\n",
    "    print(f\"Reprovado. Sua média foi {media:.1f}\")"
   ]
  },
  {
   "cell_type": "code",
   "execution_count": null,
   "id": "609b9175",
   "metadata": {
    "scrolled": true
   },
   "outputs": [],
   "source": [
    "# Exercício 6 #\n",
    "# Faça um Programa que leia três números e mostre o maior deles.\n",
    "\n",
    "n1 = int(input(\"Escolha o primeiro número: \"))\n",
    "n2 = int(input(\"Escolha o segundo número: \"))\n",
    "n3 = int(input(\"Escolha o terceiro número: \"))\n",
    "\n",
    "maior = n1\n",
    "if n2 > n1:\n",
    "    maior = n2\n",
    "if n3 > n1 and n3 > n2:\n",
    "    maior = n3\n",
    "\n",
    "print(\"Dentre os três, o maior número é o: %d\" % maior)"
   ]
  },
  {
   "cell_type": "code",
   "execution_count": null,
   "id": "21738460",
   "metadata": {},
   "outputs": [],
   "source": [
    "# Exercício 7 #\n",
    "# Faça um Programa que leia três números e mostre o maior e o menor deles.\n",
    "\n",
    "n1 = int(input(\"Escolha o primeiro número: \"))\n",
    "n2 = int(input(\"Escolha o segundo número: \"))\n",
    "n3 = int(input(\"Escolha o terceiro número: \"))\n",
    "\n",
    "maior = n1\n",
    "if n2 > n1:\n",
    "    maior = n2\n",
    "if n3 > n1 and n3 > n2:\n",
    "    maior = n3\n",
    "\n",
    "menor = n1\n",
    "if n2 < n1:\n",
    "    menor = n2\n",
    "if n3 < n1 and n3 < n2:\n",
    "    menor = n3\n",
    "    \n",
    "print(\"Dentre os três, o maior número é o %d e o menor é o %d\" % (maior, menor))"
   ]
  },
  {
   "cell_type": "code",
   "execution_count": null,
   "id": "8ddd1f80",
   "metadata": {
    "scrolled": false
   },
   "outputs": [],
   "source": [
    "# Exercício 8 #\n",
    "# Faça um programa que pergunte o preço de três produtos e informe qual produto você deve comprar, sabendo que a decisão é sempre pelo mais barato.\n",
    "\n",
    "preco_produto1 = float(input(\"Qual o preço do primeiro produto? R$\"))\n",
    "preco_produto2 = float(input(\"Qual o preço do segundo produto? R$\"))\n",
    "preco_produto3 = float(input(\"Qual o preço do terceiro produto? R$\"))\n",
    "\n",
    "def produto_mais_barato ():\n",
    "    if preco_produto1 < preco_produto2 and preco_produto1 < preco_produto3 and preco_produto1 != preco_produto2 and preco_produto3:\n",
    "        print(\"O primeiro produto, de valor R$%.2f, é o mais barato.\" % preco_produto1)\n",
    "    elif preco_produto2 < preco_produto1 and preco_produto2 < preco_produto3 and preco_produto2 != preco_produto1 and preco_produto3:\n",
    "        print(\"O segundo produto, de valor R$%.2f, é o mais barato.\" % preco_produto2)\n",
    "    elif preco_produto3 < preco_produto2 and preco_produto3 < preco_produto1 and preco_produto3 != preco_produto2 and preco_produto1:\n",
    "        print(\"O terceiro produto, de valor R$%.2f, é o mais barato.\" % preco_produto3)\n",
    "    elif preco_produto1 == preco_produto2 and preco_produto1 and preco_produto2 < preco_produto3:\n",
    "        print(\"O primeiro e o segundo produtos, de valor R$%.2f, são os mais baratos. Escolha entre eles!\" % preco_produto1)\n",
    "    elif preco_produto1 == preco_produto3 and preco_produto1 and preco_produto3 < preco_produto2:\n",
    "        print(\"O primeiro e o terceiro produtos, de valor R$%.2f, são os mais baratos. Escolha entre eles!\" % preco_produto1)\n",
    "    elif preco_produto2 == preco_produto3 and preco_produto2 and preco_produto3 < preco_produto1:\n",
    "        print(\"O segundo e o terceiro produtos, de valor R$%.2f, são os mais baratos. Escolha entre eles!\" % preco_produto2)\n",
    "    else:\n",
    "        print(\"Os produtos tem valor igual, pode escolher pelo coração!\")\n",
    "        \n",
    "produto_mais_barato()"
   ]
  },
  {
   "cell_type": "code",
   "execution_count": null,
   "id": "73b8af74",
   "metadata": {},
   "outputs": [],
   "source": [
    "# Exercício 9 #\n",
    "# Faça um Programa que leia três números e mostre-os em ordem decrescente.\n",
    "\n",
    "n1 = int(input(\"Diga um número: \"))\n",
    "n2 = int(input(\"Diga outro número: \"))\n",
    "n3 = int(input(\"Diga um número: \"))\n",
    "\n",
    "lista = [n1, n2, n3]\n",
    "lista.sort(reverse = True)\n",
    "\n",
    "print(lista)"
   ]
  },
  {
   "cell_type": "code",
   "execution_count": null,
   "id": "7cb98a91",
   "metadata": {},
   "outputs": [],
   "source": [
    "# Exercício 10 #\n",
    "# Faça um Programa que pergunte em que turno você estuda. Peça para digitar M-matutino ou V-Vespertino ou N- Noturno.\n",
    "# Imprima a mensagem \"Bom Dia!\", \"Boa Tarde!\" ou \"Boa Noite!\" ou \"Valor Inválido!\", conforme o caso.\n",
    "\n",
    "turno = str(input(\"Em que período você estuda? \").upper())\n",
    "\n",
    "if turno == 'M':\n",
    "    print(\"Bom dia!\")\n",
    "elif turno == 'V':\n",
    "    print(\"Boa tarde!\")\n",
    "elif turno == 'N':\n",
    "    print(\"Boa noite!\")\n",
    "else:\n",
    "    print(\"Valor inválido.\")"
   ]
  },
  {
   "cell_type": "code",
   "execution_count": null,
   "id": "efc0f941",
   "metadata": {
    "scrolled": true
   },
   "outputs": [],
   "source": [
    "# Exercício 11 #\n",
    "'''\n",
    "As Organizações Tabajara resolveram dar um aumento de salário aos seus colaboradores e lhe contraram para desenvolver \n",
    "o programa que calculará os reajustes. Faça um programa que recebe o salário de um colaborador e o reajuste segundo o\n",
    "seguinte critério, baseado no salário atual:\n",
    "a. salários até R$ 280,00 (incluindo) : aumento de 20%\n",
    "b. salários entre R$ 280,00 e R$ 700,00 : aumento de 15%\n",
    "c. salários entre R$ 700,00 e R$ 1500,00 : aumento de 10%\n",
    "d. salários de R$ 1500,00 em diante : aumento de 5% \n",
    "\n",
    "Após o aumento ser realizado, informe na tela:\n",
    "e. o salário antes do reajuste;\n",
    "f. o percentual de aumento aplicado;\n",
    "g. o valor do aumento;\n",
    "h. o novo salário, após o aumento.''' \n",
    "\n",
    "if salario <= 280:\n",
    "    reajuste = 0.2\n",
    "elif salario > 280 and salario <= 700:\n",
    "    reajuste = 0.15\n",
    "elif salario > 700 and salario <= 1500:\n",
    "    reajuste = 0.1\n",
    "else:\n",
    "    reajuste = 0.05\n",
    "        \n",
    "salario = float(input(\"Qual é o seu salário atual? R$\"))\n",
    "acrescimo = salario*reajuste\n",
    "aumento = int(reajuste*100)\n",
    "novo_salario = salario + acrescimo\n",
    "\n",
    "print(\"Seu salário hoje é de: R$%.2f\" % salario)\n",
    "print(f'Pela sua faixa salarial, você receberá um reajuste de {aumento}%.')\n",
    "print(\"O valor do aumento será de R$%.2f\" % acrescimo)\n",
    "print(\"Assim, seu novo salário será de: R$%.2f\" % novo_salario)"
   ]
  },
  {
   "cell_type": "code",
   "execution_count": null,
   "id": "f525b1dd",
   "metadata": {},
   "outputs": [],
   "source": [
    "# Exercício 12\n",
    "'''\n",
    "Faça um programa para o cálculo de uma folha de pagamento, sabendo que os descontos são do Imposto de Renda, que depende\n",
    "do salário bruto, 8% do INSS, 3% para o Sindicato e que o FGTS corresponde a 11% do Salário Bruto, mas não é descontado.\n",
    "\n",
    "O Salário Líquido corresponde ao Salário Bruto menos os descontos. \n",
    "O programa deverá pedir ao usuário o valor da sua hora e a quantidade de horas trabalhadas no mês.\n",
    "\n",
    "Desconto do IR:\n",
    "Salário Bruto até 900 (inclusive) - isento\n",
    "Salário Bruto até 1500 (inclusive) - desconto de 5%\n",
    "Salário Bruto até 2500 (inclusive) - desconto de 10%\n",
    "Salário Bruto acima de 2500 - desconto de 20%\n",
    "\n",
    "Imprima na tela as informações: \n",
    "    Salário Bruto: (5 * 220) : R$ 1100,00\n",
    "    (-) IR (5%)              : R$   55,00  \n",
    "    (-) INSS (8%)            : R$  110,00\n",
    "    (-) Sindicato(3%)        : R$   33,00\n",
    "    FGTS (11%)               : R$  121,00\n",
    "    Total de descontos       : R$  198,00\n",
    "    Salário Liquido          : R$ \n",
    "'''\n",
    "\n",
    "valor_hora = float(input(\"Que valor você recebeu por hora trabalhada esse mês? R$\"))\n",
    "jornada = int(input(\"Quantas horas cheias você trabalhou esse mês? \"))\n",
    "salario_bruto = valor_hora * jornada\n",
    "\n",
    "if salario_bruto <= 900:\n",
    "    ir = 0\n",
    "elif salario_bruto > 900 and salario_bruto <= 1500:\n",
    "    ir = 0.05\n",
    "elif salario_bruto > 1500 and salario_bruto <= 2500:\n",
    "    ir = 0.1\n",
    "elif salario_bruto > 2500:\n",
    "    ir = 0.2\n",
    "        \n",
    "percentual_ir = int(ir*100)\n",
    "desconto_ir = ir * salario_bruto\n",
    "inss = salario_bruto*0.08\n",
    "sind = salario_bruto*0.03\n",
    "fgts = salario_bruto*0.11\n",
    "descontos = desconto_ir + inss + sind\n",
    "salario_liquido = salario_bruto - descontos\n",
    "\n",
    "print('    Salário Bruto:      : R$ {:.2f}'.format(salario_bruto))\n",
    "if salario_bruto <= 1500:\n",
    "    print('    (-) IR ({0}%)         : R$ {1:.2f}'.format(percentual_ir, desconto_ir))\n",
    "else:\n",
    "    print('    (-) IR ({0}%)        : R$ {1:.2f}'.format(percentual_ir, desconto_ir)) # if apenas para alinhar os valores\n",
    "print('    (-) INSS            : R$ {:.2f}'.format(inss))\n",
    "print('    (-) Sindicato       : R$ {:.2f}'.format(sind))\n",
    "print('    FGTS (11%)          : R$ {:.2f}'.format(fgts))\n",
    "print('    Total de descontos  : R$ {:.2f}'.format(descontos))\n",
    "print('    Salário Líquido     : R$ {:.2f}'.format(salario_liquido))"
   ]
  },
  {
   "cell_type": "code",
   "execution_count": null,
   "id": "e2afd0f5",
   "metadata": {},
   "outputs": [],
   "source": [
    "# Exercício 13\n",
    "# Faça um Programa que leia um número e exiba o dia correspondente da semana. (1-Domingo, 2- Segunda, etc.),\n",
    "# se digitar outro valor deve aparecer valor inválido.\n",
    "\n",
    "def consoante(c):\n",
    "    if c in \"dstqss\":\n",
    "        return True\n",
    "    else:\n",
    "        return False\n",
    "    \n",
    "letra = str(input(\"Digite uma letra: \"))\n",
    "\n",
    "if vogal(letra.lower()) == True:\n",
    "    print(\"A letra %s é uma vogal\" % letra)\n",
    "elif consoante(letra.lower()) == True:\n",
    "    print(\"A letra %s é uma consoante\" % letra)\n",
    "else:\n",
    "    print(\"O caractere não é uma letra.\")"
   ]
  },
  {
   "cell_type": "code",
   "execution_count": null,
   "id": "a3ab9506",
   "metadata": {},
   "outputs": [],
   "source": [
    "# Exercício 14\n",
    "'''Faça um programa que lê as duas notas parciais obtidas por um aluno numa disciplina ao longo de um semestre, \n",
    "e calcule a sua média. A atribuição de conceitos obedece à tabela abaixo:\n",
    " \n",
    "  Média de Aproveitamento  Conceito\n",
    "  Entre 9.0 e 10.0         A\n",
    "  Entre 7.5 e 9.0          B\n",
    "  Entre 6.0 e 7.5          C\n",
    "  Entre 4.0 e 6.0          D\n",
    "  Entre 4.0 e zero         E\n",
    "  \n",
    "O algoritmo deve mostrar na tela as notas, a média, o conceito correspondente e a mensagem “APROVADO” se o conceito for\n",
    "A, B ou C ou “REPROVADO” se o conceito for D ou E. '''\n",
    "\n",
    "nota1 = float(input(\"Qual a sua primeira nota parcial na matéria? \"))\n",
    "nota2 = float(input(\"Qual a sua segunda nota parcial na matéria? \"))\n",
    "notas = (nota1 + nota2)\n",
    "\n",
    "def calcula_media(*notas):\n",
    "    soma = sum(notas)\n",
    "    media = soma // len(notas)\n",
    "    return media\n",
    "    \n",
    "if nota1 > 10 or nota1 < 0 or nota2 > 10 or nota2 < 0:\n",
    "    print(\"Notas inválidas!\")\n",
    "    nota1 = float(input(\"Digite novamente sua primeira nota parcial: \"))\n",
    "    nota2 = float(input(\"Agora sua segunda nota parcial: \"))\n",
    "else:\n",
    "    if media >= 9:\n",
    "        conceito = \"A\"\n",
    "    elif media >= 7.5 and media < 9:\n",
    "        conceito = \"B\"\n",
    "    elif media >= 6 and media < 7.5:\n",
    "        conceito = \"C\"\n",
    "    elif media >= 4 and media < 6:\n",
    "        conceito = \"D\"\n",
    "    elif media >= 0 and media < 4:\n",
    "        conceito = \"E\"\n",
    "        \n",
    "def verifica_aprovacao(conceito):\n",
    "    if conceito.upper == \"A\" or \"B\" or \"C\":\n",
    "        aprovacao = \"APROVADO\"\n",
    "        return aprovacao\n",
    "    else:\n",
    "        aprovacao = \"REPROVADO\"\n",
    "        return aprovacao\n",
    "    \n",
    "print(f\"Suas notas foram: {nota1:.2f} e {nota2:.2f}.\")\n",
    "print(f\"Sua média foi {media:.2f}.\")\n",
    "print(f\"Com essa média, o seu conceito é {conceito}.\")\n",
    "if conceito.upper == \"A\" or \"B\" or \"C\":\n",
    "    print(f\"Conceito {conceito} significa que você está APROVADO(A)!\")\n",
    "    print(f\"Parabéns!\")\n",
    "else:\n",
    "    print(f\"Conceito {conceito} significa que você está REPROVADO(A)!\")\n",
    "    print(f\"Sentimos muito, você precisa repetir o curso.\")"
   ]
  },
  {
   "cell_type": "code",
   "execution_count": null,
   "id": "be53f60c",
   "metadata": {},
   "outputs": [],
   "source": [
    "# Exercício 15\n",
    "'''Faça um Programa que peça os 3 lados de um triângulo. O programa deve informar se os valores podem ser um triângulo.\n",
    "Indique, caso os lados formem um triângulo, se o mesmo é: equilátero, isósceles ou escaleno.\n",
    "Dicas:\n",
    "Três lados formam um triângulo quando a soma de quaisquer dois lados for maior que o terceiro;\n",
    "Triângulo Equilátero: três lados iguais;\n",
    "Triângulo Isósceles: quaisquer dois lados iguais;\n",
    "Triângulo Escaleno: três lados diferentes;'''\n",
    "\n",
    "l1 = int(input(\"Diga o primeiro lado do triângulo: \"))\n",
    "l2 = int(input(\"Diga o segundo lado do triângulo: \"))\n",
    "l3 = int(input(\"Diga o terceiro lado do triângulo: \"))\n",
    "\n",
    "def verifica_tipo_triangulo():\n",
    "    if (l1 + l2 < l3) or (l1 + l3 < l2) or (l2 + l3 < l1):\n",
    "        print(\"Esses lados não representam um triangulo.\")\n",
    "    elif (l1 == l2 and l1 != l3) or (l1 == l3 and l1 != l2) or (l2 == l3 and l2 != l1):\n",
    "        print(\"Esse é um triângulo Isóceles.\")\n",
    "    elif l1 == l2 and l2 == l3:\n",
    "        print(\"Esse é um triângulo Equilátero.\")\n",
    "    else:\n",
    "        print(\"Esse é um triângulo Escaleno.\")\n",
    "        \n",
    "verifica_tipo_triangulo()"
   ]
  },
  {
   "cell_type": "code",
   "execution_count": null,
   "id": "bf027080",
   "metadata": {
    "scrolled": false
   },
   "outputs": [],
   "source": [
    "# Exercício 16\n",
    "'''Faça um programa que calcule as raízes de uma equação do segundo grau, na forma ax2 + bx + c. \n",
    "O programa deverá pedir os valores de a, b e c e fazer as consistências, informando ao usuário nas seguintes situações:\n",
    "Se o usuário informar o valor de A igual a zero, a equação não é do segundo grau e o programa não deve fazer pedir os demais valores, sendo encerrado;\n",
    "Se o delta calculado for negativo, a equação não possui raizes reais. Informe ao usuário e encerre o programa;\n",
    "Se o delta calculado for igual a zero a equação possui apenas uma raiz real; informe-a ao usuário;\n",
    "Se o delta for positivo, a equação possui duas raiz reais; informe-as ao usuário;'''\n",
    "\n",
    "import math\n",
    "from sys import exit\n",
    "\n",
    "print(\"Vamos calcular as raízes de uma equação de segundo grau.\")\n",
    "print('A base do cálculo, como você sabe, é a expressão \"ax² + bx + c\".')\n",
    "a = float(input('Qual o valor de \"a\"? '))\n",
    "if a == 0:\n",
    "    print('Com \"a\" de valor zero, não teremos uma função de segundo grau.')\n",
    "    print('Não faz sentido continuar.')\n",
    "    exit()\n",
    "else:\n",
    "    b = float(input('Qual o valor de \"b\"? '))\n",
    "    c = float(input('Qual o valor de \"c\"? '))\n",
    "\n",
    "delta = (b ** 2) - (4 * a * c)\n",
    "\n",
    "if delta < 0:\n",
    "    print('O Delta da equação é negativo e, portanto, não possui raízes reais.')\n",
    "elif delta == 0:\n",
    "    raiz_real = (-1 * b) / (2 * a) \n",
    "    print('Nesse caso, o valor de delta é igual a zero, portanto temos apenas uma raiz real.')\n",
    "    print(f'A única raiz real é {raiz_real}.')\n",
    "else:\n",
    "    rr_positiva = ((-1 * b) + math.sqrt(delta)) / (2 * a)\n",
    "    rr_negativa = ((-1 * b) - math.sqrt(delta)) / (2 * a)\n",
    "    print(f'As raízes da equação sugeridas são {rr_positiva} e {rr_negativa}')"
   ]
  },
  {
   "cell_type": "code",
   "execution_count": null,
   "id": "8d4fddc2",
   "metadata": {},
   "outputs": [],
   "source": [
    "# Exercício 17\n",
    "#Faça um Programa que peça um número correspondente a um determinado ano\n",
    "# em seguida informe se este ano é ou não bissexto.\n",
    "\n",
    "ano = int(input(\"Escolha um ano para saber se é bissexto: \"))\n",
    "\n",
    "if (ano % 4 == 0 and ano % 100 != 0) or (ano % 400 == 0):\n",
    "    print(f'{ano} é um ano bissexto.')\n",
    "else:\n",
    "    print(f'{ano} não é um ano bissexto.')"
   ]
  },
  {
   "cell_type": "code",
   "execution_count": null,
   "id": "2567b1e4",
   "metadata": {},
   "outputs": [],
   "source": [
    "# Exercício 18 #\n",
    "# Faça um Programa que peça uma data no formato dd/mm/aaaa e determine se a mesma é uma data válida.\n",
    "import math\n",
    "\n",
    "print(\"Pense em uma data!\")\n",
    "data = str(input(\"Digite a data em formato (dd/mm/aaaa): \"))\n",
    "\n",
    "dia = int(data[0:2])\n",
    "mes = int(data[3:5])\n",
    "ano = int(data[6:10])\n",
    "\n",
    "if (ano % 4 == 0 and ano % 100 != 0) or (ano % 400 == 0):\n",
    "    bissexto = True\n",
    "else:\n",
    "    bissexto = False\n",
    "\n",
    "validade = True\n",
    "i = 0\n",
    "while validade == True and i == 0:\n",
    "    if mes<1 or mes>12:\n",
    "        validade = False\n",
    "    if dia > 31 or ((mes == 4 or mes == 6 or mes == 9 or mes == 11) and dia>30):\n",
    "        validade = False\n",
    "    if (mes == 2 and bissexto == True and dia > 29) or (mes == 2 and bissexto == False and dia > 28):\n",
    "        validade = False\n",
    "    i=i+1\n",
    "\n",
    "if validade == True:\n",
    "    print(\"Essa data é válida.\")\n",
    "\n",
    "if validade == False:\n",
    "    print(\"Essa data é inválida.\")"
   ]
  },
  {
   "cell_type": "code",
   "execution_count": 138,
   "id": "084d7dbd",
   "metadata": {},
   "outputs": [
    {
     "name": "stdout",
     "output_type": "stream",
     "text": [
      "O número 1 tem 1 unidade.\n"
     ]
    }
   ],
   "source": [
    "# Exercício 19 #\n",
    "# Faça um Programa que leia um número inteiro menor que 1000 e imprima a quantidade de centenas, dezenas e unidades do mesmo.\n",
    "# Observando os termos no plural a colocação do \"e\", da vírgula entre outros. Exemplo:\n",
    "# 326 = 3 centenas, 2 dezenas e 6 unidades\n",
    "# 12 = 1 dezena e 2 unidades Testar com: 326, 300, 100, 320, 310,305, 301, 101, 311, 111, 25, 20, 10, 21, 11, 1, 7 e 16\n",
    "\n",
    "dzn  = 0\n",
    "cnt = 0 #zerei para viabilizar múltiplos testes\n",
    "\n",
    "\n",
    "def plural(i):\n",
    "    if i == 1 or i == '':\n",
    "        return \"\"\n",
    "    else:\n",
    "        return \"s\"\n",
    "\n",
    "\n",
    "nmr = int(input('Diga um número inteiro de 1 a 999: '))\n",
    "\n",
    "\n",
    "while (nmr <= 0 or nmr >= 1000):\n",
    "    nmr = int(input(\"Número inválido, digite um número de 1 a 999\"))\n",
    "\n",
    "\n",
    "und = int(nmr % 10)\n",
    "dzn = int((nmr // 10) % 10)\n",
    "cnt = int(nmr // 100) \n",
    "\n",
    "# ifs para criação das palavras da resposta\n",
    "if cnt == 0:\n",
    "    cnt = str('')\n",
    "    cnt_t = str(\"\")\n",
    "    vrg = str('')\n",
    "elif (cnt != 0) and (dzn == 0) and (und == 0):\n",
    "    cnt_t = str(\" centena\")\n",
    "    vrg = (\"\")\n",
    "elif (cnt != 0) and ((dzn == 0 and und != 0) or (dzn != 0 and und == 0)):\n",
    "    cnt_t = str(\" centena\")\n",
    "    vrg = (\" e \")\n",
    "else:\n",
    "    cnt_t = str(\" centena\")\n",
    "    vrg = str(\", \")\n",
    "\n",
    "if dzn == 0:\n",
    "    dzn = str('')\n",
    "    dzn_t = str(\"\")\n",
    "    e_e = str(\"\")\n",
    "elif (dzn != 0) and (und == 0):\n",
    "    dzn_t = str(\" dezena\")\n",
    "    e_e = (\"\")\n",
    "else: \n",
    "    dzn_t = str(\" dezena\")\n",
    "    e_e = str(\" e \")\n",
    "\n",
    "if und == 0:\n",
    "    und = str('')\n",
    "    und_t = str(\"\")\n",
    "else: \n",
    "    und_t = str(\" unidade\")\n",
    "\n",
    "# resposta\n",
    "print(f'O número {nmr} tem {cnt}{cnt_t}{plural(cnt)}{vrg}{dzn}{dzn_t}{plural(dzn)}{e_e}{und}{und_t}{plural(und)}.')"
   ]
  },
  {
   "cell_type": "code",
   "execution_count": 148,
   "id": "c2b668f0",
   "metadata": {},
   "outputs": [
    {
     "name": "stdout",
     "output_type": "stream",
     "text": [
      "você alcançou média 10.00, isso significa que está APROVADO com Distinção.\n"
     ]
    }
   ],
   "source": [
    "# Exercício 20\n",
    "# Faça um Programa que leia três notas parciais de um aluno. O programa deve calcular a média alcançada e apresentar:\n",
    "# A mensagem \"Aprovado\", se a média for maior ou igual a 7, com a respectiva média alcançada;\n",
    "# A mensagem \"Reprovado\", se a média for menor do que 7, com a respectiva média alcançada;\n",
    "# A mensagem \"Aprovado com Distinção\", se a média for igual a 10.\n",
    "\n",
    "nota1 = int(input(\"Digite a primeira nota parcial: \"))\n",
    "while (nota1 < 0) or (nota1 > 10):\n",
    "    nota1 = int(input(\"Nota inválida, digite a primeira nota parcial: \"))\n",
    "\n",
    "nota2 = int(input(\"Digite a segunda nota parcial: \"))\n",
    "while nota2<0 or nota2>10:\n",
    "    nota2 = int(input(\"Nota inválida, digite a segunda nota parcial: \"))\n",
    "\n",
    "nota3 = int(input(\"Digite a terceira nota parcial: \"))\n",
    "while nota3<0 or nota3>10:\n",
    "    nota3 = int(input(\"Nota inválida, digite a terceira nota parcial: \"))\n",
    "\n",
    "media = ((nota1+nota2+nota3)/3)\n",
    "\n",
    "def aprovacao(media):\n",
    "    if media == 10:\n",
    "        return \"APROVADO com Distinção\"\n",
    "    elif (media >= 7) and (media < 10):\n",
    "        return \"APROVADO\"\n",
    "    else:\n",
    "        return \"REPROVADO\"\n",
    "\n",
    "print(f\"Você alcançou média {media:.2f}, isso significa que foi {aprovacao(media)}.\")"
   ]
  },
  {
   "cell_type": "code",
   "execution_count": null,
   "id": "bc44325a",
   "metadata": {},
   "outputs": [],
   "source": [
    "# Exercício 21 \n",
    "\n"
   ]
  },
  {
   "cell_type": "code",
   "execution_count": null,
   "id": "d505cd98",
   "metadata": {},
   "outputs": [],
   "source": [
    "# Exercício 22\n",
    "#\n",
    "\n"
   ]
  },
  {
   "cell_type": "code",
   "execution_count": null,
   "id": "776ba2ff",
   "metadata": {},
   "outputs": [],
   "source": [
    "# Exercício 23\n",
    "#\n",
    "\n"
   ]
  },
  {
   "cell_type": "code",
   "execution_count": null,
   "id": "8ce04944",
   "metadata": {},
   "outputs": [],
   "source": [
    "# Exercício 24\n",
    "#\n",
    "\n"
   ]
  },
  {
   "cell_type": "code",
   "execution_count": null,
   "id": "0da34ab3",
   "metadata": {},
   "outputs": [],
   "source": [
    "# Exercício 25\n",
    "#\n",
    "\n"
   ]
  },
  {
   "cell_type": "code",
   "execution_count": null,
   "id": "c0aa9ef3",
   "metadata": {},
   "outputs": [],
   "source": [
    "# Exercício 26\n",
    "#\n",
    "\n"
   ]
  },
  {
   "cell_type": "code",
   "execution_count": null,
   "id": "6500727b",
   "metadata": {},
   "outputs": [],
   "source": [
    "# Exercício 27\n",
    "#\n",
    "\n"
   ]
  },
  {
   "cell_type": "code",
   "execution_count": null,
   "id": "1bb8490e",
   "metadata": {},
   "outputs": [],
   "source": [
    "# Exercício 28\n",
    "#\n",
    "\n"
   ]
  }
 ],
 "metadata": {
  "kernelspec": {
   "display_name": "Python 3 (ipykernel)",
   "language": "python",
   "name": "python3"
  },
  "language_info": {
   "codemirror_mode": {
    "name": "ipython",
    "version": 3
   },
   "file_extension": ".py",
   "mimetype": "text/x-python",
   "name": "python",
   "nbconvert_exporter": "python",
   "pygments_lexer": "ipython3",
   "version": "3.10.0"
  }
 },
 "nbformat": 4,
 "nbformat_minor": 5
}
