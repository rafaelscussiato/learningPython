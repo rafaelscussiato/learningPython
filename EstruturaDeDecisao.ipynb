{
 "cells": [
  {
   "cell_type": "code",
   "execution_count": 3,
   "id": "b5085e87",
   "metadata": {},
   "outputs": [
    {
     "name": "stdout",
     "output_type": "stream",
     "text": [
      "O maior número é:  4\n"
     ]
    }
   ],
   "source": [
    "# Exercício 1 #\n",
    "# Faça um Programa que peça dois números e imprima o maior deles.\n",
    "\n",
    "n1 = int(input(\"Escolha um número: \"))\n",
    "n2 = int(input(\"Escolha outro número: \"))\n",
    "\n",
    "maior = n1\n",
    "if n2 > n1:\n",
    "    maior = n2\n",
    "print(\"O maior número é: \", maior)"
   ]
  },
  {
   "cell_type": "code",
   "execution_count": 4,
   "id": "02eeaeee",
   "metadata": {},
   "outputs": [
    {
     "name": "stdout",
     "output_type": "stream",
     "text": [
      "O número escolhido é positivo.\n"
     ]
    }
   ],
   "source": [
    "# Exercício 2 #\n",
    "# Faça um Programa que peça um valor e mostre na tela se o valor é positivo ou negativo.\n",
    "\n",
    "n = int(input(\"Escolha um número: \"))\n",
    "\n",
    "if n < 0:\n",
    "    print(\"O número escolhido é negativo.\")\n",
    "elif n > 0:\n",
    "    print(\"O número escolhido é positivo.\")\n",
    "else:\n",
    "    print(\"O número é 0\")"
   ]
  },
  {
   "cell_type": "code",
   "execution_count": 5,
   "id": "b6d5f627",
   "metadata": {},
   "outputs": [
    {
     "name": "stdout",
     "output_type": "stream",
     "text": [
      "M - Sexo Masculino\n"
     ]
    }
   ],
   "source": [
    "# Exercício 3 #\n",
    "# Faça um Programa que verifique se uma letra digitada é \"F\" ou \"M\". \n",
    "# Conforme a letra escrever: F - Feminino, M - Masculino, Sexo Inválido.\n",
    "\n",
    "sex = str(input(\"Com apenas uma letra, indique seu sexo biológico:\").upper())\n",
    "\n",
    "if sex == 'M':\n",
    "    print(\"M - Sexo Masculino\")\n",
    "elif sex == 'F':\n",
    "    print(\"F - Sexo Feminino\")\n",
    "else:\n",
    "    print(\"Sexo biológico inválido.\")"
   ]
  },
  {
   "cell_type": "code",
   "execution_count": 6,
   "id": "4d2bfb70",
   "metadata": {},
   "outputs": [
    {
     "name": "stdout",
     "output_type": "stream",
     "text": [
      "A letra g é uma consoante\n"
     ]
    }
   ],
   "source": [
    "# Exercício 4 #\n",
    "# Faça um Programa que verifique se uma letra digitada é vogal ou consoante.\n",
    "\n",
    "def vogal(v):\n",
    "    if v in \"aeiou\":\n",
    "        return True\n",
    "    else:\n",
    "        return False\n",
    "    \n",
    "def consoante(c):\n",
    "    if c in \"bcdfghjklmnopqrstuvwxyz\":\n",
    "        return True\n",
    "    else:\n",
    "        return False\n",
    "    \n",
    "letra = str(input(\"Digite uma letra: \"))\n",
    "\n",
    "if vogal(letra.lower()) == True:\n",
    "    print(f\"A letra {letra} é uma vogal\")\n",
    "elif consoante(letra.lower()) == True:\n",
    "    print(f\"A letra {letra} é uma consoante\")\n",
    "else:\n",
    "    print(\"O caractere não é uma letra.\")\n",
    "    \n",
    "# Expandi para que seja identificado também se não é letra do alfabeto\n",
    "# Também cuidei para que a letra seja exibida da mesma forma que digitada pelo usuário"
   ]
  },
  {
   "cell_type": "code",
   "execution_count": 10,
   "id": "62b58eb7",
   "metadata": {
    "scrolled": true
   },
   "outputs": [
    {
     "name": "stdout",
     "output_type": "stream",
     "text": [
      "Reprovado. Sua média foi 5.5\n"
     ]
    }
   ],
   "source": [
    "# Exercício 5 #\n",
    "# Faça um programa para a leitura de duas notas parciais de um aluno. O programa deve calcular a média alcançada por aluno e apresentar:\n",
    "# a. A mensagem \"Aprovado\", se a média alcançada for maior ou igual a sete;\n",
    "# b. A mensagem \"Reprovado\", se a média for menor do que sete;\n",
    "# c. A mensagem \"Aprovado com Distinção\", se a média for igual a dez.\n",
    "\n",
    "nota1 = float(input(\"Digite a primeira nota parcial: \"))\n",
    "\n",
    "nota2 = float(input(\"Digite a segunda nota parcial: \"))\n",
    "\n",
    "media = (nota1 + nota2)/2\n",
    "    \n",
    "if media == 10:\n",
    "    print(\"Aprovado com Distinção! Sua média foi 10!\")\n",
    "elif media >= 7:\n",
    "    print(f\"Aprovado. Sua média foi {media:.1f}\")\n",
    "else:\n",
    "    print(f\"Reprovado. Sua média foi {media:.1f}\")"
   ]
  },
  {
   "cell_type": "code",
   "execution_count": null,
   "id": "609b9175",
   "metadata": {
    "scrolled": true
   },
   "outputs": [],
   "source": [
    "# Exercício 6 #\n",
    "# Faça um Programa que leia três números e mostre o maior deles.\n",
    "\n",
    "n1 = int(input(\"Escolha o primeiro número: \"))\n",
    "n2 = int(input(\"Escolha o segundo número: \"))\n",
    "n3 = int(input(\"Escolha o terceiro número: \"))\n",
    "\n",
    "maior = n1\n",
    "if n2 > n1:\n",
    "    maior = n2\n",
    "if n3 > n1 and n3 > n2:\n",
    "    maior = n3\n",
    "\n",
    "print(\"Dentre os três, o maior número é o: {maior}\")"
   ]
  },
  {
   "cell_type": "code",
   "execution_count": null,
   "id": "21738460",
   "metadata": {},
   "outputs": [],
   "source": [
    "# Exercício 7 #\n",
    "# Faça um Programa que leia três números e mostre o maior e o menor deles.\n",
    "\n",
    "n1 = int(input(\"Escolha o primeiro número: \"))\n",
    "n2 = int(input(\"Escolha o segundo número: \"))\n",
    "n3 = int(input(\"Escolha o terceiro número: \"))\n",
    "\n",
    "maior = n1\n",
    "if n2 > n1:\n",
    "    maior = n2\n",
    "if n3 > n1 and n3 > n2:\n",
    "    maior = n3\n",
    "\n",
    "menor = n1\n",
    "if n2 < n1:\n",
    "    menor = n2\n",
    "if n3 < n1 and n3 < n2:\n",
    "    menor = n3\n",
    "    \n",
    "print(f\"Dentre os três, o maior número é o {maior} e o menor é o {menor}\")"
   ]
  },
  {
   "cell_type": "code",
   "execution_count": 12,
   "id": "8ddd1f80",
   "metadata": {
    "scrolled": false
   },
   "outputs": [
    {
     "name": "stdout",
     "output_type": "stream",
     "text": [
      "O primeiro e o terceiro produtos, de valor R$40.00, são os mais baratos. Escolha entre eles!\n"
     ]
    }
   ],
   "source": [
    "# Exercício 8 #\n",
    "# Faça um programa que pergunte o preço de três produtos e informe qual produto você deve comprar, sabendo que a decisão é sempre pelo mais barato.\n",
    "\n",
    "preco_produto1 = float(input(\"Qual o preço do primeiro produto? R$\"))\n",
    "preco_produto2 = float(input(\"Qual o preço do segundo produto? R$\"))\n",
    "preco_produto3 = float(input(\"Qual o preço do terceiro produto? R$\"))\n",
    "\n",
    "def produto_mais_barato ():\n",
    "    if preco_produto1 < preco_produto2 and preco_produto1 < preco_produto3 and preco_produto1 != preco_produto2 and preco_produto3:\n",
    "        print(f\"O primeiro produto, de valor R${preco_produto1:.2f}, é o mais barato.\")\n",
    "    elif preco_produto2 < preco_produto1 and preco_produto2 < preco_produto3 and preco_produto2 != preco_produto1 and preco_produto3:\n",
    "        print(f\"O segundo produto, de valor R${preco_produto2:.2f}, é o mais barato.\")\n",
    "    elif preco_produto3 < preco_produto2 and preco_produto3 < preco_produto1 and preco_produto3 != preco_produto2 and preco_produto1:\n",
    "        print(f\"O terceiro produto, de valor R${preco_produto3:.2f}, é o mais barato.\")\n",
    "    elif preco_produto1 == preco_produto2 and preco_produto1 and preco_produto2 < preco_produto3:\n",
    "        print(f\"O primeiro e o segundo produtos, de valor R${preco_produto1:.2f}, são os mais baratos. Escolha entre eles!\")\n",
    "    elif preco_produto1 == preco_produto3 and preco_produto1 and preco_produto3 < preco_produto2:\n",
    "        print(f\"O primeiro e o terceiro produtos, de valor R${preco_produto1:.2f}, são os mais baratos. Escolha entre eles!\")\n",
    "    elif preco_produto2 == preco_produto3 and preco_produto2 and preco_produto3 < preco_produto1:\n",
    "        print(f\"O segundo e o terceiro produtos, de valor R${preco_produto2:.2f}, são os mais baratos. Escolha entre eles!\")\n",
    "    else:\n",
    "        print(\"Os produtos tem valor igual, pode escolher pelo coração!\")\n",
    "        \n",
    "produto_mais_barato()"
   ]
  },
  {
   "cell_type": "code",
   "execution_count": null,
   "id": "73b8af74",
   "metadata": {},
   "outputs": [],
   "source": [
    "# Exercício 9 #\n",
    "# Faça um Programa que leia três números e mostre-os em ordem decrescente.\n",
    "\n",
    "n1 = int(input(\"Diga um número: \"))\n",
    "n2 = int(input(\"Diga outro número: \"))\n",
    "n3 = int(input(\"Diga um número: \"))\n",
    "\n",
    "lista = [n1, n2, n3]\n",
    "lista.sort(reverse = True)\n",
    "\n",
    "print(lista)"
   ]
  },
  {
   "cell_type": "code",
   "execution_count": null,
   "id": "7cb98a91",
   "metadata": {},
   "outputs": [],
   "source": [
    "# Exercício 10 #\n",
    "# Faça um Programa que pergunte em que turno você estuda. Peça para digitar M-matutino ou V-Vespertino ou N- Noturno.\n",
    "# Imprima a mensagem \"Bom Dia!\", \"Boa Tarde!\" ou \"Boa Noite!\" ou \"Valor Inválido!\", conforme o caso.\n",
    "\n",
    "turno = str(input(\"Em que período você estuda? \").upper())\n",
    "\n",
    "if turno == 'M':\n",
    "    print(\"Bom dia!\")\n",
    "elif turno == 'V':\n",
    "    print(\"Boa tarde!\")\n",
    "elif turno == 'N':\n",
    "    print(\"Boa noite!\")\n",
    "else:\n",
    "    print(\"Valor inválido.\")"
   ]
  },
  {
   "cell_type": "code",
   "execution_count": 15,
   "id": "efc0f941",
   "metadata": {
    "scrolled": true
   },
   "outputs": [
    {
     "name": "stdout",
     "output_type": "stream",
     "text": [
      "Seu salário hoje é de: R$900.00\n",
      "Pela sua faixa salarial, você receberá um reajuste de 10%.\n",
      "O valor do aumento será de R$90.00\n",
      "Assim, seu novo salário será de: R$990.00\n"
     ]
    }
   ],
   "source": [
    "# Exercício 11 #\n",
    "'''\n",
    "As Organizações Tabajara resolveram dar um aumento de salário aos seus colaboradores e lhe contraram para desenvolver \n",
    "o programa que calculará os reajustes. Faça um programa que recebe o salário de um colaborador e o reajuste segundo o\n",
    "seguinte critério, baseado no salário atual:\n",
    "a. salários até R$ 280,00 (incluindo) : aumento de 20%\n",
    "b. salários entre R$ 280,00 e R$ 700,00 : aumento de 15%\n",
    "c. salários entre R$ 700,00 e R$ 1500,00 : aumento de 10%\n",
    "d. salários de R$ 1500,00 em diante : aumento de 5% \n",
    "\n",
    "Após o aumento ser realizado, informe na tela:\n",
    "e. o salário antes do reajuste;\n",
    "f. o percentual de aumento aplicado;\n",
    "g. o valor do aumento;\n",
    "h. o novo salário, após o aumento.''' \n",
    "\n",
    "salario = float(input(\"Qual é o seu salário atual? R$\"))\n",
    "\n",
    "if salario <= 280:\n",
    "    reajuste = 0.2\n",
    "elif salario > 280 and salario <= 700:\n",
    "    reajuste = 0.15\n",
    "elif salario > 700 and salario <= 1500:\n",
    "    reajuste = 0.1\n",
    "else:\n",
    "    reajuste = 0.05\n",
    "\n",
    "acrescimo = salario*reajuste\n",
    "aumento = int(reajuste*100)\n",
    "novo_salario = salario + acrescimo\n",
    "\n",
    "print(f\"Seu salário hoje é de: R${salario:.2f}\")\n",
    "print(f'Pela sua faixa salarial, você receberá um reajuste de {aumento}%.')\n",
    "print(f\"O valor do aumento será de R${acrescimo:.2f}\")\n",
    "print(f\"Assim, seu novo salário será de: R${novo_salario:.2f}\")"
   ]
  },
  {
   "cell_type": "code",
   "execution_count": 17,
   "id": "f525b1dd",
   "metadata": {},
   "outputs": [
    {
     "name": "stdout",
     "output_type": "stream",
     "text": [
      "    Salário Bruto:      : R$ 2200.00\n",
      "    (-) IR (10%)        : R$ 220.00\n",
      "    (-) INSS            : R$ 176.00\n",
      "    (-) Sindicato       : R$ 66.00\n",
      "    FGTS (11%)          : R$ 242.00\n",
      "    Total de descontos  : R$ 462.00\n",
      "    Salário Líquido     : R$ 1738.00\n"
     ]
    }
   ],
   "source": [
    "# Exercício 12\n",
    "'''\n",
    "Faça um programa para o cálculo de uma folha de pagamento, sabendo que os descontos são do Imposto de Renda, que depende\n",
    "do salário bruto, 8% do INSS, 3% para o Sindicato e que o FGTS corresponde a 11% do Salário Bruto, mas não é descontado.\n",
    "\n",
    "O Salário Líquido corresponde ao Salário Bruto menos os descontos. \n",
    "O programa deverá pedir ao usuário o valor da sua hora e a quantidade de horas trabalhadas no mês.\n",
    "\n",
    "Desconto do IR:\n",
    "Salário Bruto até 900 (inclusive) - isento\n",
    "Salário Bruto até 1500 (inclusive) - desconto de 5%\n",
    "Salário Bruto até 2500 (inclusive) - desconto de 10%\n",
    "Salário Bruto acima de 2500 - desconto de 20%\n",
    "\n",
    "Imprima na tela as informações: \n",
    "    Salário Bruto: (5 * 220) : R$ 1100,00\n",
    "    (-) IR (5%)              : R$   55,00  \n",
    "    (-) INSS (8%)            : R$  110,00\n",
    "    (-) Sindicato(3%)        : R$   33,00\n",
    "    FGTS (11%)               : R$  121,00\n",
    "    Total de descontos       : R$  198,00\n",
    "    Salário Liquido          : R$ \n",
    "'''\n",
    "\n",
    "valor_hora = float(input(\"Que valor você recebeu por hora trabalhada esse mês? R$\"))\n",
    "jornada = int(input(\"Quantas horas cheias você trabalhou esse mês? \"))\n",
    "salario_bruto = valor_hora * jornada\n",
    "\n",
    "if salario_bruto <= 900:\n",
    "    ir = 0\n",
    "elif salario_bruto > 900 and salario_bruto <= 1500:\n",
    "    ir = 0.05\n",
    "elif salario_bruto > 1500 and salario_bruto <= 2500:\n",
    "    ir = 0.1\n",
    "elif salario_bruto > 2500:\n",
    "    ir = 0.2\n",
    "        \n",
    "percentual_ir = int(ir*100)\n",
    "desconto_ir = ir * salario_bruto\n",
    "inss = salario_bruto*0.08\n",
    "sind = salario_bruto*0.03\n",
    "fgts = salario_bruto*0.11\n",
    "descontos = desconto_ir + inss + sind\n",
    "salario_liquido = salario_bruto - descontos\n",
    "\n",
    "print(f'    Salário Bruto:      : R$ {salario_bruto:.2f}')\n",
    "if salario_bruto <= 1500:\n",
    "    print(f'    (-) IR ({percentual_ir}%)         : R$ {desconto_ir:.2f}')\n",
    "else:\n",
    "    print(f'    (-) IR ({percentual_ir}%)        : R$ {desconto_ir:.2f}') # if apenas para alinhar os valores\n",
    "print(f'    (-) INSS            : R$ {inss:.2f}')\n",
    "print(f'    (-) Sindicato       : R$ {sind:.2f}')\n",
    "print(f'    FGTS (11%)          : R$ {fgts:.2f}')\n",
    "print(f'    Total de descontos  : R$ {descontos:.2f}')\n",
    "print(f'    Salário Líquido     : R$ {salario_liquido:.2f}')"
   ]
  },
  {
   "cell_type": "code",
   "execution_count": 2,
   "id": "e2afd0f5",
   "metadata": {},
   "outputs": [
    {
     "name": "stdout",
     "output_type": "stream",
     "text": [
      "Digite um número para saber o dia da semana correspondente: 8\n",
      "Inválido, digite um número de 1 a 7: 9\n",
      "Inválido, digite um número de 1 a 7: 10\n",
      "Inválido, digite um número de 1 a 7: 4\n",
      "O dia 4 corresponde a Quarta-Feira\n"
     ]
    }
   ],
   "source": [
    "# Exercício 13\n",
    "# Faça um Programa que leia um número e exiba o dia correspondente da semana. (1-Domingo, 2- Segunda, etc.),\n",
    "# se digitar outro valor deve aparecer valor inválido.\n",
    "\n",
    "dia_numero = int(input(\"Digite um número para saber o dia da semana correspondente: \"))\n",
    "while dia_numero < 1 or dia_numero > 7:\n",
    "    dia_numero = int(input(\"Inválido, digite um número de 1 a 7: \"))\n",
    "\n",
    "dias_semana = {'1': 'Domingo', '2': 'Segunda-Feira', '3': 'Terça-Feira', '4': 'Quarta-Feira', '5': 'Quinta-Feira', '6': 'Sexta-Feira', '7': 'Sábado'}\n",
    "\n",
    "print(f'O dia {dia_numero} corresponde a {dias_semana.get(str(dia_numero))}')"
   ]
  },
  {
   "cell_type": "code",
   "execution_count": null,
   "id": "a3ab9506",
   "metadata": {},
   "outputs": [],
   "source": [
    "# Exercício 14\n",
    "'''Faça um programa que lê as duas notas parciais obtidas por um aluno numa disciplina ao longo de um semestre, \n",
    "e calcule a sua média. A atribuição de conceitos obedece à tabela abaixo:\n",
    " \n",
    "  Média de Aproveitamento  Conceito\n",
    "  Entre 9.0 e 10.0         A\n",
    "  Entre 7.5 e 9.0          B\n",
    "  Entre 6.0 e 7.5          C\n",
    "  Entre 4.0 e 6.0          D\n",
    "  Entre 4.0 e zero         E\n",
    "  \n",
    "O algoritmo deve mostrar na tela as notas, a média, o conceito correspondente e a mensagem “APROVADO” se o conceito for\n",
    "A, B ou C ou “REPROVADO” se o conceito for D ou E. '''\n",
    "\n",
    "nota1 = float(input(\"Qual a sua primeira nota parcial na matéria? \"))\n",
    "nota2 = float(input(\"Qual a sua segunda nota parcial na matéria? \"))\n",
    "notas = (nota1 + nota2)\n",
    "\n",
    "def calcula_media(*notas):\n",
    "    soma = sum(notas)\n",
    "    media = soma // len(notas)\n",
    "    return media\n",
    "    \n",
    "if nota1 > 10 or nota1 < 0 or nota2 > 10 or nota2 < 0:\n",
    "    print(\"Notas inválidas!\")\n",
    "    nota1 = float(input(\"Digite novamente sua primeira nota parcial: \"))\n",
    "    nota2 = float(input(\"Agora sua segunda nota parcial: \"))\n",
    "else:\n",
    "    if media >= 9:\n",
    "        conceito = \"A\"\n",
    "    elif media >= 7.5 and media < 9:\n",
    "        conceito = \"B\"\n",
    "    elif media >= 6 and media < 7.5:\n",
    "        conceito = \"C\"\n",
    "    elif media >= 4 and media < 6:\n",
    "        conceito = \"D\"\n",
    "    elif media >= 0 and media < 4:\n",
    "        conceito = \"E\"\n",
    "        \n",
    "def verifica_aprovacao(conceito):\n",
    "    if conceito.upper == \"A\" or \"B\" or \"C\":\n",
    "        aprovacao = \"APROVADO\"\n",
    "        return aprovacao\n",
    "    else:\n",
    "        aprovacao = \"REPROVADO\"\n",
    "        return aprovacao\n",
    "    \n",
    "print(f\"Suas notas foram: {nota1:.2f} e {nota2:.2f}.\")\n",
    "print(f\"Sua média foi {media:.2f}.\")\n",
    "print(f\"Com essa média, o seu conceito é {conceito}.\")\n",
    "if conceito.upper == \"A\" or \"B\" or \"C\":\n",
    "    print(f\"Conceito {conceito} significa que você está APROVADO(A)!\")\n",
    "    print(f\"Parabéns!\")\n",
    "else:\n",
    "    print(f\"Conceito {conceito} significa que você está REPROVADO(A)!\")\n",
    "    print(f\"Sentimos muito, você precisa repetir o curso.\")"
   ]
  },
  {
   "cell_type": "code",
   "execution_count": null,
   "id": "be53f60c",
   "metadata": {},
   "outputs": [],
   "source": [
    "# Exercício 15\n",
    "'''Faça um Programa que peça os 3 lados de um triângulo. O programa deve informar se os valores podem ser um triângulo.\n",
    "Indique, caso os lados formem um triângulo, se o mesmo é: equilátero, isósceles ou escaleno.\n",
    "Dicas:\n",
    "Três lados formam um triângulo quando a soma de quaisquer dois lados for maior que o terceiro;\n",
    "Triângulo Equilátero: três lados iguais;\n",
    "Triângulo Isósceles: quaisquer dois lados iguais;\n",
    "Triângulo Escaleno: três lados diferentes;'''\n",
    "\n",
    "l1 = int(input(\"Diga o primeiro lado do triângulo: \"))\n",
    "l2 = int(input(\"Diga o segundo lado do triângulo: \"))\n",
    "l3 = int(input(\"Diga o terceiro lado do triângulo: \"))\n",
    "\n",
    "def verifica_tipo_triangulo():\n",
    "    if (l1 + l2 < l3) or (l1 + l3 < l2) or (l2 + l3 < l1):\n",
    "        print(\"Esses lados não representam um triangulo.\")\n",
    "    elif (l1 == l2 and l1 != l3) or (l1 == l3 and l1 != l2) or (l2 == l3 and l2 != l1):\n",
    "        print(\"Esse é um triângulo Isóceles.\")\n",
    "    elif l1 == l2 and l2 == l3:\n",
    "        print(\"Esse é um triângulo Equilátero.\")\n",
    "    else:\n",
    "        print(\"Esse é um triângulo Escaleno.\")\n",
    "        \n",
    "verifica_tipo_triangulo()"
   ]
  },
  {
   "cell_type": "code",
   "execution_count": null,
   "id": "bf027080",
   "metadata": {
    "scrolled": false
   },
   "outputs": [],
   "source": [
    "# Exercício 16\n",
    "'''Faça um programa que calcule as raízes de uma equação do segundo grau, na forma ax2 + bx + c. \n",
    "O programa deverá pedir os valores de a, b e c e fazer as consistências, informando ao usuário nas seguintes situações:\n",
    "Se o usuário informar o valor de A igual a zero, a equação não é do segundo grau e o programa não deve fazer pedir os demais valores, sendo encerrado;\n",
    "Se o delta calculado for negativo, a equação não possui raizes reais. Informe ao usuário e encerre o programa;\n",
    "Se o delta calculado for igual a zero a equação possui apenas uma raiz real; informe-a ao usuário;\n",
    "Se o delta for positivo, a equação possui duas raiz reais; informe-as ao usuário;'''\n",
    "\n",
    "import math\n",
    "from sys import exit\n",
    "\n",
    "print(\"Vamos calcular as raízes de uma equação de segundo grau.\")\n",
    "print('A base do cálculo, como você sabe, é a expressão \"ax² + bx + c\".')\n",
    "a = float(input('Qual o valor de \"a\"? '))\n",
    "if a == 0:\n",
    "    print('Com \"a\" de valor zero, não teremos uma função de segundo grau.')\n",
    "    print('Não faz sentido continuar.')\n",
    "    exit()\n",
    "else:\n",
    "    b = float(input('Qual o valor de \"b\"? '))\n",
    "    c = float(input('Qual o valor de \"c\"? '))\n",
    "\n",
    "delta = (b ** 2) - (4 * a * c)\n",
    "\n",
    "if delta < 0:\n",
    "    print('O Delta da equação é negativo e, portanto, não possui raízes reais.')\n",
    "elif delta == 0:\n",
    "    raiz_real = (-1 * b) / (2 * a) \n",
    "    print('Nesse caso, o valor de delta é igual a zero, portanto temos apenas uma raiz real.')\n",
    "    print(f'A única raiz real é {raiz_real}.')\n",
    "else:\n",
    "    rr_positiva = ((-1 * b) + math.sqrt(delta)) / (2 * a)\n",
    "    rr_negativa = ((-1 * b) - math.sqrt(delta)) / (2 * a)\n",
    "    print(f'As raízes da equação sugeridas são {rr_positiva} e {rr_negativa}')"
   ]
  },
  {
   "cell_type": "code",
   "execution_count": null,
   "id": "8d4fddc2",
   "metadata": {},
   "outputs": [],
   "source": [
    "# Exercício 17\n",
    "#Faça um Programa que peça um número correspondente a um determinado ano\n",
    "# em seguida informe se este ano é ou não bissexto.\n",
    "\n",
    "ano = int(input(\"Escolha um ano para saber se é bissexto: \"))\n",
    "\n",
    "if (ano % 4 == 0 and ano % 100 != 0) or (ano % 400 == 0):\n",
    "    print(f'{ano} é um ano bissexto.')\n",
    "else:\n",
    "    print(f'{ano} não é um ano bissexto.')"
   ]
  },
  {
   "cell_type": "code",
   "execution_count": null,
   "id": "2567b1e4",
   "metadata": {},
   "outputs": [],
   "source": [
    "# Exercício 18 #\n",
    "# Faça um Programa que peça uma data no formato dd/mm/aaaa e determine se a mesma é uma data válida.\n",
    "import math\n",
    "\n",
    "print(\"Pense em uma data!\")\n",
    "data = str(input(\"Digite a data em formato (dd/mm/aaaa): \"))\n",
    "\n",
    "dia = int(data[0:2])\n",
    "mes = int(data[3:5])\n",
    "ano = int(data[6:10])\n",
    "\n",
    "if (ano % 4 == 0 and ano % 100 != 0) or (ano % 400 == 0):\n",
    "    bissexto = True\n",
    "else:\n",
    "    bissexto = False\n",
    "\n",
    "validade = True\n",
    "i = 0\n",
    "while validade == True and i == 0:\n",
    "    if mes<1 or mes>12:\n",
    "        validade = False\n",
    "    if dia > 31 or ((mes == 4 or mes == 6 or mes == 9 or mes == 11) and dia>30):\n",
    "        validade = False\n",
    "    if (mes == 2 and bissexto == True and dia > 29) or (mes == 2 and bissexto == False and dia > 28):\n",
    "        validade = False\n",
    "    i=i+1\n",
    "\n",
    "if validade == True:\n",
    "    print(\"Essa data é válida.\")\n",
    "\n",
    "if validade == False:\n",
    "    print(\"Essa data é inválida.\")"
   ]
  },
  {
   "cell_type": "code",
   "execution_count": 46,
   "id": "084d7dbd",
   "metadata": {},
   "outputs": [
    {
     "name": "stdout",
     "output_type": "stream",
     "text": [
      "O número 102 tem 1 centena e 2 unidades.\n"
     ]
    }
   ],
   "source": [
    "# Exercício 19 #\n",
    "# Faça um Programa que leia um número inteiro menor que 1000 e imprima a quantidade de centenas, dezenas e unidades do mesmo.\n",
    "# Observando os termos no plural a colocação do \"e\", da vírgula entre outros. Exemplo:\n",
    "# 326 = 3 centenas, 2 dezenas e 6 unidades\n",
    "# 12 = 1 dezena e 2 unidades Testar com: 326, 300, 100, 320, 310,305, 301, 101, 311, 111, 25, 20, 10, 21, 11, 1, 7 e 16\n",
    "\n",
    "dezena = 0\n",
    "centena = 0 #zerei para viabilizar múltiplos testes\n",
    "unidade = 0\n",
    "\n",
    "def plural(i):\n",
    "    if i == 1 or i == '':\n",
    "        return \"\"\n",
    "    else:\n",
    "        return \"s\"\n",
    "\n",
    "numero = int(input('Diga um número inteiro de 1 a 999: '))\n",
    "\n",
    "while (numero <= 0 or numero >= 1000):\n",
    "    numero = int(input(\"Número inválido, digite um número de 1 a 999\"))\n",
    "\n",
    "unidade = int(numero % 10)\n",
    "dezena = int((numero // 10) % 10)\n",
    "centena = int(numero // 100) \n",
    "\n",
    "# ifs para criação das palavras da resposta\n",
    "if centena == 0:\n",
    "    centena = str('')\n",
    "    string_centena = str('')\n",
    "    virgula = str('')\n",
    "elif (centena != 0) and (dezena == 0) and (unidade == 0):\n",
    "    string_centena = str(\" centena\")\n",
    "    virgula = (\"\")\n",
    "elif (centena != 0) and ((dezena == 0 and unidade != 0) or (dezena != 0 and unidade == 0)):\n",
    "    string_centena = str(\" centena\")\n",
    "    virgula = (\" e \")\n",
    "else:\n",
    "    string_centena = str(\" centena\")\n",
    "    virgula = str(\", \")\n",
    "\n",
    "if dezena == 0:\n",
    "    dezena = str('')\n",
    "    string_dezena = str('')\n",
    "    conjuncao = str('')\n",
    "elif (dezena != 0) and (unidade == 0):\n",
    "    string_dezena = str(\" dezena\")\n",
    "    conjuncao = ('')\n",
    "else: \n",
    "    string_dezena = str(\" dezena\")\n",
    "    conjuncao = str(\" e \")\n",
    "\n",
    "if unidade == 0:\n",
    "    unidade = str('')\n",
    "    string_unidade = str('')\n",
    "else: \n",
    "    string_unidade = str(\" unidade\")\n",
    "\n",
    "# resposta\n",
    "print(f'O número {numero} tem {centena}{string_centena}{plural(centena)}{virgula}{dezena}{string_dezena}'\n",
    "      f'{plural(dezena)}{conjuncao}{unidade}{string_unidade}{plural(unidade)}.')"
   ]
  },
  {
   "cell_type": "code",
   "execution_count": 148,
   "id": "c2b668f0",
   "metadata": {},
   "outputs": [
    {
     "name": "stdout",
     "output_type": "stream",
     "text": [
      "você alcançou média 10.00, isso significa que está APROVADO com Distinção.\n"
     ]
    }
   ],
   "source": [
    "# Exercício 20\n",
    "# Faça um Programa que leia três notas parciais de um aluno. O programa deve calcular a média alcançada e apresentar:\n",
    "# A mensagem \"Aprovado\", se a média for maior ou igual a 7, com a respectiva média alcançada;\n",
    "# A mensagem \"Reprovado\", se a média for menor do que 7, com a respectiva média alcançada;\n",
    "# A mensagem \"Aprovado com Distinção\", se a média for igual a 10.\n",
    "\n",
    "nota1 = int(input(\"Digite a primeira nota parcial: \"))\n",
    "while (nota1 < 0) or (nota1 > 10):\n",
    "    nota1 = int(input(\"Nota inválida, digite a primeira nota parcial: \"))\n",
    "\n",
    "nota2 = int(input(\"Digite a segunda nota parcial: \"))\n",
    "while nota2<0 or nota2>10:\n",
    "    nota2 = int(input(\"Nota inválida, digite a segunda nota parcial: \"))\n",
    "\n",
    "nota3 = int(input(\"Digite a terceira nota parcial: \"))\n",
    "while nota3<0 or nota3>10:\n",
    "    nota3 = int(input(\"Nota inválida, digite a terceira nota parcial: \"))\n",
    "\n",
    "media = ((nota1+nota2+nota3)/3)\n",
    "\n",
    "def aprovacao(media):\n",
    "    if media == 10:\n",
    "        return \"APROVADO com Distinção\"\n",
    "    elif (media >= 7) and (media < 10):\n",
    "        return \"APROVADO\"\n",
    "    else:\n",
    "        return \"REPROVADO\"\n",
    "\n",
    "print(f\"Você alcançou média {media:.2f}, isso significa que foi {aprovacao(media)}.\")"
   ]
  },
  {
   "cell_type": "code",
   "execution_count": 93,
   "id": "bc44325a",
   "metadata": {},
   "outputs": [
    {
     "name": "stdout",
     "output_type": "stream",
     "text": [
      "Requerimento de saque de R$491.00.\n",
      "4 notas de R$100,00\n",
      "1 notas de R$50,00\n",
      "4 notas de R$10,00\n",
      "1 notas de R$1,00\n"
     ]
    }
   ],
   "source": [
    "# Exercício 21 \n",
    "# Faça um Programa para um caixa eletrônico. O programa deverá perguntar ao usuário a valor do saque e depois informar quantas notas de \n",
    "# cada valor serão fornecidas. As notas disponíveis serão as de 1, 5, 10, 50 e 100 reais. \n",
    "# O valor mínimo é de 10 reais e o máximo de 600 reais. O programa não deve se preocupar com a quantidade de notas existentes na máquina.\n",
    "# Ex 1: Para sacar a quantia de 256 reais, o programa fornece duas notas de 100, uma nota de 50, uma nota de 5 e uma nota de 1;\n",
    "# Ex 2: Para sacar a quantia de 399 reais, o programa fornece três notas de 100, uma nota de 50, quatro notas de 10, uma nota de 5 e quatro notas de 1.\n",
    "\n",
    "saque = float(input('Digite o valor que deseja sacar, mínimo R$10,00 e máximo R$600,00: R$'))\n",
    "\n",
    "while (saque < 10 or saque > 600):\n",
    "    saque = float(input(\"Valor inválido, digite o valor que deseja sacar, mínimo R$10,00 e máximo R$600,00: R$\"))\n",
    "\n",
    "cem = int(saque//100)\n",
    "cinquenta = int(( saque - (cem*100)) // 50)\n",
    "dez = int((saque - (cem*100) - (cinquenta*50)) // 10)\n",
    "cinco = int(( saque - (cem*100) - (cinquenta*50) - (dez*10)) // 5)\n",
    "um = int(( saque - (cem*100) - (cinquenta*50) - (dez*10) - (cinco*5)) // 1)\n",
    "\n",
    "def impressao(i):\n",
    "    if i != 0:\n",
    "        for \n",
    "        print(f'{i} notas de ')\n",
    "\n",
    "print(f'Requerimento de saque de R${saque:.2f}.')\n",
    "\n",
    "if cem != 0: print(f'{cem} notas de R$100,00')\n",
    "if cinquenta != 0: print(f'{cinquenta} notas de R$50,00')\n",
    "if dez != 0: print(f'{dez} notas de R$10,00')\n",
    "if cinco != 0: print(f'{cinco} notas de R$5,00')\n",
    "if um != 0: print(f'{um} notas de R$1,00')"
   ]
  },
  {
   "cell_type": "code",
   "execution_count": 11,
   "id": "d505cd98",
   "metadata": {},
   "outputs": [
    {
     "name": "stdout",
     "output_type": "stream",
     "text": [
      "O número 11 é ímpar.\n"
     ]
    }
   ],
   "source": [
    "# Exercício 22\n",
    "# Faça um Programa que peça um número inteiro e determine se ele é par ou impar.\n",
    "\n",
    "numero = int(input(\"Diga um número para definirmos se ele é par ou impar: \"))\n",
    "\n",
    "if (numero % 2) == 0:\n",
    "    print(f'O número {numero} é par.')\n",
    "else:\n",
    "    print(f'O número {numero} é ímpar.')"
   ]
  },
  {
   "cell_type": "code",
   "execution_count": 2,
   "id": "776ba2ff",
   "metadata": {},
   "outputs": [
    {
     "name": "stdout",
     "output_type": "stream",
     "text": [
      "O número 6.3 é decimal.\n"
     ]
    }
   ],
   "source": [
    "# Exercício 23\n",
    "# Faça um Programa que peça um número e informe se o número é inteiro ou decimal. Dica: utilize uma função de arredondamento.\n",
    "\n",
    "numero = float(input(\"Diga um número para definirmos se ele é inteiro ou decimal: \"))\n",
    "\n",
    "if (numero % 1) == 0:\n",
    "    print(f'{numero} é um número inteiro.')\n",
    "else:\n",
    "    print(f'{numero} é um número decimal.')"
   ]
  },
  {
   "cell_type": "code",
   "execution_count": 2,
   "id": "8ce04944",
   "metadata": {},
   "outputs": [
    {
     "name": "stdout",
     "output_type": "stream",
     "text": [
      "O número 43.2 é decimal, positivo e sem classificação de paridade, pois apenas números inteiros são classificados em par ou ímpar..\n"
     ]
    }
   ],
   "source": [
    "# Exercício 23\n",
    "# Faça um Programa que leia 2 números e em seguida pergunte ao usuário qual operação ele deseja realizar.\n",
    "# O resultado da operação deve ser acompanhado de uma frase que diga se o número é:\n",
    "# par ou ímpar; # positivo ou negativo; # inteiro ou decimal.\n",
    "\n",
    "numero = float(input(\"Diga um número para definirmos se ele é inteiro ou decimal: \"))\n",
    "\n",
    "def inteiro(i):\n",
    "    if (numero % 1) == 0:\n",
    "        return 'inteiro'\n",
    "    else:\n",
    "        return 'decimal'\n",
    "\n",
    "def par(i):\n",
    "    if (i % 2) == 0 and inteiro(i) == 'inteiro':\n",
    "        return 'par'\n",
    "    elif (i % 2) != 0 and inteiro(i) == 'inteiro':\n",
    "        return 'ímpar'\n",
    "    else:\n",
    "        return 'sem classificação de paridade, pois apenas números inteiros são classificados em par ou ímpar'\n",
    "\n",
    "def positivo(i):\n",
    "    if i > 0:\n",
    "        return 'positivo'\n",
    "    elif i < 0:\n",
    "        return 'negativo'\n",
    "\n",
    "print(f'O número {numero} é {inteiro(numero)}, {positivo(numero)} e {par(numero)}.')"
   ]
  },
  {
   "cell_type": "code",
   "execution_count": 26,
   "id": "0da34ab3",
   "metadata": {},
   "outputs": [
    {
     "name": "stdout",
     "output_type": "stream",
     "text": [
      "Você está sendo investigado. Responda SIM ou NAO para as seguintes perguntas:\n",
      "Telefonou para a vítima? s\n",
      "Esteve no local do crime? s\n",
      "Mora perto da vítima? s\n",
      "Devia para a vítima? s\n",
      "Já trabalhou com a vítima? s\n",
      "Pelas suas respostas, você é visto como Assassino\n"
     ]
    }
   ],
   "source": [
    "# Exercício 25\n",
    "# Faça um programa que faça 5 perguntas para uma pessoa sobre um crime. As perguntas são:\n",
    "# \"Telefonou para a vítima?\" # \"Esteve no local do crime?\" # \"Mora perto da vítima?\"\n",
    "# \"Devia para a vítima?\" # \"Já trabalhou com a vítima?\" \n",
    "# O programa deve no final emitir uma classificação sobre a participação da pessoa no crime.\n",
    "# Se a pessoa responder positivamente a 2 questões ela deve ser classificada como \"Suspeita\", \n",
    "# entre 3 e 4 como \"Cúmplice\" e 5 como \"Assassino\". Caso contrário, ele será classificado como \"Inocente\".\n",
    "\n",
    "contador = 0\n",
    "\n",
    "print('Você está sendo investigado. Responda SIM ou NAO para as seguintes perguntas:')\n",
    "\n",
    "resposta1 = str(input('Telefonou para a vítima? ').upper())\n",
    "if resposta1 == 'SIM' or resposta1 == \"S\":\n",
    "    contador += 1\n",
    "\n",
    "\n",
    "\n",
    "resposta2 = str(input('Esteve no local do crime? ').upper())\n",
    "if resposta2 == 'SIM' or resposta2 == \"S\":\n",
    "    contador += 1\n",
    "\n",
    "resposta3 = str(input('Mora perto da vítima? ').upper())\n",
    "if resposta3 == 'SIM' or resposta3 == \"S\":\n",
    "    contador += 1\n",
    "\n",
    "resposta4 = str(input('Devia para a vítima? ').upper())\n",
    "if resposta4 == 'SIM' or resposta4 == \"S\":\n",
    "    contador += 1\n",
    "\n",
    "resposta5 = str(input('Já trabalhou com a vítima? ').upper())\n",
    "if resposta5 == 'SIM' or resposta5 == \"S\":\n",
    "    contador += 1\n",
    "\n",
    "def culpa():\n",
    "    if contador == 2:\n",
    "        return 'Suspeito'\n",
    "    elif contador == 3 or contador == 4:\n",
    "        return 'Cúmplice'\n",
    "    elif contador == 5:\n",
    "        return 'Assassino'\n",
    "    elif contador == 0:\n",
    "        return 'Inocente'\n",
    "    else:\n",
    "        return 'alguém que não contribui com o estudo.'\n",
    "\n",
    "print(f'Pelas suas respostas, você é visto como {culpa()}')"
   ]
  },
  {
   "cell_type": "code",
   "execution_count": 45,
   "id": "c0aa9ef3",
   "metadata": {},
   "outputs": [
    {
     "name": "stdout",
     "output_type": "stream",
     "text": [
      "Qual combustível pretende abastecer? Gasolina(G) ou Álcool(A)g\n",
      "Quantos litros deseja abastecer de Gasolina? 200\n",
      "O valor de Gasolina é R$2.50/Litro. O valor regular seria R$500.00.\n",
      "Por abastecer 200.0 litros, terá desconto de 6% e o valor final será R$470.00\n"
     ]
    }
   ],
   "source": [
    "# Exercício 26\n",
    "# Um posto está vendendo combustíveis com a seguinte tabela de descontos:\n",
    "# Álcool: até 20 litros, desconto de 3% por litro / acima de 20 litros, desconto de 5% por litro\n",
    "# Gasolina: até 20 litros, desconto de 4% por litro / acima de 20 litros, desconto de 6% por litro\n",
    "# Escreva um algoritmo que leia o número de litros vendidos, o tipo de combustível (A-álcool, G-gasolina), calcule e imprima\n",
    "# o valor a ser pago pelo cliente sabendo-se que o preço do litro da gasolina é R$ 2,50 o preço do litro do álcool é R$ 1,90.\n",
    "\n",
    "combustivel = str(input('Qual combustível pretende abastecer? Gasolina(G) ou Álcool(A)').upper())\n",
    "while combustivel != 'G' and combustivel != 'A':\n",
    "    combustivel = str(input('Qual combustível pretende abastecer? Gasolina(G) ou Álcool(A)').upper())\n",
    "\n",
    "if combustivel == 'G':\n",
    "    preco = 2.5\n",
    "    tipo = 'Gasolina'\n",
    "elif combustivel == 'A':\n",
    "    preco = 1.9\n",
    "    tipo = 'Álcool'\n",
    "\n",
    "quantidade = float(input(f'Quantos litros deseja abastecer de {tipo}? '))\n",
    "\n",
    "if tipo == 'Gasolina' and quantidade <= 20:\n",
    "    desconto = '4%'\n",
    "    multiplicador = 0.96\n",
    "elif tipo == 'Gasolina' and quantidade > 20:\n",
    "    desconto = '6%'\n",
    "    multiplicador = 0.94\n",
    "elif tipo == 'Álcool' and quantidade <= 20:\n",
    "    desconto = '3%'\n",
    "    multiplicador = 0.97\n",
    "elif tipo == 'Álcool' and quantidade > 20:\n",
    "    desconto = '5%'\n",
    "    multiplicador = 0.95\n",
    "    \n",
    "valor = ((quantidade * preco) * multiplicador)\n",
    "\n",
    "print(f'O valor de {tipo} é R${preco:.2f}/Litro. Pelo valor regular a abastecida custaria R${(quantidade*preco):.2f}.\\n'\n",
    "      f'Por abastecer {quantidade:.2f} litros, terá desconto de {desconto} e o valor final será R${valor:.2f}')\n",
    "    "
   ]
  },
  {
   "cell_type": "code",
   "execution_count": null,
   "id": "6500727b",
   "metadata": {},
   "outputs": [],
   "source": [
    "# Exercício 27\n",
    "# Uma fruteira está vendendo frutas com a seguinte tabela de preços:\n",
    "#                       Até 5 Kg           Acima de 5 Kg\n",
    "# Morango         R$ 2,50 por Kg          R$ 2,20 por Kg\n",
    "# Maçã            R$ 1,80 por Kg          R$ 1,50 por Kg\n",
    "# Se o cliente comprar mais de 8 Kg em frutas ou o valor total da compra ultrapassar R$ 25,00, receberá ainda um desconto \n",
    "# de 10% sobre este total. Escreva um algoritmo para ler a quantidade (em Kg) de morangos e a quantidade (em Kg) de maças \n",
    "# adquiridas e escreva o valor a ser pago pelo cliente.\n",
    "\n",
    "\n"
   ]
  },
  {
   "cell_type": "code",
   "execution_count": null,
   "id": "1bb8490e",
   "metadata": {},
   "outputs": [],
   "source": [
    "# Exercício 28\n",
    "# O Hipermercado Tabajara está com uma promoção de carnes que é imperdível. Confira:\n",
    "#                       Até 5 Kg           Acima de 5 Kg\n",
    "# File Duplo      R$ 4,90 por Kg          R$ 5,80 por Kg\n",
    "# Alcatra         R$ 5,90 por Kg          R$ 6,80 por Kg\n",
    "# Picanha         R$ 6,90 por Kg          R$ 7,80 por Kg\n",
    "# Para atender a todos os clientes, cada cliente poderá levar apenas um dos tipos de carne da promoção, porém não há limites\n",
    "# para a quantidade de carne por cliente. Se compra for feita no cartão Tabajara o cliente receberá ainda um desconto de 5% \n",
    "# sobre o total da compra. Escreva um programa que peça o tipo e a quantidade de carne comprada pelo usuário e gere um cupom\n",
    "# fiscal, contendo as informações da compra: tipo e quantidade de carne, preço total, tipo de pagamento, valor do desconto \n",
    "# e valor a pagar.\n",
    "\n",
    "\n"
   ]
  }
 ],
 "metadata": {
  "kernelspec": {
   "display_name": "Python 3 (ipykernel)",
   "language": "python",
   "name": "python3"
  },
  "language_info": {
   "codemirror_mode": {
    "name": "ipython",
    "version": 3
   },
   "file_extension": ".py",
   "mimetype": "text/x-python",
   "name": "python",
   "nbconvert_exporter": "python",
   "pygments_lexer": "ipython3",
   "version": "3.10.1"
  }
 },
 "nbformat": 4,
 "nbformat_minor": 5
}
