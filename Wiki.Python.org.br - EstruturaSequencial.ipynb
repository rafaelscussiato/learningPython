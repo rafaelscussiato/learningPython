{
 "cells": [
  {
   "cell_type": "code",
   "execution_count": 2,
   "id": "48409208",
   "metadata": {},
   "outputs": [
    {
     "name": "stdout",
     "output_type": "stream",
     "text": [
      "Alo Mundo!\n"
     ]
    }
   ],
   "source": [
    "# Exercício 01 #\n",
    "\n",
    "print(\"Alo Mundo!\")"
   ]
  },
  {
   "cell_type": "code",
   "execution_count": 4,
   "id": "7521f01f",
   "metadata": {},
   "outputs": [
    {
     "name": "stdout",
     "output_type": "stream",
     "text": [
      "Diga um número: 100\n",
      "O número informado foi:  100\n"
     ]
    }
   ],
   "source": [
    "# Exercício 02 #\n",
    "\n",
    "numero = input(\"Diga um número: \")\n",
    "\n",
    "print(\"O número informado foi: \", numero)\n"
   ]
  },
  {
   "cell_type": "code",
   "execution_count": 12,
   "id": "6582714b",
   "metadata": {},
   "outputs": [
    {
     "name": "stdout",
     "output_type": "stream",
     "text": [
      "Diga um número: 8\n",
      "Diga outro número: 9\n",
      "A soma de  8  e  9  é:  17\n"
     ]
    }
   ],
   "source": [
    "# Exercício 03 #\n",
    "\n",
    "a = int(input(\"Diga um número: \"))\n",
    "b = int(input(\"Diga outro número: \"))\n",
    "print(\"A soma de \", a, \" e \", b, \" é: \", a + b)"
   ]
  },
  {
   "cell_type": "code",
   "execution_count": 16,
   "id": "62dd051f",
   "metadata": {},
   "outputs": [
    {
     "name": "stdout",
     "output_type": "stream",
     "text": [
      "Qual foi sua nota no 1º bimestre? 8\n",
      "Qual foi sua nota no 2º bimestre? 9\n",
      "Qual foi sua nota no 3º bimestre? 8\n",
      "Qual foi sua nota no 4º bimestre? 9\n",
      "A média de suas notas bimestrais é  8.5\n"
     ]
    }
   ],
   "source": [
    "# Exercício 04 #\n",
    "\n",
    "a = int(input(\"Qual foi sua nota no 1º bimestre? \"))\n",
    "b = int(input(\"Qual foi sua nota no 2º bimestre? \"))\n",
    "c = int(input(\"Qual foi sua nota no 3º bimestre? \"))\n",
    "d = int(input(\"Qual foi sua nota no 4º bimestre? \"))\n",
    "print(\"A média de suas notas bimestrais é \", (a + b + c + d) / 4)"
   ]
  },
  {
   "cell_type": "code",
   "execution_count": 22,
   "id": "6400182c",
   "metadata": {},
   "outputs": [
    {
     "name": "stdout",
     "output_type": "stream",
     "text": [
      "Diga um valor em metros para converter em centímetros: 24\n",
      "24 metros equivalem a 2400 centímetros.\n"
     ]
    }
   ],
   "source": [
    "# Exercício 05 #\n",
    "\n",
    "a = int(input(\"Diga um valor em metros para converter em centímetros: \"))\n",
    "if a == 1:\n",
    "    print(\"1 metro equivale a 100 centímetros\")\n",
    "else:\n",
    "    print(a, \"metros equivalem a\", a*100, \"centímetros.\")"
   ]
  },
  {
   "cell_type": "code",
   "execution_count": 25,
   "id": "606d1b23",
   "metadata": {},
   "outputs": [
    {
     "name": "stdout",
     "output_type": "stream",
     "text": [
      "Diga o raio do círculo para saber a área: 4\n",
      "Considerando o raio de 4.0 , a área do círulo é: 50.26548245743669\n"
     ]
    }
   ],
   "source": [
    "# Exercício 06 #\n",
    "\n",
    "import math\n",
    "a = float(input(\"Diga o raio do círculo para saber a área: \"))\n",
    "print(\"Considerando o raio de\", a,\", a área do círulo é:\", math.pi*(a**2))"
   ]
  },
  {
   "cell_type": "code",
   "execution_count": 27,
   "id": "8d88a7ce",
   "metadata": {},
   "outputs": [
    {
     "name": "stdout",
     "output_type": "stream",
     "text": [
      "Diga o valor para os lados de um quadrado: 4\n",
      "O quadrado de lado 4 tem área total de 16\n",
      "O dobro da área desse quadrado seria 32\n",
      "Cada lado desse novo quadrado teria 5.656854249492381\n"
     ]
    }
   ],
   "source": [
    "# Exercício 07 #\n",
    "\n",
    "lado = int(input(\"Diga o valor para os lados de um quadrado: \"))\n",
    "print(\"O quadrado de lado\", lado, \"tem área total de\", lado**2)\n",
    "ladoMaior = math.sqrt((lado**2)*2)\n",
    "print(\"O dobro da área desse quadrado seria\", (lado**2)*2)\n",
    "print(\"Cada lado desse novo quadrado teria\", ladoMaior)"
   ]
  },
  {
   "cell_type": "code",
   "execution_count": 31,
   "id": "2d9a46c7",
   "metadata": {},
   "outputs": [
    {
     "name": "stdout",
     "output_type": "stream",
     "text": [
      "Que valor você recebeu por hora trabalhada esse mês?10\n",
      "Quantas horas você trabalho esse mês?44\n",
      "Considerando que seu ganho seria de R$ 440.0 , você receberá o salário mínimo de R$1.100,00\n"
     ]
    }
   ],
   "source": [
    "# Exercício 08 #\n",
    "\n",
    "valorHora = float(input(\"Que valor você recebeu por hora trabalhada esse mês?\"))\n",
    "jornada = int(input(\"Quantas horas você trabalhou esse mês?\"))\n",
    "salario = valorHora * jornada\n",
    "salarioMinimo = 1100\n",
    "if salario > salarioMinimo:\n",
    "    print(\"Isso significa que seu salário esse mês será: R$\", jornada*valorHora)\n",
    "else:\n",
    "    print(\"Considerando que seu ganho seria de R$\", salario, \", você receberá o salário mínimo de R$1.100,00\")"
   ]
  },
  {
   "cell_type": "code",
   "execution_count": null,
   "id": "d799447d",
   "metadata": {},
   "outputs": [],
   "source": [
    "# Exercício 09 #\n",
    "\n",
    "tempF = float(input(\"Qual a temperatura em graus Fahrenheit?\"))\n",
    "tempC = 5 * ((tempF-32) / 9)\n",
    "print(tempF, \"graus Fahrenheit equivalem a\", tempC, \"graus Celsius.\")"
   ]
  },
  {
   "cell_type": "code",
   "execution_count": 36,
   "id": "e9e7af5f",
   "metadata": {},
   "outputs": [
    {
     "name": "stdout",
     "output_type": "stream",
     "text": [
      "Qual a temperatura em graus Celsius?-15\n",
      "-15.0 graus Celsius equivalem a 5.0 graus Fahrenheit.\n"
     ]
    }
   ],
   "source": [
    "# Exercício 10 #\n",
    "\n",
    "tempC = float(input(\"Qual a temperatura em graus Celsius?\"))\n",
    "tempF = (tempC *9/5) + 32\n",
    "print(tempC, \"graus Celsius equivalem a\", tempF, \"graus Fahrenheit.\")"
   ]
  },
  {
   "cell_type": "code",
   "execution_count": 37,
   "id": "7e296c6d",
   "metadata": {},
   "outputs": [
    {
     "name": "stdout",
     "output_type": "stream",
     "text": [
      "Diga um número inteiro: 8\n",
      "Diga outro número inteiro: 9\n",
      "Agora diga um número real: -5.3\n",
      "O produto do dobro do primeiro com metade do segundo é igual a 72.0\n",
      "A soma do triplo do primeiro com o terceiro é igual a 18.7\n",
      "O terceiro número elevado ao cubo é igual a -148.87699999999998\n"
     ]
    }
   ],
   "source": [
    "# Exercício 11 #\n",
    "\n",
    "a = int(input(\"Diga um número inteiro: \"))\n",
    "b = int(input(\"Diga outro número inteiro: \"))\n",
    "c = float(input(\"Agora diga um número real: \"))\n",
    "print(\"O produto do dobro do primeiro com metade do segundo é igual a\", (a*2)*(b/2))\n",
    "print(\"A soma do triplo do primeiro com o terceiro é igual a\", (a*3)+c)\n",
    "print(\"O terceiro número elevado ao cubo é igual a\", c**3)"
   ]
  },
  {
   "cell_type": "code",
   "execution_count": 39,
   "id": "114a9224",
   "metadata": {},
   "outputs": [
    {
     "name": "stdout",
     "output_type": "stream",
     "text": [
      "Diga sua altura:1.80\n",
      "O seu peso ideal é: 72.86000000000001\n"
     ]
    }
   ],
   "source": [
    "# Exercício 12 #\n",
    "\n",
    "h = float(input(\"Diga sua altura:\"))\n",
    "pesoIdeal = (72.7*h)-58\n",
    "print(\"O seu peso ideal é:\", pesoIdeal)"
   ]
  },
  {
   "cell_type": "code",
   "execution_count": 48,
   "id": "f0995914",
   "metadata": {},
   "outputs": [
    {
     "name": "stdout",
     "output_type": "stream",
     "text": [
      "Qual sua altura?1.80\n",
      "Se você é homem, seu peso ideal é  72.86000000000001\n",
      "Se você é mulher, seu peso ideal é  67.08\n"
     ]
    }
   ],
   "source": [
    "# Exercício 13 #\n",
    "\n",
    "h = float(input(\"Qual sua altura?\"))\n",
    "print(\"Se você é homem, seu peso ideal é \", (72.7*h) - 58)\n",
    "print(\"Se você é mulher, seu peso ideal é \", (62.1*h) - 44.7)"
   ]
  },
  {
   "cell_type": "code",
   "execution_count": 51,
   "id": "b53f7793",
   "metadata": {},
   "outputs": [
    {
     "name": "stdout",
     "output_type": "stream",
     "text": [
      "João, quantos quilos você pescou hoje? 48\n",
      "Ótimo João, você não excedeu o limite de pesca.\n"
     ]
    }
   ],
   "source": [
    "# Exercício 14 #\n",
    "\n",
    "peso = float(input(\"João, quantos quilos você pescou hoje? \"))\n",
    "excesso = peso-50\n",
    "multa = excesso*4\n",
    "\n",
    "if peso > 50:\n",
    "    print(\"João, com\", peso, \"quilos de pesca você excedeu o limite em\", excesso, \"quilos.\")\n",
    "    print(\"Isso significa uma multa de R$\", multa, \".\")\n",
    "else:\n",
    "    print(\"Ótimo João, você não excedeu o limite de pesca.\")"
   ]
  },
  {
   "cell_type": "code",
   "execution_count": 54,
   "id": "2f43a2a4",
   "metadata": {},
   "outputs": [
    {
     "name": "stdout",
     "output_type": "stream",
     "text": [
      "Que valor você recebeu por hora trabalhada esse mês?10\n",
      "Quantas horas você trabalhou esse mês?60\n",
      "No referido mês, seu salário bruto é de: 600.0\n",
      "Você será descontado em 11% de referente ao Imposto de Renda, num total de: R$ 66.0\n",
      "Você será descontado em 8% de referente ao INSS, num total de: R$ 48.0\n",
      "Você será descontado em 5% de referente ao Imposto Sindical, num total de: R$ 30.0\n",
      "Após os descontos, seu salário liquido seria R$ 456.0 . Portanto você receberá o salário de R$1.100,00\n"
     ]
    }
   ],
   "source": [
    "# Exercício 15 #\n",
    "\n",
    "valorHora = float(input(\"Que valor você recebeu por hora trabalhada esse mês?\"))\n",
    "jornada = int(input(\"Quantas horas você trabalhou esse mês?\"))\n",
    "salarioBruto = valorHora * jornada\n",
    "salarioMinimo = 1100\n",
    "ir = salarioBruto*0.11\n",
    "inss = salarioBruto*0.08\n",
    "sind = salarioBruto*0.05\n",
    "descontos = ir+inss+sind\n",
    "salarioLiquido = salarioBruto-descontos\n",
    "\n",
    "print(\"No referido mês, seu salário bruto é de:\", salarioBruto)\n",
    "print(\"Você será descontado em 11% de referente ao Imposto de Renda, num total de: R$\", ir)\n",
    "print(\"Você será descontado em 8% de referente ao INSS, num total de: R$\", inss)\n",
    "print(\"Você será descontado em 5% de referente ao Imposto Sindical, num total de: R$\", sind)\n",
    "if salarioLiquido < salarioMinimo:\n",
    "    print(\"Após os descontos, seu salário liquido seria R$\", salarioLiquido, \". Portanto você receberá o salário de R$1.100,00\")\n",
    "else:\n",
    "    print(\"Após os descontos, seu salário liquido será R$\", salarioLiquido, \".\")"
   ]
  },
  {
   "cell_type": "code",
   "execution_count": 67,
   "id": "a365260e",
   "metadata": {},
   "outputs": [
    {
     "name": "stdout",
     "output_type": "stream",
     "text": [
      "Qual a área, em m², a ser pintada?216\n",
      "Você precisará comprar 4 latas de tinta. O preço total dessa compra será: R$ 320\n"
     ]
    }
   ],
   "source": [
    "# Exercício 16 #\n",
    "\n",
    "area = float(input(\"Qual a área, em m², a ser pintada?\"))\n",
    "litros = float(area/3)\n",
    "if litros%18 == 0:\n",
    "    latas = int(litros/18)\n",
    "else:\n",
    "    latas = int((litros/18)+1)\n",
    "gasto = latas*80\n",
    "print(\"Você precisará comprar\", latas, \"latas de tinta.\")\n",
    "print(\"O preço total dessa compra será de R$\", gasto)"
   ]
  },
  {
   "cell_type": "code",
   "execution_count": 89,
   "id": "e92f40c5",
   "metadata": {},
   "outputs": [
    {
     "name": "stdout",
     "output_type": "stream",
     "text": [
      "Qual a área, em m², a ser pintada? 217\n",
      "Comprando apenas latas, precisará de 3 latas. Isso custará R$ 240.00 .\n",
      "Comprando apenas galões, precisará de 11 latas. Isso custará R$ 275.00 .\n",
      "Misturando e acrescendo 10% para evitar falta, você precisará de 2 latas e 2 galões. Isso custará R$ 210.00 .\n"
     ]
    }
   ],
   "source": [
    "# Exercício 17 #\n",
    "\n",
    "area = float(input(\"Qual a área, em m², a ser pintada? \"))\n",
    "litros = area/6\n",
    "\n",
    "if litros%18 == 0:\n",
    "    latas = int(litros/18)\n",
    "else:\n",
    "    latas = int((litros/18)+1)\n",
    "    \n",
    "if litros%3.6 == 0:\n",
    "    galoes = int(litros/3.6)\n",
    "else:\n",
    "    galoes = int((litros/3.6)+1)\n",
    "\n",
    "misturaLatas = int((litros*1.1)//18) \n",
    "misturaGaloes = int(((litros*1.1)%18)/3.6)\n",
    "if litros-(misturaLatas%18)+(misturaGaloes%3.6) != 0:\n",
    "    misturaGaloes += 1\n",
    "\n",
    "gastoLatas = int(latas*80)\n",
    "gastoGaloes = int(galoes*25)\n",
    "    \n",
    "print(\"Comprando apenas latas, precisará de\", latas, \"latas. Isso custará R$ %.2f\" % gastoLatas, \".\")\n",
    "print(\"Comprando apenas galões, precisará de\", galoes, \"latas. Isso custará R$ %.2f\" % gastoGaloes, \".\")\n",
    "print(\"Misturando e acrescendo 10% para evitar falta, você precisará de\", misturaLatas, \"latas e\", misturaGaloes, \"galões. Isso custará R$ %.2f\" % (misturaLatas*80 + misturaGaloes*25), \".\")"
   ]
  },
  {
   "cell_type": "code",
   "execution_count": 71,
   "id": "6099d853",
   "metadata": {},
   "outputs": [
    {
     "name": "stdout",
     "output_type": "stream",
     "text": [
      "Qual o tamanho do arquivo para download (em MB?)15\n",
      "Qual a velocidade do link de internet (em Mbps)?150\n",
      "O seu download vai demorar aproximadamente: 1.3333333333333333 minutos.\n"
     ]
    }
   ],
   "source": [
    "# Exercício 18 #\n",
    "\n",
    "tamanho = float(input(\"Qual o tamanho do arquivo para download (em MB?)\"))\n",
    "velocidade = int(input(\"Qual a velocidade do link de internet (em Mbps)?\"))\n",
    "download = velocidade*8/tamanho\n",
    "\n",
    "print(\"O seu download vai demorar aproximadamente:\", download/60, \"minutos.\")"
   ]
  }
 ],
 "metadata": {
  "kernelspec": {
   "display_name": "Python 3 (ipykernel)",
   "language": "python",
   "name": "python3"
  },
  "language_info": {
   "codemirror_mode": {
    "name": "ipython",
    "version": 3
   },
   "file_extension": ".py",
   "mimetype": "text/x-python",
   "name": "python",
   "nbconvert_exporter": "python",
   "pygments_lexer": "ipython3",
   "version": "3.10.0"
  }
 },
 "nbformat": 4,
 "nbformat_minor": 5
}
